{
 "metadata": {
  "name": "Untitled0"
 },
 "nbformat": 3,
 "nbformat_minor": 0,
 "worksheets": [
  {
   "cells": [
    {
     "cell_type": "code",
     "collapsed": false,
     "input": [
      "from __future__ import division\n",
      "import numpy as np\n",
      "from scipy import linalg, ndimage\n",
      "from pyeconomics.interpolation import pwl_interp"
     ],
     "language": "python",
     "metadata": {},
     "outputs": [],
     "prompt_number": 1
    },
    {
     "cell_type": "code",
     "collapsed": false,
     "input": [
      "# Defining the transition matrix.\n",
      "\n",
      "DurationUnempG = 1.5\n",
      "DurationUnempB = 2.5\n",
      "corr = .25\n",
      "\n",
      "UnempG = .04\n",
      "UnempB = .1\n",
      "Unemp = np.array([[UnempG], [UnempB]])\n",
      "\n",
      "DurationZG = 8\n",
      "DurationZB = 8\n",
      "\n",
      "pZG = 1 - 1 / DurationZG\n",
      "pZB = 1 - 1 / DurationZB\n",
      "\n",
      "PZ = np.array([[pZG, 1 - pZG], [1 - pZB, pZB]])\n",
      "\n",
      "p22 = 1 - 1 / DurationUnempG\n",
      "p21 = 1 - p22\n",
      "p11 = ((1 - UnempG) - UnempG * p21) / (1 - UnempG)\n",
      "\n",
      "P11 = np.array([[p11, 1 - p11], [p21, p22]])\n",
      "\n",
      "p22 = 1 - 1 / DurationUnempB\n",
      "p21 = 1 - p22\n",
      "p11 = ((1 - UnempB) - UnempB * p21) / (1 - UnempB)\n",
      "\n",
      "P00 = np.array([[p11, 1 - p11], [p21, p22]])\n",
      "\n",
      "p22 = (1 + corr) * p22\n",
      "p21 = 1 - p22\n",
      "p11 = ((1 - UnempB) - UnempG * p21) / (1 - UnempG)\n",
      "\n",
      "P10 = np.array([[p11, 1 - p11], [p21, p22]])\n",
      "\n",
      "p22 = (1 - corr) * (1 - 1 / DurationUnempG)\n",
      "p21 = 1 - p22\n",
      "p11 = ((1 - UnempG) - UnempB * p21) / (1 - UnempB)\n",
      "\n",
      "P01 = np.array([[p11,1 - p11], [p21, p22]])\n",
      "\n",
      "P = np.vstack((np.hstack((PZ[0, 0] * P11, PZ[0, 1] * P10)), \n",
      "               np.hstack((PZ[1, 0] * P01, PZ[1, 1] * P00))))\n"
     ],
     "language": "python",
     "metadata": {},
     "outputs": [],
     "prompt_number": 2
    },
    {
     "cell_type": "code",
     "collapsed": false,
     "input": [
      "# Model Parameters\n",
      "\n",
      "alpha  = 0.36             \n",
      "beta   = 0.99\n",
      "delta  = .025\n",
      "sigma  = 1\n",
      "phi    = 0\n",
      "Nk     = 250\n",
      "NK     = 12\n",
      "UI     = 0.15\n",
      "h      = 1 / (1 - UnempB)\n",
      "tau    = np.array([[UI * UnempG / (h * (1 - UnempG)), UI * UnempB / (h * (1 - UnempB))]])\n",
      "BiasCorrection = 1\n",
      "\n",
      "if BiasCorrection == 1:\n",
      "    de = 0.01257504725554\n",
      "    du = 0.03680683961167\n",
      "else:\n",
      "    de=0\n",
      "    du=0\n",
      "\n",
      "deltaZ = 0.01\n"
     ],
     "language": "python",
     "metadata": {},
     "outputs": [],
     "prompt_number": 3
    },
    {
     "cell_type": "code",
     "collapsed": false,
     "input": [
      "# Grid\n",
      "kmin   = phi\n",
      "kmax   = 200\n",
      "\n",
      "zg = 1 + deltaZ\n",
      "zb = 1 - deltaZ\n",
      "Z  = np.array([[zg], [zb]])\n",
      "ZZ = Z\n",
      "\n",
      "Kumin = 33\n",
      "Kemin = 35\n",
      "Kumax = 42.5\n",
      "Kemax = 43.5\n",
      "\n",
      "kptemp = np.linspace(0, np.log(kmax + 1 - kmin), Nk).reshape((Nk, 1))\n",
      "kp = np.exp(kptemp) - 1 + kmin\n",
      "\n",
      "Ke = np.linspace(Kemin, Kemax, NK).reshape((NK, 1))\n",
      "Ku = np.linspace(Kumin, Kumax, NK).reshape((NK, 1))"
     ],
     "language": "python",
     "metadata": {},
     "outputs": [],
     "prompt_number": 4
    },
    {
     "cell_type": "markdown",
     "metadata": {},
     "source": [
      "### Initial policy functions"
     ]
    },
    {
     "cell_type": "code",
     "collapsed": false,
     "input": [
      "# Individual policy function\n",
      "kpp1 = np.empty((2, 2, NK, Nk, NK))\n",
      "kpp2 = np.empty((2, 2, NK, Nk, NK))\n",
      "\n",
      "# multi-dimensional array indexing differs between NumPy and Matlab\n",
      "\n",
      "for ii in range(2):\n",
      "    for i in range(2):\n",
      "        for j in range(NK):\n",
      "            for l in range(NK):\n",
      "                kpp1[ii, i, l, :, j] = (1 - delta) * kp.flatten()\n",
      "                kpp2[ii, i, l, :, j] = .3 * (1 - delta) * kp.flatten()\n",
      "\n",
      "# Initial aggregate policy function (guess: unit root.)\n",
      "A = np.empty((2, 2, 2))\n",
      "A[0] = linalg.inv(np.array([[P11[0, 0], P11[1,0] * UnempG / (1 - UnempG)], \n",
      "                            [P11[0, 1] * (1 - UnempG) / UnempG, P11[1, 1]]]))\n",
      "A[1] = linalg.inv(np.array([[P00[0,0], P00[1,0] * UnempB / (1 - UnempB)], \n",
      "                            [P00[0, 1] * (1 - UnempB)/UnempB, P00[1, 1]]]))\n",
      "\n",
      "Kpeu = np.empty((2,1))\n",
      "Kpe  = np.empty((2, NK, NK))\n",
      "Kpu  = np.empty((2, NK, NK))\n",
      "for ii in range(2):\n",
      "    for i in range(NK):\n",
      "        for j in range(NK):\n",
      "            Kpeu = A[ii, :, :].dot(np.array([Ke[i], Ku[j]]))\n",
      "            Kpe[ii, i, j] = Kpeu[0]\n",
      "            Kpu[ii, i, j] = Kpeu[1]\n",
      "\n",
      "KpeN = np.empty((2, 2, NK, NK))\n",
      "KpeN[0, 0, :, :] = ((P11[0, 0] * (1 - UnempG) * Kpe[0, :, :] + \n",
      "                     P11[1, 0] * UnempG * Kpu[0, :, :]) / (1 - UnempG))\n",
      "KpeN[1, 0, :, :] = ((P01[0, 0] * (1 - UnempB) * Kpe[1, :, :] + \n",
      "                     P01[1, 0] * UnempB * Kpu[1, :, :]) / (1 - UnempG))\n",
      "KpeN[0, 1, :, :] = ((P10[0, 0] * (1 - UnempG) * Kpe[0, :, :] + \n",
      "                     P10[1, 0] * UnempG * Kpu[0, :, :]) / (1 - UnempB))\n",
      "KpeN[1, 1, :, :] = ((P00[0, 0] * (1 - UnempB) * Kpe[1, :, :] + \n",
      "                     P00[1, 0] * UnempB * Kpu[1, :, :]) / (1 - UnempB))\n",
      "\n",
      "KpuN = np.empty((2, 2, NK, NK))\n",
      "KpuN[0, 0, :, :] = ((P11[0, 1] * (1 - UnempG) * Kpe[0, :, :] + \n",
      "                     P11[1, 1] * UnempG * Kpu[0, :, :]) / (UnempG))\n",
      "KpuN[1, 0, :, :] = ((P01[0, 1] * (1 - UnempB) * Kpe[1, :, :] + \n",
      "                     P01[1, 1] * UnempB * Kpu[1, :, :]) / (UnempG))\n",
      "KpuN[0, 1, :, :] = ((P10[0, 1] * (1 - UnempG) * Kpe[0, :, :] + \n",
      "                     P10[1, 1] * UnempG * Kpu[0, :, :]) / (UnempB))\n",
      "KpuN[1, 1, :, :] = ((P00[0, 1] * (1 - UnempB) * Kpe[1, :, :] + \n",
      "                     P00[1, 1] * UnempB * Kpu[1, :, :]) / (UnempB))\n",
      "\n",
      "KpeN = np.minimum(KpeN, np.max(Ke))\n",
      "KpeN = np.maximum(KpeN, np.min(Ke))\n",
      "KpuN = np.minimum(KpuN, np.max(Ku))\n",
      "KpuN = np.maximum(KpuN, np.min(Ku))\n"
     ],
     "language": "python",
     "metadata": {},
     "outputs": [],
     "prompt_number": 7
    },
    {
     "cell_type": "code",
     "collapsed": false,
     "input": [
      "# Solving the individual's Euler equation with endogenous gridpoints.\n",
      "\n",
      "ConvCrit = 1\n",
      "s = 0\n",
      "tol = 1e-6\n",
      "\n",
      "print 'Solving the individual and aggregate problem until ConvCrit < %g' %tol\n",
      "\n",
      "while ConvCrit > tol:\n",
      "    s = s + 1\n",
      "    k = np.empty((2, 2, NK, Nk, NK))\n",
      "    \n",
      "    for i in range(2): # pages\n",
      "        for j in range(NK): # rows\n",
      "            for l in range(NK): # cols\n",
      "                Kp = (1 - Unemp[i, 0]) * Kpe[i, j, l] + Unemp[i, 0] * Kpu[i, j, l]\n",
      "                \n",
      "                Rp = np.array([(1 + alpha * zg * (Kp / (h * (1 - UnempG)))**(alpha - 1) - delta), \n",
      "                               (1 + alpha * zg * (Kp / (h * (1 - UnempG)))**(alpha - 1) - delta),\n",
      "                               (1 + alpha * zb * (Kp / (h * (1 - UnempB)))**(alpha - 1) - delta),\n",
      "                               (1 + alpha * zb * (Kp / (h * (1 - UnempB)))**(alpha - 1) - delta)])\n",
      "                \n",
      "                Wp = np.array([h * (1 - alpha) * zg * (Kp / (h * (1 - UnempG)))**alpha * (1 - tau[0, 0]),\n",
      "                              (1 - alpha) * zg * (Kp / (h * (1 - UnempG)))**alpha,\n",
      "                              h * (1 - alpha) * zb * (Kp / (h * (1 - UnempB)))**alpha * (1 - tau[0, 1]),\n",
      "                              (1 - alpha) * zb * (Kp / (h * (1 - UnempB)))**alpha])\n",
      "                \n",
      "                # correct dimensions are (Nk, 4)\n",
      "                RHS = np.hstack((beta * Rp[0] * (Rp[0] * kp + Wp[0] - kpp1[i, 0, l, :, j].reshape((Nk, 1)))**(-sigma),\n",
      "                                 beta * Rp[1] * (Rp[1] * kp + UI * Wp[1] - kpp2[i, 0, l, :, j].reshape((Nk, 1)))**(-sigma),\n",
      "                                 beta * Rp[2] * (Rp[2] * kp + Wp[2] - kpp1[i, 1, l, :, j].reshape((Nk, 1)))**(-sigma),\n",
      "                                 beta * Rp[3] * (Rp[3] * kp + UI * Wp[3] - kpp2[i, 1, l, :, j].reshape((Nk, 1)))**(-sigma)))\n",
      "                \n",
      "                C1 = (RHS.dot(P[2 * i, :].reshape((P.shape[0], 1))))**(-1 / sigma)\n",
      "                C2 = (RHS.dot(P[2 * i + 1, :].reshape((P.shape[0], 1))))**(-1/sigma)\n",
      "                \n",
      "                K = (1 - Unemp[i, 0]) * Ke[j, 0] + Unemp[i, 0] * Ku[l, 0]\n",
      "            \n",
      "                k[i, 0, l, :, j] = ((C1 - h * (1 - alpha) * Z[i, 0] * (K / (h * (1 - Unemp[i, 0])))**alpha * (1 - tau[0, i]) + kp).flatten() / \n",
      "                                    ((1 + alpha * Z[i, 0] * (K / (h * (1 - Unemp[i, 0])))**(alpha - 1) - delta)))\n",
      "                k[i, 1, l, :, j] = ((C2 - UI * (1 - alpha) * Z[i, 0] * (K / (h * (1 - Unemp[i, 0])))**alpha + kp).flatten() /\n",
      "                                    ((1 + alpha * Z[i, 0] * (K / (h * (1 - Unemp[i, 0])))**(alpha - 1) - delta)))\n",
      "    \n",
      "    \n",
      "    ConvCrit = 0\n",
      "\n",
      "    kpmat = np.empty((2, 2, NK, Nk, NK))\n",
      "    for i in range(2):\n",
      "        for j in range(NK):\n",
      "            for l in range(NK):\n",
      "                x  = k[i, 0, l, :, j]\n",
      "                Y  = kp\n",
      "                xi = kp\n",
      "                if np.min(k[i, 0, l, :,j]) > 0:\n",
      "                    x = np.append(0, x)\n",
      "                    Y = np.append(0, Y)\n",
      "                    kpmat[i, 0, l, :, j] = pwl_interp.pwl_interp_1d(x, Y, xi)\n",
      "                else:\n",
      "                    kpmat[i, 0, l, :, j] = pwl_interp.pwl_interp_1d(x, Y, xi)\n",
      "                \n",
      "                x  = k[i, 1, l, :, j]\n",
      "                Y  = kp\n",
      "                xi = kp\n",
      "                if np.min(k[i, 1, l, :, j]) > 0:\n",
      "                    x = np.append(0, x)\n",
      "                    Y = np.append(0, Y)\n",
      "                    kpmat[i, 1, l, :,j] = pwl_interp.pwl_interp_1d(x, Y, xi)\n",
      "                else:\n",
      "                    kpmat[i, 1, l, :, j] = pwl_interp.pwl_interp_1d(x, Y, xi)\n",
      "    \n",
      "    # Update the individual policy functions for t+1\n",
      "    kpp2New = np.empty((2, 2, NK, Nk, NK))\n",
      "    for ii in range(2):\n",
      "        for i in range(2):\n",
      "            for j in range(NK):\n",
      "                for l in range(NK):\n",
      "                    kpp1[ii, i, l, :, j] = pwl_interp.pwl_interp_3d(Ke, kp, Ku, kpmat[i, 0, :, :, :], \n",
      "                                                                    np.repeat(KpeN[ii, i, j, l], Nk), kp, np.repeat(KpuN[ii, i, j, l], Nk))\n",
      "                    kpp2New[ii, i, l, :, j] = pwl_interp.pwl_interp_3d(Ke, kp, Ku, kpmat[i, 1, :, :, :], \n",
      "                                                                       np.repeat(KpeN[ii, i, j, l], Nk), kp, np.repeat(KpuN[ii, i, j, l], Nk))\n",
      "    \n",
      "    # Update the convergence measure:\n",
      "    ConvCrit = np.max(np.abs(kpp2New[0, 0, 0, :, 0] - kpp2[0, 0, 0, :, 0]) / (1 + np.abs(kpp2[0, 0, 0, :, 0])))\n",
      "    \n",
      "    if s % 10 == 0:\n",
      "        print 'After %i iterations, the current value of ConvCrit is %g.' %(s, ConvCrit)\n",
      "     \n",
      "    kpp2 = kpp2New\n",
      "     \n",
      "    # Update the aggregate policy function using explicit aggregation:\n",
      "    KpeNew = np.empty((2, NK, NK))\n",
      "    KpuNew = np.empty((2, NK, NK))\n",
      "    for i in range(NK):\n",
      "        for j in range(NK):\n",
      "            for l in range(2):\n",
      "                x = kp\n",
      "                Y = kpmat[l, 0, j, :, i]\n",
      "                KpeNew[l, i, j] = pwl_interp.pwl_interp_1d(x, Y, Ke[i, 0]) + de\n",
      "                Y = kpmat[l, 1, j, :, i]\n",
      "                KpuNew[l, i, j] = pwl_interp.pwl_interp_1d(x, Y, Ku[j, 0]) + du\n",
      "\n",
      "    \"\"\"\n",
      "    # no idea what this conditional is doing!\n",
      "    if s > 200:\n",
      "        rho = 0;\n",
      "        Kpe = rho * Kpe + (1 - rho) * KpeNew\n",
      "        Kpu = rho * Kpu + (1 - rho) * KpuNew\n",
      "    \n",
      "        KpeN[0, 0, :, :] = ((P11[0, 0] * (1 - UnempG) * Kpe[0, :, :] + \n",
      "                             P11[1, 0] * UnempG * Kpu[0, :, :]) / (1 - UnempG))\n",
      "        KpeN[1, 0, :, :] = ((P01[0, 0] * (1 - UnempB) * Kpe[1, :, :] + \n",
      "                             P01[1, 0] * UnempB * Kpu[1, :, :]) / (1 - UnempG))\n",
      "        KpeN[0, 1, :, :] = ((P10[0, 0] * (1 - UnempG) * Kpe[0, :, :] + \n",
      "                             P10[1, 0] * UnempG * Kpu[0, :, :]) / (1 - UnempB))\n",
      "        KpeN[1, 1, :, :] = ((P00[0, 0] * (1 - UnempB) * Kpe[1, :, :] + \n",
      "                             P00[1, 0] * UnempB * Kpu[1, :, :]) / (1 - UnempB))\n",
      "\n",
      "        KpuN[0, 0, :, :] = ((P11[0, 1] * (1 - UnempG) * Kpe[0, :, :] + \n",
      "                             P11[1, 1] * UnempG * Kpu[0, :, :]) / (UnempG))\n",
      "        KpuN[1, 0, :, :] = ((P01[0, 1] * (1 - UnempB) * Kpe[1, :, :] + \n",
      "                             P01[1, 1] * UnempB * Kpu[1, :, :]) / (UnempG))\n",
      "        KpuN[0, 1, :, :] = ((P10[0, 1] * (1 - UnempG) * Kpe[0, :, :] + \n",
      "                             P10[1, 1] * UnempG * Kpu[0, :, :]) / (UnempB))\n",
      "        KpuN[1, 1, :, :] = ((P00[0, 1] * (1 - UnempB) * Kpe[1, :, :] + \n",
      "                             P00[1, 1] * UnempB * Kpu[1, :, :]) / (UnempB))\n",
      "        \n",
      "        KpeN = np.minimum(KpeN, np.max(Ke))\n",
      "        KpeN = np.maximum(KpeN, np.min(Ke))\n",
      "        KpuN = np.minimum(KpuN, np.max(Ku))\n",
      "        KpuN = np.maximum(KpuN, np.min(Ku))\n",
      "    \"\"\"\n",
      "\n",
      "print ('The individual and aggregate problem has converged. Simulation will ' + \n",
      "       'proceed until s=10000')"
     ],
     "language": "python",
     "metadata": {},
     "outputs": [
      {
       "output_type": "stream",
       "stream": "stdout",
       "text": [
        "Solving the individual and aggregate problem until ConvCrit < 1e-06\n",
        "After 10 iterations, the current value of ConvCrit is 0.00312536."
       ]
      },
      {
       "output_type": "stream",
       "stream": "stdout",
       "text": [
        "\n",
        "After 20 iterations, the current value of ConvCrit is 0.00123322."
       ]
      },
      {
       "output_type": "stream",
       "stream": "stdout",
       "text": [
        "\n",
        "After 30 iterations, the current value of ConvCrit is 0.000691565."
       ]
      },
      {
       "output_type": "stream",
       "stream": "stdout",
       "text": [
        "\n",
        "After 40 iterations, the current value of ConvCrit is 0.000459847."
       ]
      },
      {
       "output_type": "stream",
       "stream": "stdout",
       "text": [
        "\n",
        "After 50 iterations, the current value of ConvCrit is 0.000338621."
       ]
      },
      {
       "output_type": "stream",
       "stream": "stdout",
       "text": [
        "\n",
        "After 60 iterations, the current value of ConvCrit is 0.000267011."
       ]
      },
      {
       "output_type": "stream",
       "stream": "stdout",
       "text": [
        "\n",
        "After 70 iterations, the current value of ConvCrit is 0.00022107."
       ]
      },
      {
       "output_type": "stream",
       "stream": "stdout",
       "text": [
        "\n",
        "After 80 iterations, the current value of ConvCrit is 0.000189672."
       ]
      },
      {
       "output_type": "stream",
       "stream": "stdout",
       "text": [
        "\n",
        "After 90 iterations, the current value of ConvCrit is 0.000167462."
       ]
      },
      {
       "output_type": "stream",
       "stream": "stdout",
       "text": [
        "\n",
        "After 100 iterations, the current value of ConvCrit is 0.000151094."
       ]
      },
      {
       "output_type": "stream",
       "stream": "stdout",
       "text": [
        "\n",
        "After 110 iterations, the current value of ConvCrit is 0.000138587."
       ]
      },
      {
       "output_type": "stream",
       "stream": "stdout",
       "text": [
        "\n",
        "After 120 iterations, the current value of ConvCrit is 0.00012848."
       ]
      },
      {
       "output_type": "stream",
       "stream": "stdout",
       "text": [
        "\n",
        "After 130 iterations, the current value of ConvCrit is 0.000120032."
       ]
      },
      {
       "output_type": "stream",
       "stream": "stdout",
       "text": [
        "\n",
        "After 140 iterations, the current value of ConvCrit is 0.000112578."
       ]
      },
      {
       "output_type": "stream",
       "stream": "stdout",
       "text": [
        "\n",
        "After 150 iterations, the current value of ConvCrit is 0.000105948."
       ]
      },
      {
       "output_type": "stream",
       "stream": "stdout",
       "text": [
        "\n",
        "After 160 iterations, the current value of ConvCrit is 9.98948e-05."
       ]
      },
      {
       "output_type": "stream",
       "stream": "stdout",
       "text": [
        "\n",
        "After 170 iterations, the current value of ConvCrit is 9.412e-05."
       ]
      },
      {
       "output_type": "stream",
       "stream": "stdout",
       "text": [
        "\n",
        "After 180 iterations, the current value of ConvCrit is 8.86693e-05."
       ]
      },
      {
       "output_type": "stream",
       "stream": "stdout",
       "text": [
        "\n",
        "After 190 iterations, the current value of ConvCrit is 8.33462e-05."
       ]
      },
      {
       "output_type": "stream",
       "stream": "stdout",
       "text": [
        "\n",
        "After 200 iterations, the current value of ConvCrit is 7.81768e-05."
       ]
      },
      {
       "output_type": "stream",
       "stream": "stdout",
       "text": [
        "\n",
        "After 210 iterations, the current value of ConvCrit is 7.31519e-05."
       ]
      },
      {
       "output_type": "stream",
       "stream": "stdout",
       "text": [
        "\n",
        "After 220 iterations, the current value of ConvCrit is 6.82664e-05."
       ]
      },
      {
       "output_type": "stream",
       "stream": "stdout",
       "text": [
        "\n",
        "After 230 iterations, the current value of ConvCrit is 6.36017e-05."
       ]
      },
      {
       "output_type": "stream",
       "stream": "stdout",
       "text": [
        "\n",
        "After 240 iterations, the current value of ConvCrit is 5.90936e-05."
       ]
      },
      {
       "output_type": "stream",
       "stream": "stdout",
       "text": [
        "\n",
        "After 250 iterations, the current value of ConvCrit is 5.47896e-05."
       ]
      },
      {
       "output_type": "stream",
       "stream": "stdout",
       "text": [
        "\n",
        "After 260 iterations, the current value of ConvCrit is 5.07028e-05."
       ]
      },
      {
       "output_type": "stream",
       "stream": "stdout",
       "text": [
        "\n",
        "After 270 iterations, the current value of ConvCrit is 4.68544e-05."
       ]
      },
      {
       "output_type": "stream",
       "stream": "stdout",
       "text": [
        "\n",
        "After 280 iterations, the current value of ConvCrit is 4.32248e-05."
       ]
      },
      {
       "output_type": "stream",
       "stream": "stdout",
       "text": [
        "\n",
        "After 290 iterations, the current value of ConvCrit is 3.98305e-05."
       ]
      },
      {
       "output_type": "stream",
       "stream": "stdout",
       "text": [
        "\n",
        "After 300 iterations, the current value of ConvCrit is 3.66573e-05."
       ]
      },
      {
       "output_type": "stream",
       "stream": "stdout",
       "text": [
        "\n",
        "After 310 iterations, the current value of ConvCrit is 3.37013e-05."
       ]
      },
      {
       "output_type": "stream",
       "stream": "stdout",
       "text": [
        "\n",
        "After 320 iterations, the current value of ConvCrit is 3.09478e-05."
       ]
      },
      {
       "output_type": "stream",
       "stream": "stdout",
       "text": [
        "\n",
        "After 330 iterations, the current value of ConvCrit is 2.83923e-05."
       ]
      },
      {
       "output_type": "stream",
       "stream": "stdout",
       "text": [
        "\n",
        "After 340 iterations, the current value of ConvCrit is 2.60255e-05."
       ]
      },
      {
       "output_type": "stream",
       "stream": "stdout",
       "text": [
        "\n",
        "After 350 iterations, the current value of ConvCrit is 2.38424e-05."
       ]
      },
      {
       "output_type": "stream",
       "stream": "stdout",
       "text": [
        "\n",
        "After 360 iterations, the current value of ConvCrit is 2.18218e-05."
       ]
      },
      {
       "output_type": "stream",
       "stream": "stdout",
       "text": [
        "\n",
        "After 370 iterations, the current value of ConvCrit is 1.99579e-05."
       ]
      },
      {
       "output_type": "stream",
       "stream": "stdout",
       "text": [
        "\n",
        "After 380 iterations, the current value of ConvCrit is 1.82447e-05."
       ]
      },
      {
       "output_type": "stream",
       "stream": "stdout",
       "text": [
        "\n",
        "After 390 iterations, the current value of ConvCrit is 1.66657e-05."
       ]
      },
      {
       "output_type": "stream",
       "stream": "stdout",
       "text": [
        "\n",
        "After 400 iterations, the current value of ConvCrit is 1.52159e-05."
       ]
      },
      {
       "output_type": "stream",
       "stream": "stdout",
       "text": [
        "\n",
        "After 410 iterations, the current value of ConvCrit is 1.38842e-05."
       ]
      },
      {
       "output_type": "stream",
       "stream": "stdout",
       "text": [
        "\n",
        "After 420 iterations, the current value of ConvCrit is 1.26635e-05."
       ]
      },
      {
       "output_type": "stream",
       "stream": "stdout",
       "text": [
        "\n",
        "After 430 iterations, the current value of ConvCrit is 1.15468e-05."
       ]
      },
      {
       "output_type": "stream",
       "stream": "stdout",
       "text": [
        "\n",
        "After 440 iterations, the current value of ConvCrit is 1.05246e-05."
       ]
      },
      {
       "output_type": "stream",
       "stream": "stdout",
       "text": [
        "\n",
        "After 450 iterations, the current value of ConvCrit is 9.59209e-06."
       ]
      },
      {
       "output_type": "stream",
       "stream": "stdout",
       "text": [
        "\n",
        "After 460 iterations, the current value of ConvCrit is 8.74116e-06."
       ]
      },
      {
       "output_type": "stream",
       "stream": "stdout",
       "text": [
        "\n",
        "After 470 iterations, the current value of ConvCrit is 7.96628e-06."
       ]
      },
      {
       "output_type": "stream",
       "stream": "stdout",
       "text": [
        "\n",
        "After 480 iterations, the current value of ConvCrit is 7.26118e-06."
       ]
      },
      {
       "output_type": "stream",
       "stream": "stdout",
       "text": [
        "\n",
        "After 490 iterations, the current value of ConvCrit is 6.62035e-06."
       ]
      },
      {
       "output_type": "stream",
       "stream": "stdout",
       "text": [
        "\n",
        "After 500 iterations, the current value of ConvCrit is 6.03818e-06."
       ]
      },
      {
       "output_type": "stream",
       "stream": "stdout",
       "text": [
        "\n",
        "After 510 iterations, the current value of ConvCrit is 5.50957e-06."
       ]
      },
      {
       "output_type": "stream",
       "stream": "stdout",
       "text": [
        "\n",
        "After 520 iterations, the current value of ConvCrit is 5.0294e-06."
       ]
      },
      {
       "output_type": "stream",
       "stream": "stdout",
       "text": [
        "\n",
        "After 530 iterations, the current value of ConvCrit is 4.59305e-06."
       ]
      },
      {
       "output_type": "stream",
       "stream": "stdout",
       "text": [
        "\n",
        "After 540 iterations, the current value of ConvCrit is 4.19628e-06."
       ]
      },
      {
       "output_type": "stream",
       "stream": "stdout",
       "text": [
        "\n",
        "After 550 iterations, the current value of ConvCrit is 3.83525e-06."
       ]
      },
      {
       "output_type": "stream",
       "stream": "stdout",
       "text": [
        "\n",
        "After 560 iterations, the current value of ConvCrit is 3.50645e-06."
       ]
      },
      {
       "output_type": "stream",
       "stream": "stdout",
       "text": [
        "\n",
        "After 570 iterations, the current value of ConvCrit is 3.20674e-06."
       ]
      },
      {
       "output_type": "stream",
       "stream": "stdout",
       "text": [
        "\n",
        "After 580 iterations, the current value of ConvCrit is 2.93332e-06."
       ]
      },
      {
       "output_type": "stream",
       "stream": "stdout",
       "text": [
        "\n",
        "After 590 iterations, the current value of ConvCrit is 2.68368e-06."
       ]
      },
      {
       "output_type": "stream",
       "stream": "stdout",
       "text": [
        "\n",
        "After 600 iterations, the current value of ConvCrit is 2.45557e-06."
       ]
      },
      {
       "output_type": "stream",
       "stream": "stdout",
       "text": [
        "\n",
        "After 610 iterations, the current value of ConvCrit is 2.247e-06."
       ]
      },
      {
       "output_type": "stream",
       "stream": "stdout",
       "text": [
        "\n",
        "After 620 iterations, the current value of ConvCrit is 2.05619e-06."
       ]
      },
      {
       "output_type": "stream",
       "stream": "stdout",
       "text": [
        "\n",
        "After 630 iterations, the current value of ConvCrit is 1.88158e-06."
       ]
      },
      {
       "output_type": "stream",
       "stream": "stdout",
       "text": [
        "\n",
        "After 640 iterations, the current value of ConvCrit is 1.7217e-06."
       ]
      },
      {
       "output_type": "stream",
       "stream": "stdout",
       "text": [
        "\n",
        "After 650 iterations, the current value of ConvCrit is 1.57528e-06."
       ]
      },
      {
       "output_type": "stream",
       "stream": "stdout",
       "text": [
        "\n",
        "After 660 iterations, the current value of ConvCrit is 1.44112e-06."
       ]
      },
      {
       "output_type": "stream",
       "stream": "stdout",
       "text": [
        "\n",
        "After 670 iterations, the current value of ConvCrit is 1.31822e-06."
       ]
      },
      {
       "output_type": "stream",
       "stream": "stdout",
       "text": [
        "\n",
        "After 680 iterations, the current value of ConvCrit is 1.20561e-06."
       ]
      },
      {
       "output_type": "stream",
       "stream": "stdout",
       "text": [
        "\n",
        "After 690 iterations, the current value of ConvCrit is 1.10245e-06."
       ]
      },
      {
       "output_type": "stream",
       "stream": "stdout",
       "text": [
        "\n",
        "After 700 iterations, the current value of ConvCrit is 1.00794e-06."
       ]
      },
      {
       "output_type": "stream",
       "stream": "stdout",
       "text": [
        "\n",
        "The individual and aggregate problem has converged. Simulation will proceed until s=10000"
       ]
      },
      {
       "output_type": "stream",
       "stream": "stdout",
       "text": [
        "\n"
       ]
      }
     ],
     "prompt_number": 8
    },
    {
     "cell_type": "code",
     "collapsed": false,
     "input": [
      "# Initial Distribution\n",
      "\n",
      "pdistyoung = np.loadtxt('pdistyoung.txt')\n",
      "InDist = pdistyoung[:, 1:]\n",
      "\n",
      "NDist = len(InDist)\n",
      "\n",
      "kk = np.linspace(0, kmax, NDist)\n",
      "\n",
      "Pe = InDist[:, 1]\n",
      "Pu = InDist[:, 0]\n",
      "\n",
      "# Exogenous shocks\n",
      "\n",
      "Z    = np.loadtxt('Z.txt', dtype='int')\n",
      "ZSim = -Z + 2 # Python indexing starts at 0!\n",
      "\n",
      "KeSim = np.zeros(Z.shape)\n",
      "KuSim = np.zeros(Z.shape)\n",
      "\n",
      "KeSim[0] = kk.dot(Pe)\n",
      "KuSim[0] = kk.dot(Pu)\n",
      "\n",
      "# make sure to use copy?\n",
      "KeImp = KeSim.copy()\n",
      "KuImp = KuSim.copy()\n",
      "\n",
      "KeFit = KeSim.copy()\n",
      "KuFit = KuSim.copy()\n",
      "\n",
      "ind_switch = np.loadtxt('ind_switch.txt')\n",
      "ind_switch = -ind_switch + 2 # careful about indexing!\n",
      "Kind = np.zeros(Z.shape)\n",
      "Cind = np.zeros(len(Z) - 1)\n",
      "Kind[0] = 43\n",
      "percentile = np.zeros((len(Z), 6))\n",
      "moments    = np.zeros((len(Z), 5))\n",
      "momentse   = np.zeros((len(Z), 5))\n",
      "momentsu   = np.zeros((len(Z), 5))\n",
      "Rvec       = np.zeros((len(Z), 1))\n",
      "Wvec       = np.zeros((len(Z), 1))\n"
     ],
     "language": "python",
     "metadata": {},
     "outputs": [],
     "prompt_number": 113
    },
    {
     "cell_type": "code",
     "collapsed": false,
     "input": [
      "# Let's rock'n'roll\n",
      "\n",
      "s = 0\n",
      "SimLength = len(Z) - 1\n",
      "for i in range(SimLength):\n",
      "    \n",
      "    # remember to transpose 2D array before passing as arg...inputs needs to be Fortran contiguous!\n",
      "    KpeSim = pwl_interp.pwl_interp_2d(Ku, Ke, Kpe[ZSim[i], :, :].T, KuSim[i], KeSim[i])\n",
      "    KpuSim = pwl_interp.pwl_interp_2d(Ku, Ke, Kpu[ZSim[i], :, :].T, KuSim[i], KeSim[i])\n",
      "\n",
      "    KpeFit = pwl_interp.pwl_interp_2d(Ku, Ke, Kpe[ZSim[i], :, :].T, KuImp[i], KeImp[i])\n",
      "    KpuFit = pwl_interp.pwl_interp_2d(Ku, Ke, Kpu[ZSim[i], :, :].T, KuImp[i], KeImp[i])\n",
      "\n",
      "    # why do I not need to bother making 3D array Fortran contiguous?\n",
      "    kprimeE = pwl_interp.pwl_interp_3d(Ke, kp, Ku, kpmat[ZSim[i], 0, :,:,:], \n",
      "                                       np.repeat(kk.dot(Pe), NDist), kk, np.repeat(kk.dot(Pu), NDist))    \n",
      "    kprimeU = pwl_interp.pwl_interp_3d(Ke, kp, Ku, kpmat[ZSim[i], 1, :,:,:], \n",
      "                                       np.repeat(kk.dot(Pe), NDist), kk, np.repeat(kk.dot(Pu), NDist))\n",
      "   \n",
      "    Kind[i + 1] = pwl_interp.pwl_interp_3d(Ke, kp, Ku, kpmat[ZSim[i], ind_switch[i], :, :, :], kk.dot(Pe), Kind[i], kk.dot(Pu))\n",
      "    \n",
      "    K = (1 - Unemp[ZSim[i], 0]) * KeImp[i] + Unemp[ZSim[i], 0] * KuImp[i]\n",
      "    r = 1 + alpha * ZZ[ZSim[i], 0] * (K / (h * (1 - Unemp[ZSim[i], 0])))**(alpha - 1) - delta\n",
      "    w = (1 - alpha) * ZZ[ZSim[i], 0] * (K / (h * (1 - Unemp[ZSim[i], 0])))**alpha\n",
      "\n",
      "    # not sure what is going on with ind_switch\n",
      "    Cind[i] = r * Kind[i] + (1 - ind_switch[i]) * h * w * (1 - tau[0, ZSim[i]]) + ind_switch[i] * w * UI - Kind[i + 1]\n",
      "    Rvec[i] = r\n",
      "    Wvec[i] = w\n",
      "    \n",
      "    kprimeE = np.minimum(kprimeE, np.max(kk))\n",
      "    kprimeE = np.maximum(kprimeE, np.min(kk))\n",
      "\n",
      "    kprimeU = np.minimum(kprimeU, np.max(kk))\n",
      "    kprimeU = np.maximum(kprimeU, np.min(kk))\n",
      "\n",
      "    P = (1 - Unemp[ZSim[i], 0]) * Pe + Unemp[ZSim[i], 0] * Pu\n",
      "\n",
      "    # This section computes percentiles of something...not sure what!    \n",
      "    \n",
      "    CP = np.cumsum(P)\n",
      "    IP5 = np.nonzero(CP < 0.05)[0][-1] # occasionally this is empty!\n",
      "    percentile[i, 0] = (0.05 - CP[IP5 + 1]) / (CP[IP5] - CP[IP5 + 1]) * kk[IP5] + (1 - (0.05 - CP[IP5 + 1]) / (CP[IP5] - CP[IP5 + 1])) * kk[IP5 + 1] \n",
      "    IP10 = np.nonzero(CP < 0.1)[0][-1]\n",
      "    percentile[i, 1] = (0.1 - CP[IP10 + 1]) / (CP[IP10] - CP[IP10 + 1]) * kk[IP10] + (1 - (0.1 - CP[IP10 + 1]) / (CP[IP10] - CP[IP10 + 1])) * kk[IP10 + 1]\n",
      "    \n",
      "    CPe = np.cumsum(Pe)\n",
      "    IPe5 = np.nonzero(CPe < 0.05)[0][-1] # occasionally this is empty!\n",
      "    percentile[i, 2] = (0.05 - CPe[IPe5 + 1]) / (CPe[IPe5] - CPe[IPe5 + 1]) * kk[IPe5] + (1 - (0.05 - CPe[IPe5 + 1]) / (CPe[IPe5] - CPe[IPe5 + 1])) * kk[IPe5 + 1]\n",
      "    IPe10 = np.nonzero(CPe < 0.1)[0][-1]\n",
      "    percentile[i, 3] = (0.1 - CPe[IPe10 + 1]) / (CPe[IPe10] - CPe[IPe10 + 1]) * kk[IPe10] + (1 - (0.1 - CPe[IPe10 + 1]) / (CPe[IPe10] - CPe[IPe10 + 1])) * kk[IPe10 + 1]\n",
      "\n",
      "    CPu = np.cumsum(Pu);\n",
      "    IPu5 = np.nonzero(CPu < 0.05)[0][-1] # occasionally this is empty!\n",
      "    percentile[i, 4] = (0.05 - CPu[IPu5 + 1]) / (CPu[IPu5] - CPu[IPu5 + 1]) * kk[IPu5] + (1 - (0.05 - CPu[IPu5 + 1]) / (CPu[IPu5] - CPu[IPu5 + 1])) * kk[IPu5 + 1]\n",
      "    IPu10 = np.nonzero(CPu < 0.1)[0][-1]\n",
      "    percentile[i, 5] = (0.1 - CPu[IPu10 + 1]) / (CPu[IPu10] - CPu[IPu10 + 1]) * kk[IPu10] + (1 - (0.1 - CPu[IPu10 + 1]) / (CPu[IPu10] - CPu[IPu10 + 1])) * kk[IPu10 + 1]\n",
      "    \n",
      "    moments[i, 0]  = kk.dot(P)\n",
      "    momentse[i, 0] = kk.dot(Pe)\n",
      "    momentsu[i, 0] = kk.dot(Pu)\n",
      "    \n",
      "    for j in range(2, 5):\n",
      "        moments[i, j] = (((kk**j).T).dot(P))**(1 / j) / moments[i, 0]\n",
      "        momentse[i, j] = (((kk**j).T).dot(Pe))**(1 / j) / momentse[i, 0]\n",
      "        momentsu[i, j] = (((kk**j).T).dot(Pu))**(1 / j) / momentsu[i, 0]\n",
      "\n",
      "    Ie = np.empty(NDist, dtype='int')\n",
      "    Iu = np.empty(NDist, dtype='int')\n",
      "    \n",
      "    for j in range(NDist):\n",
      "        Ie[j] = np.nonzero(kprimeE[j] >= kk)[0][-1]\n",
      "        Iu[j] = np.nonzero(kprimeU[j] >= kk)[0][-1]\n",
      "\n",
      "    # careful with indexing!\n",
      "    Ie = np.minimum(Ie, NDist - 2)\n",
      "    Iu = np.minimum(Iu, NDist - 2)\n",
      "\n",
      "    rhoE = (kprimeE - kk[Ie + 1]) / (kk[Ie] - kk[Ie + 1])\n",
      "    rhoU = (kprimeU - kk[Iu + 1]) / (kk[Iu] - kk[Iu + 1])\n",
      "\n",
      "    Le1 = np.zeros((NDist, 1))\n",
      "    Le2 = np.zeros((NDist, 1))\n",
      "    Lu1 = np.zeros((NDist, 1))\n",
      "    Lu2 = np.zeros((NDist, 1))\n",
      "\n",
      "    for jj in range(NDist):\n",
      "        Le1[Ie[jj]]     = rhoE[jj] * Pe[jj] + Le1[Ie[jj]]\n",
      "        Le2[Ie[jj] + 1] = (1 - rhoE[jj]) * Pe[jj] + Le2[Ie[jj] + 1]\n",
      "        Lu1[Iu[jj]]     = rhoU[jj] * Pu[jj] + Lu1[Iu[jj]]\n",
      "        Lu2[Iu[jj] + 1] = (1 - rhoU[jj]) * Pu[jj] + Lu2[Iu[jj] + 1]\n",
      " \n",
      "    PPe = Le1 + Le2\n",
      "    PPu = Lu1 + Lu2\n",
      "\n",
      "    if ZSim[i] == 0:\n",
      "        if ZSim[i + 1] == 0:\n",
      "            KeSim[i + 1] = (P11[0, 0] * (1-UnempG) * KpeSim + P11[1, 0] * UnempG * KpuSim) / (1 - UnempG)\n",
      "            KuSim[i + 1] = (P11[0, 1] * (1-UnempG) * KpeSim + P11[1, 1] * UnempG * KpuSim) / UnempG\n",
      "            KeFit[i + 1] = (P11[0, 0] * (1-UnempG) * KpeFit + P11[1, 0] * UnempG * KpuFit) / (1 - UnempG)\n",
      "            KuFit[i + 1] = (P11[0, 1] * (1-UnempG) * KpeFit + P11[1, 1] * UnempG * KpuFit) / UnempG\n",
      "            Pe           = (P11[0, 0] * (1-UnempG) * PPe + P11[1, 0] * UnempG * PPu) / (1 - UnempG)\n",
      "            Pu           = (P11[0, 1] * (1-UnempG) * PPe + P11[1, 1] * UnempG * PPu) / UnempG\n",
      "            KeImp[i + 1] = kk.dot(Pe)\n",
      "            KuImp[i + 1] = kk.dot(Pu)\n",
      "        \n",
      "        if ZSim[i + 1] == 1:\n",
      "            KeSim[i + 1] = (P10[0, 0] * (1 - UnempG) * KpeSim + P10[1, 0] * UnempG * KpuSim) / (1 - UnempB)\n",
      "            KuSim[i + 1] = (P10[0, 1] * (1 - UnempG) * KpeSim + P10[1, 1] * UnempG * KpuSim) / UnempB\n",
      "            KeFit[i + 1] = (P10[0, 0] * (1 - UnempG) * KpeFit + P10[1, 0] * UnempG * KpuFit) / (1 - UnempB)\n",
      "            KuFit[i + 1] = (P10[0, 1] * (1 - UnempG) * KpeFit + P10[1, 1] * UnempG * KpuFit) / UnempB\n",
      "            Pe           = (P10[0, 0] * (1 - UnempG) * PPe + P10[1, 0] * UnempG * PPu) / (1 - UnempB)\n",
      "            Pu           = (P10[0, 1] * (1 - UnempG) * PPe + P10[1, 1] * UnempG * PPu) / UnempB\n",
      "            KeImp[i + 1] = kk.dot(Pe)\n",
      "            KuImp[i + 1] = kk.dot(Pu)\n",
      "\n",
      "    if ZSim[i] == 1:\n",
      "        if ZSim[i + 1] == 0:\n",
      "            KeSim[i + 1] = (P01[0, 0] * (1 - UnempB) * KpeSim + P01[1, 0] * UnempB * KpuSim) / (1 - UnempG)\n",
      "            KuSim[i + 1] = (P01[0, 1] * (1 - UnempB) * KpeSim + P01[1, 1] * UnempB * KpuSim) / UnempG\n",
      "            KeFit[i + 1] = (P01[0, 0] * (1 - UnempB) * KpeFit + P01[1, 0] * UnempB * KpuFit) / (1 - UnempG)\n",
      "            KuFit[i + 1] = (P01[0, 1] * (1 - UnempB) * KpeFit + P01[1, 1] * UnempB * KpuFit) / UnempG \n",
      "            Pe           = (P01[0, 0] * (1 - UnempB) * PPe + P01[1, 0] * UnempB * PPu) / (1 - UnempG)\n",
      "            Pu           = (P01[0, 1] * (1 - UnempB) * PPe + P01[1, 1] * UnempB * PPu) / UnempG\n",
      "            KeImp[i + 1] = kk.dot(Pe)\n",
      "            KuImp[i + 1] = kk.dot(Pu)\n",
      "        \n",
      "        if ZSim[i + 1] == 1:\n",
      "            KeSim[i + 1] = (P00[0, 0] * (1 - UnempB) * KpeSim + P00[1, 0] * UnempB * KpuSim) / (1 - UnempB)\n",
      "            KuSim[i + 1] = (P00[0, 1] * (1 - UnempB) * KpeSim + P00[1, 1] * UnempB * KpuSim) / UnempB\n",
      "            KeFit[i + 1] = (P00[0, 0] * (1 - UnempB) * KpeFit + P00[1, 0] * UnempB * KpuFit) / (1 - UnempB)\n",
      "            KuFit[i + 1] = (P00[0, 1] * (1 - UnempB) * KpeFit + P00[1, 1] * UnempB * KpuFit) / UnempB\n",
      "            Pe           = (P00[0, 0] * (1 - UnempB) * PPe + P00[1, 0] * UnempB * PPu) / (1 - UnempB)\n",
      "            Pu           = (P00[0, 1] * (1 - UnempB) * PPe + P00[1, 1] * UnempB * PPu) / UnempB\n",
      "            KeImp[i + 1] = kk.dot(Pe)\n",
      "            KuImp[i + 1] = kk.dot(Pu)\n",
      "            \n",
      "    # increment the counter\n",
      "    s = s + 1\n",
      "    if s % 100 == 0:\n",
      "        print \"Number of iterations:\", s\n",
      "    "
     ],
     "language": "python",
     "metadata": {},
     "outputs": [
      {
       "output_type": "stream",
       "stream": "stdout",
       "text": [
        "s = 100\n",
        "s ="
       ]
      },
      {
       "output_type": "stream",
       "stream": "stdout",
       "text": [
        " 200\n",
        "s ="
       ]
      },
      {
       "output_type": "stream",
       "stream": "stdout",
       "text": [
        " 300\n",
        "s ="
       ]
      },
      {
       "output_type": "stream",
       "stream": "stdout",
       "text": [
        " 400\n",
        "s ="
       ]
      },
      {
       "output_type": "stream",
       "stream": "stdout",
       "text": [
        " 500\n",
        "s ="
       ]
      },
      {
       "output_type": "stream",
       "stream": "stdout",
       "text": [
        " 600\n",
        "s ="
       ]
      },
      {
       "output_type": "stream",
       "stream": "stdout",
       "text": [
        " 700\n",
        "s ="
       ]
      },
      {
       "output_type": "stream",
       "stream": "stdout",
       "text": [
        " 800\n",
        "s ="
       ]
      },
      {
       "output_type": "stream",
       "stream": "stdout",
       "text": [
        " 900\n",
        "s ="
       ]
      },
      {
       "output_type": "stream",
       "stream": "stdout",
       "text": [
        " 1000\n",
        "s ="
       ]
      },
      {
       "output_type": "stream",
       "stream": "stdout",
       "text": [
        " 1100\n",
        "s ="
       ]
      },
      {
       "output_type": "stream",
       "stream": "stdout",
       "text": [
        " 1200\n",
        "s ="
       ]
      },
      {
       "output_type": "stream",
       "stream": "stdout",
       "text": [
        " 1300\n",
        "s ="
       ]
      },
      {
       "output_type": "stream",
       "stream": "stdout",
       "text": [
        " 1400\n",
        "s ="
       ]
      },
      {
       "output_type": "stream",
       "stream": "stdout",
       "text": [
        " 1500\n",
        "s ="
       ]
      },
      {
       "output_type": "stream",
       "stream": "stdout",
       "text": [
        " 1600\n",
        "s ="
       ]
      },
      {
       "output_type": "stream",
       "stream": "stdout",
       "text": [
        " 1700\n",
        "s ="
       ]
      },
      {
       "output_type": "stream",
       "stream": "stdout",
       "text": [
        " 1800\n",
        "s ="
       ]
      },
      {
       "output_type": "stream",
       "stream": "stdout",
       "text": [
        " 1900\n",
        "s ="
       ]
      },
      {
       "output_type": "stream",
       "stream": "stdout",
       "text": [
        " 2000\n",
        "s ="
       ]
      },
      {
       "output_type": "stream",
       "stream": "stdout",
       "text": [
        " 2100\n",
        "s ="
       ]
      },
      {
       "output_type": "stream",
       "stream": "stdout",
       "text": [
        " 2200\n",
        "s ="
       ]
      },
      {
       "output_type": "stream",
       "stream": "stdout",
       "text": [
        " 2300\n",
        "s ="
       ]
      },
      {
       "output_type": "stream",
       "stream": "stdout",
       "text": [
        " 2400\n",
        "s ="
       ]
      },
      {
       "output_type": "stream",
       "stream": "stdout",
       "text": [
        " 2500\n",
        "s ="
       ]
      },
      {
       "output_type": "stream",
       "stream": "stdout",
       "text": [
        " 2600\n",
        "s ="
       ]
      },
      {
       "output_type": "stream",
       "stream": "stdout",
       "text": [
        " 2700\n",
        "s ="
       ]
      },
      {
       "output_type": "stream",
       "stream": "stdout",
       "text": [
        " 2800\n",
        "s ="
       ]
      },
      {
       "output_type": "stream",
       "stream": "stdout",
       "text": [
        " 2900\n",
        "s ="
       ]
      },
      {
       "output_type": "stream",
       "stream": "stdout",
       "text": [
        " 3000\n",
        "s ="
       ]
      },
      {
       "output_type": "stream",
       "stream": "stdout",
       "text": [
        " 3100\n",
        "s ="
       ]
      },
      {
       "output_type": "stream",
       "stream": "stdout",
       "text": [
        " 3200\n",
        "s ="
       ]
      },
      {
       "output_type": "stream",
       "stream": "stdout",
       "text": [
        " 3300\n",
        "s ="
       ]
      },
      {
       "output_type": "stream",
       "stream": "stdout",
       "text": [
        " 3400\n",
        "s ="
       ]
      },
      {
       "output_type": "stream",
       "stream": "stdout",
       "text": [
        " 3500\n",
        "s ="
       ]
      },
      {
       "output_type": "stream",
       "stream": "stdout",
       "text": [
        " 3600\n",
        "s ="
       ]
      },
      {
       "output_type": "stream",
       "stream": "stdout",
       "text": [
        " 3700\n",
        "s ="
       ]
      },
      {
       "output_type": "stream",
       "stream": "stdout",
       "text": [
        " 3800\n",
        "s ="
       ]
      },
      {
       "output_type": "stream",
       "stream": "stdout",
       "text": [
        " 3900\n",
        "s ="
       ]
      },
      {
       "output_type": "stream",
       "stream": "stdout",
       "text": [
        " 4000\n",
        "s ="
       ]
      },
      {
       "output_type": "stream",
       "stream": "stdout",
       "text": [
        " 4100\n",
        "s ="
       ]
      },
      {
       "output_type": "stream",
       "stream": "stdout",
       "text": [
        " 4200\n",
        "s ="
       ]
      },
      {
       "output_type": "stream",
       "stream": "stdout",
       "text": [
        " 4300\n",
        "s ="
       ]
      },
      {
       "output_type": "stream",
       "stream": "stdout",
       "text": [
        " 4400\n",
        "s ="
       ]
      },
      {
       "output_type": "stream",
       "stream": "stdout",
       "text": [
        " 4500\n",
        "s ="
       ]
      },
      {
       "output_type": "stream",
       "stream": "stdout",
       "text": [
        " 4600\n",
        "s ="
       ]
      },
      {
       "output_type": "stream",
       "stream": "stdout",
       "text": [
        " 4700\n",
        "s ="
       ]
      },
      {
       "output_type": "stream",
       "stream": "stdout",
       "text": [
        " 4800\n",
        "s ="
       ]
      },
      {
       "output_type": "stream",
       "stream": "stdout",
       "text": [
        " 4900\n",
        "s ="
       ]
      },
      {
       "output_type": "stream",
       "stream": "stdout",
       "text": [
        " 5000\n",
        "s ="
       ]
      },
      {
       "output_type": "stream",
       "stream": "stdout",
       "text": [
        " 5100\n",
        "s ="
       ]
      },
      {
       "output_type": "stream",
       "stream": "stdout",
       "text": [
        " 5200\n",
        "s ="
       ]
      },
      {
       "output_type": "stream",
       "stream": "stdout",
       "text": [
        " 5300\n",
        "s ="
       ]
      },
      {
       "output_type": "stream",
       "stream": "stdout",
       "text": [
        " 5400\n",
        "s ="
       ]
      },
      {
       "output_type": "stream",
       "stream": "stdout",
       "text": [
        " 5500\n",
        "s ="
       ]
      },
      {
       "output_type": "stream",
       "stream": "stdout",
       "text": [
        " 5600\n",
        "s ="
       ]
      },
      {
       "output_type": "stream",
       "stream": "stdout",
       "text": [
        " 5700\n",
        "s ="
       ]
      },
      {
       "output_type": "stream",
       "stream": "stdout",
       "text": [
        " 5800\n",
        "s ="
       ]
      },
      {
       "output_type": "stream",
       "stream": "stdout",
       "text": [
        " 5900\n",
        "s ="
       ]
      },
      {
       "output_type": "stream",
       "stream": "stdout",
       "text": [
        " 6000\n",
        "s ="
       ]
      },
      {
       "output_type": "stream",
       "stream": "stdout",
       "text": [
        " 6100\n",
        "s ="
       ]
      },
      {
       "output_type": "stream",
       "stream": "stdout",
       "text": [
        " 6200\n",
        "s ="
       ]
      },
      {
       "output_type": "stream",
       "stream": "stdout",
       "text": [
        " 6300\n",
        "s ="
       ]
      },
      {
       "output_type": "stream",
       "stream": "stdout",
       "text": [
        " 6400\n",
        "s ="
       ]
      },
      {
       "output_type": "stream",
       "stream": "stdout",
       "text": [
        " 6500\n",
        "s ="
       ]
      },
      {
       "output_type": "stream",
       "stream": "stdout",
       "text": [
        " 6600\n",
        "s ="
       ]
      },
      {
       "output_type": "stream",
       "stream": "stdout",
       "text": [
        " 6700\n",
        "s ="
       ]
      },
      {
       "output_type": "stream",
       "stream": "stdout",
       "text": [
        " 6800\n",
        "s ="
       ]
      },
      {
       "output_type": "stream",
       "stream": "stdout",
       "text": [
        " 6900\n",
        "s ="
       ]
      },
      {
       "output_type": "stream",
       "stream": "stdout",
       "text": [
        " 7000\n",
        "s ="
       ]
      },
      {
       "output_type": "stream",
       "stream": "stdout",
       "text": [
        " 7100\n",
        "s ="
       ]
      },
      {
       "output_type": "stream",
       "stream": "stdout",
       "text": [
        " 7200\n",
        "s ="
       ]
      },
      {
       "output_type": "stream",
       "stream": "stdout",
       "text": [
        " 7300\n",
        "s ="
       ]
      },
      {
       "output_type": "stream",
       "stream": "stdout",
       "text": [
        " 7400\n",
        "s ="
       ]
      },
      {
       "output_type": "stream",
       "stream": "stdout",
       "text": [
        " 7500\n",
        "s ="
       ]
      },
      {
       "output_type": "stream",
       "stream": "stdout",
       "text": [
        " 7600\n",
        "s ="
       ]
      },
      {
       "output_type": "stream",
       "stream": "stdout",
       "text": [
        " 7700\n",
        "s ="
       ]
      },
      {
       "output_type": "stream",
       "stream": "stdout",
       "text": [
        " 7800\n",
        "s ="
       ]
      },
      {
       "output_type": "stream",
       "stream": "stdout",
       "text": [
        " 7900\n",
        "s ="
       ]
      },
      {
       "output_type": "stream",
       "stream": "stdout",
       "text": [
        " 8000\n",
        "s ="
       ]
      },
      {
       "output_type": "stream",
       "stream": "stdout",
       "text": [
        " 8100\n",
        "s ="
       ]
      },
      {
       "output_type": "stream",
       "stream": "stdout",
       "text": [
        " 8200\n",
        "s ="
       ]
      },
      {
       "output_type": "stream",
       "stream": "stdout",
       "text": [
        " 8300\n",
        "s ="
       ]
      },
      {
       "output_type": "stream",
       "stream": "stdout",
       "text": [
        " 8400\n",
        "s ="
       ]
      },
      {
       "output_type": "stream",
       "stream": "stdout",
       "text": [
        " 8500\n",
        "s ="
       ]
      },
      {
       "output_type": "stream",
       "stream": "stdout",
       "text": [
        " 8600\n",
        "s ="
       ]
      },
      {
       "output_type": "stream",
       "stream": "stdout",
       "text": [
        " 8700\n",
        "s ="
       ]
      },
      {
       "output_type": "stream",
       "stream": "stdout",
       "text": [
        " 8800\n",
        "s ="
       ]
      },
      {
       "output_type": "stream",
       "stream": "stdout",
       "text": [
        " 8900\n",
        "s ="
       ]
      },
      {
       "output_type": "stream",
       "stream": "stdout",
       "text": [
        " 9000\n",
        "s ="
       ]
      },
      {
       "output_type": "stream",
       "stream": "stdout",
       "text": [
        " 9100\n",
        "s ="
       ]
      },
      {
       "output_type": "stream",
       "stream": "stdout",
       "text": [
        " 9200\n",
        "s ="
       ]
      },
      {
       "output_type": "stream",
       "stream": "stdout",
       "text": [
        " 9300\n",
        "s ="
       ]
      },
      {
       "output_type": "stream",
       "stream": "stdout",
       "text": [
        " 9400\n",
        "s ="
       ]
      },
      {
       "output_type": "stream",
       "stream": "stdout",
       "text": [
        " 9500\n",
        "s ="
       ]
      },
      {
       "output_type": "stream",
       "stream": "stdout",
       "text": [
        " 9600\n",
        "s ="
       ]
      },
      {
       "output_type": "stream",
       "stream": "stdout",
       "text": [
        " 9700\n",
        "s ="
       ]
      },
      {
       "output_type": "stream",
       "stream": "stdout",
       "text": [
        " 9800\n",
        "s ="
       ]
      },
      {
       "output_type": "stream",
       "stream": "stdout",
       "text": [
        " 9900\n"
       ]
      }
     ],
     "prompt_number": 114
    },
    {
     "cell_type": "code",
     "collapsed": false,
     "input": [
      "# finish up!\n",
      "KSim = (1 - Unemp[ZSim, 0]) * KeSim + Unemp[ZSim, 0] * KuSim\n",
      "KImp = (1 - Unemp[ZSim, 0]) * KeImp + Unemp[ZSim, 0] * KuImp\n",
      "KFit = (1 - Unemp[ZSim, 0]) * KeFit + Unemp[ZSim, 0] * KuFit\n",
      "\n",
      "ZZ = np.array([[zg], [zb]])\n",
      "Y  = ZZ[ZSim, 0] * KImp**alpha * ((1 - Unemp[ZSim, 0]) * h)**(1 - alpha)\n",
      "C  = Y[:-1] - KImp[1:] + (1 - delta) * KImp[:-1]\n",
      "\n",
      "# aggregate output\n",
      "Yind = Cind + Kind[1:] - (1 - delta) * Kind[:-1]"
     ],
     "language": "python",
     "metadata": {},
     "outputs": [],
     "prompt_number": 115
    },
    {
     "cell_type": "code",
     "collapsed": false,
     "input": [
      "print 'Correlation of individual and aggregate consumption:' \n",
      "print np.corrcoef([Cind, C])\n",
      "print 'Correlation of individual consumption and aggregate income:' \n",
      "print np.corrcoef([Cind, Y[:-1]])\n",
      "print 'Correlation of individual consumption and aggregate capital:' \n",
      "print np.corrcoef([Cind, KImp[:-1]])\n",
      "print 'Correlation of individual consumption and individual income:'\n",
      "print np.corrcoef([Cind, Yind])\n",
      "print 'Correlation of individual consumption and individual capital:' \n",
      "print np.corrcoef([Cind, Kind[:-1]])\n",
      "print ''\n",
      "print 'Standard deviation of individual consumption:', np.std(Cind)\n",
      "print 'Standard deviation of individual capital:', np.std(Kind)\n",
      "print ''\n",
      "print 'Autocorrelation of individual consumption:'\n",
      "print np.corrcoef([Cind[:-3], Cind[1:-2],Cind[2:-1],Cind[3:]])\n",
      "print 'Autocorrelation of individual capital:'\n",
      "print np.corrcoef([Kind[:-3], Kind[1:-2], Kind[2:-1], Kind[3:]])\n",
      "print 'Autocorrelation of individual consumption growth:'\n",
      "cgrowth = np.log(Cind[1:]) - np.log(Cind[:-1])\n",
      "print np.corrcoef([cgrowth[:-3], cgrowth[1:-2], cgrowth[2:-1], cgrowth[3:]])\n",
      "print ''\n",
      "print 'Max error Ke (%)', 100 * np.max(np.abs(np.log(KeSim) - np.log(KeImp)))\n",
      "print 'Max error Ku (%)', 100 * np.max(np.abs(np.log(KuSim) - np.log(KuImp)))\n",
      "print 'Mean error Ke (%)', 100 * np.mean(np.abs(np.log(KeSim) - np.log(KeImp)))\n",
      "print 'Mean error Ku (%)', 100 * np.mean(np.abs(np.log(KuSim) - np.log(KuImp)))\n",
      "print ''\n",
      "print 'R-Square K', 1 - (np.var(KImp - KFit) / np.var(KImp))\n",
      "print 'R-Square Ke', 1 - (np.var(KeImp - KeFit) / np.var(KeImp))\n",
      "print 'R-Square Ku', 1 - (np.var(KuImp - KuFit) / np.var(KuImp))"
     ],
     "language": "python",
     "metadata": {},
     "outputs": [
      {
       "output_type": "stream",
       "stream": "stdout",
       "text": [
        "Correlation of individual and aggregate consumption:\n",
        "[[ 1.          0.44505935]\n",
        " [ 0.44505935  1.        ]]\n",
        "Correlation of individual consumption and aggregate income:\n",
        "[[ 1.          0.30195081]\n",
        " [ 0.30195081  1.        ]]\n",
        "Correlation of individual consumption and aggregate capital:\n",
        "[[ 1.          0.42796881]\n",
        " [ 0.42796881  1.        ]]\n",
        "Correlation of individual consumption and individual income:\n",
        "[[ 1.          0.61813833]\n",
        " [ 0.61813833  1.        ]]\n",
        "Correlation of individual consumption and individual capital:\n",
        "[[ 1.          0.85433632]\n",
        " [ 0.85433632  1.        ]]\n",
        "\n",
        "Standard deviation of individual consumption: 0.162895581737\n",
        "Standard deviation of individual capital: 10.9364344943\n",
        "\n",
        "Autocorrelation of individual consumption:\n",
        "[[ 1.          0.97458459  0.94248764  0.90944155]\n",
        " [ 0.97458459  1.          0.97458497  0.9424883 ]\n",
        " [ 0.94248764  0.97458497  1.          0.97458526]\n",
        " [ 0.90944155  0.9424883   0.97458526  1.        ]]"
       ]
      },
      {
       "output_type": "stream",
       "stream": "stdout",
       "text": [
        "\n",
        "Autocorrelation of individual capital:\n",
        "[[ 1.          0.99860493  0.99584496  0.99237959]\n",
        " [ 0.99860493  1.          0.99860527  0.99584598]\n",
        " [ 0.99584496  0.99860527  1.          0.99860558]\n",
        " [ 0.99237959  0.99584598  0.99860558  1.        ]]\n",
        "Autocorrelation of individual consumption growth:\n",
        "[[ 1.          0.03822817 -0.01837804 -0.05233026]\n",
        " [ 0.03822817  1.          0.03823455 -0.01836905]\n",
        " [-0.01837804  0.03823455  1.          0.03822764]\n",
        " [-0.05233026 -0.01836905  0.03822764  1.        ]]\n",
        "\n",
        "Max error Ke (%) 8.91399915671\n",
        "Max error Ku (%) 8.44078355009\n",
        "Mean error Ke (%) 7.29209503072\n",
        "Mean error Ku (%) 3.05055408226\n",
        "\n",
        "R-Square K 0.93767283427\n",
        "R-Square Ke 0.94377019043\n",
        "R-Square Ku 0.828226039726\n"
       ]
      }
     ],
     "prompt_number": 119
    },
    {
     "cell_type": "code",
     "collapsed": false,
     "input": [
      "%run ExplicitAggr.py"
     ],
     "language": "python",
     "metadata": {},
     "outputs": [
      {
       "output_type": "stream",
       "stream": "stdout",
       "text": [
        "Solving the individual and aggregate problem until ConvCrit < 1e-06\n",
        "After 10 iterations, the current value of ConvCrit is 0.00312536."
       ]
      },
      {
       "output_type": "stream",
       "stream": "stdout",
       "text": [
        "\n",
        "After 20 iterations, the current value of ConvCrit is 0.00123322."
       ]
      },
      {
       "output_type": "stream",
       "stream": "stdout",
       "text": [
        "\n",
        "After 30 iterations, the current value of ConvCrit is 0.000691565."
       ]
      },
      {
       "output_type": "stream",
       "stream": "stdout",
       "text": [
        "\n",
        "After 40 iterations, the current value of ConvCrit is 0.000459847."
       ]
      },
      {
       "output_type": "stream",
       "stream": "stdout",
       "text": [
        "\n",
        "After 50 iterations, the current value of ConvCrit is 0.000338621."
       ]
      },
      {
       "output_type": "stream",
       "stream": "stdout",
       "text": [
        "\n",
        "After 60 iterations, the current value of ConvCrit is 0.000267011."
       ]
      },
      {
       "output_type": "stream",
       "stream": "stdout",
       "text": [
        "\n",
        "After 70 iterations, the current value of ConvCrit is 0.00022107."
       ]
      },
      {
       "output_type": "stream",
       "stream": "stdout",
       "text": [
        "\n",
        "After 80 iterations, the current value of ConvCrit is 0.000189672."
       ]
      },
      {
       "output_type": "stream",
       "stream": "stdout",
       "text": [
        "\n",
        "After 90 iterations, the current value of ConvCrit is 0.000167462."
       ]
      },
      {
       "output_type": "stream",
       "stream": "stdout",
       "text": [
        "\n",
        "After 100 iterations, the current value of ConvCrit is 0.000151094."
       ]
      },
      {
       "output_type": "stream",
       "stream": "stdout",
       "text": [
        "\n",
        "After 110 iterations, the current value of ConvCrit is 0.000138587."
       ]
      },
      {
       "output_type": "stream",
       "stream": "stdout",
       "text": [
        "\n",
        "After 120 iterations, the current value of ConvCrit is 0.00012848."
       ]
      },
      {
       "output_type": "stream",
       "stream": "stdout",
       "text": [
        "\n",
        "After 130 iterations, the current value of ConvCrit is 0.000120032."
       ]
      },
      {
       "output_type": "stream",
       "stream": "stdout",
       "text": [
        "\n",
        "After 140 iterations, the current value of ConvCrit is 0.000112578."
       ]
      },
      {
       "output_type": "stream",
       "stream": "stdout",
       "text": [
        "\n",
        "After 150 iterations, the current value of ConvCrit is 0.000105948."
       ]
      },
      {
       "output_type": "stream",
       "stream": "stdout",
       "text": [
        "\n",
        "After 160 iterations, the current value of ConvCrit is 9.98948e-05."
       ]
      },
      {
       "output_type": "stream",
       "stream": "stdout",
       "text": [
        "\n",
        "After 170 iterations, the current value of ConvCrit is 9.412e-05."
       ]
      },
      {
       "output_type": "stream",
       "stream": "stdout",
       "text": [
        "\n",
        "After 180 iterations, the current value of ConvCrit is 8.86693e-05."
       ]
      },
      {
       "output_type": "stream",
       "stream": "stdout",
       "text": [
        "\n",
        "After 190 iterations, the current value of ConvCrit is 8.33462e-05."
       ]
      },
      {
       "output_type": "stream",
       "stream": "stdout",
       "text": [
        "\n",
        "After 200 iterations, the current value of ConvCrit is 7.81768e-05."
       ]
      },
      {
       "output_type": "stream",
       "stream": "stdout",
       "text": [
        "\n",
        "After 210 iterations, the current value of ConvCrit is 7.31519e-05."
       ]
      },
      {
       "output_type": "stream",
       "stream": "stdout",
       "text": [
        "\n",
        "After 220 iterations, the current value of ConvCrit is 6.82664e-05."
       ]
      },
      {
       "output_type": "stream",
       "stream": "stdout",
       "text": [
        "\n",
        "After 230 iterations, the current value of ConvCrit is 6.36017e-05."
       ]
      },
      {
       "output_type": "stream",
       "stream": "stdout",
       "text": [
        "\n",
        "After 240 iterations, the current value of ConvCrit is 5.90936e-05."
       ]
      },
      {
       "output_type": "stream",
       "stream": "stdout",
       "text": [
        "\n",
        "After 250 iterations, the current value of ConvCrit is 5.47896e-05."
       ]
      },
      {
       "output_type": "stream",
       "stream": "stdout",
       "text": [
        "\n",
        "After 260 iterations, the current value of ConvCrit is 5.07028e-05."
       ]
      },
      {
       "output_type": "stream",
       "stream": "stdout",
       "text": [
        "\n",
        "After 270 iterations, the current value of ConvCrit is 4.68544e-05."
       ]
      },
      {
       "output_type": "stream",
       "stream": "stdout",
       "text": [
        "\n",
        "After 280 iterations, the current value of ConvCrit is 4.32248e-05."
       ]
      },
      {
       "output_type": "stream",
       "stream": "stdout",
       "text": [
        "\n",
        "After 290 iterations, the current value of ConvCrit is 3.98305e-05."
       ]
      },
      {
       "output_type": "stream",
       "stream": "stdout",
       "text": [
        "\n",
        "After 300 iterations, the current value of ConvCrit is 3.66573e-05."
       ]
      },
      {
       "output_type": "stream",
       "stream": "stdout",
       "text": [
        "\n",
        "After 310 iterations, the current value of ConvCrit is 3.37013e-05."
       ]
      },
      {
       "output_type": "stream",
       "stream": "stdout",
       "text": [
        "\n",
        "After 320 iterations, the current value of ConvCrit is 3.09478e-05."
       ]
      },
      {
       "output_type": "stream",
       "stream": "stdout",
       "text": [
        "\n",
        "After 330 iterations, the current value of ConvCrit is 2.83923e-05."
       ]
      },
      {
       "output_type": "stream",
       "stream": "stdout",
       "text": [
        "\n",
        "After 340 iterations, the current value of ConvCrit is 2.60255e-05."
       ]
      },
      {
       "output_type": "stream",
       "stream": "stdout",
       "text": [
        "\n",
        "After 350 iterations, the current value of ConvCrit is 2.38424e-05."
       ]
      },
      {
       "output_type": "stream",
       "stream": "stdout",
       "text": [
        "\n",
        "After 360 iterations, the current value of ConvCrit is 2.18218e-05."
       ]
      },
      {
       "output_type": "stream",
       "stream": "stdout",
       "text": [
        "\n",
        "After 370 iterations, the current value of ConvCrit is 1.99579e-05."
       ]
      },
      {
       "output_type": "stream",
       "stream": "stdout",
       "text": [
        "\n",
        "After 380 iterations, the current value of ConvCrit is 1.82447e-05."
       ]
      },
      {
       "output_type": "stream",
       "stream": "stdout",
       "text": [
        "\n",
        "After 390 iterations, the current value of ConvCrit is 1.66657e-05."
       ]
      },
      {
       "output_type": "stream",
       "stream": "stdout",
       "text": [
        "\n",
        "After 400 iterations, the current value of ConvCrit is 1.52159e-05."
       ]
      },
      {
       "output_type": "stream",
       "stream": "stdout",
       "text": [
        "\n",
        "After 410 iterations, the current value of ConvCrit is 1.38842e-05."
       ]
      },
      {
       "output_type": "stream",
       "stream": "stdout",
       "text": [
        "\n",
        "After 420 iterations, the current value of ConvCrit is 1.26635e-05."
       ]
      },
      {
       "output_type": "stream",
       "stream": "stdout",
       "text": [
        "\n",
        "After 430 iterations, the current value of ConvCrit is 1.15468e-05."
       ]
      },
      {
       "output_type": "stream",
       "stream": "stdout",
       "text": [
        "\n",
        "After 440 iterations, the current value of ConvCrit is 1.05246e-05."
       ]
      },
      {
       "output_type": "stream",
       "stream": "stdout",
       "text": [
        "\n",
        "After 450 iterations, the current value of ConvCrit is 9.59209e-06."
       ]
      },
      {
       "output_type": "stream",
       "stream": "stdout",
       "text": [
        "\n",
        "After 460 iterations, the current value of ConvCrit is 8.74116e-06."
       ]
      },
      {
       "output_type": "stream",
       "stream": "stdout",
       "text": [
        "\n",
        "After 470 iterations, the current value of ConvCrit is 7.96628e-06."
       ]
      },
      {
       "output_type": "stream",
       "stream": "stdout",
       "text": [
        "\n",
        "After 480 iterations, the current value of ConvCrit is 7.26118e-06."
       ]
      },
      {
       "output_type": "stream",
       "stream": "stdout",
       "text": [
        "\n",
        "After 490 iterations, the current value of ConvCrit is 6.62035e-06."
       ]
      },
      {
       "output_type": "stream",
       "stream": "stdout",
       "text": [
        "\n",
        "After 500 iterations, the current value of ConvCrit is 6.03818e-06."
       ]
      },
      {
       "output_type": "stream",
       "stream": "stdout",
       "text": [
        "\n",
        "After 510 iterations, the current value of ConvCrit is 5.50957e-06."
       ]
      },
      {
       "output_type": "stream",
       "stream": "stdout",
       "text": [
        "\n",
        "After 520 iterations, the current value of ConvCrit is 5.0294e-06."
       ]
      },
      {
       "output_type": "stream",
       "stream": "stdout",
       "text": [
        "\n",
        "After 530 iterations, the current value of ConvCrit is 4.59305e-06."
       ]
      },
      {
       "output_type": "stream",
       "stream": "stdout",
       "text": [
        "\n",
        "After 540 iterations, the current value of ConvCrit is 4.19628e-06."
       ]
      },
      {
       "output_type": "stream",
       "stream": "stdout",
       "text": [
        "\n",
        "After 550 iterations, the current value of ConvCrit is 3.83525e-06."
       ]
      },
      {
       "output_type": "stream",
       "stream": "stdout",
       "text": [
        "\n",
        "After 560 iterations, the current value of ConvCrit is 3.50645e-06."
       ]
      },
      {
       "output_type": "stream",
       "stream": "stdout",
       "text": [
        "\n",
        "After 570 iterations, the current value of ConvCrit is 3.20674e-06."
       ]
      },
      {
       "output_type": "stream",
       "stream": "stdout",
       "text": [
        "\n",
        "After 580 iterations, the current value of ConvCrit is 2.93332e-06."
       ]
      },
      {
       "output_type": "stream",
       "stream": "stdout",
       "text": [
        "\n",
        "After 590 iterations, the current value of ConvCrit is 2.68368e-06."
       ]
      },
      {
       "output_type": "stream",
       "stream": "stdout",
       "text": [
        "\n",
        "After 600 iterations, the current value of ConvCrit is 2.45557e-06."
       ]
      },
      {
       "output_type": "stream",
       "stream": "stdout",
       "text": [
        "\n",
        "After 610 iterations, the current value of ConvCrit is 2.247e-06."
       ]
      },
      {
       "output_type": "stream",
       "stream": "stdout",
       "text": [
        "\n",
        "After 620 iterations, the current value of ConvCrit is 2.05619e-06."
       ]
      },
      {
       "output_type": "stream",
       "stream": "stdout",
       "text": [
        "\n",
        "After 630 iterations, the current value of ConvCrit is 1.88158e-06."
       ]
      },
      {
       "output_type": "stream",
       "stream": "stdout",
       "text": [
        "\n",
        "After 640 iterations, the current value of ConvCrit is 1.7217e-06."
       ]
      },
      {
       "output_type": "stream",
       "stream": "stdout",
       "text": [
        "\n",
        "After 650 iterations, the current value of ConvCrit is 1.57528e-06."
       ]
      },
      {
       "output_type": "stream",
       "stream": "stdout",
       "text": [
        "\n",
        "After 660 iterations, the current value of ConvCrit is 1.44112e-06."
       ]
      },
      {
       "output_type": "stream",
       "stream": "stdout",
       "text": [
        "\n",
        "After 670 iterations, the current value of ConvCrit is 1.31822e-06."
       ]
      },
      {
       "output_type": "stream",
       "stream": "stdout",
       "text": [
        "\n",
        "After 680 iterations, the current value of ConvCrit is 1.20561e-06."
       ]
      },
      {
       "output_type": "stream",
       "stream": "stdout",
       "text": [
        "\n",
        "After 690 iterations, the current value of ConvCrit is 1.10245e-06."
       ]
      },
      {
       "output_type": "stream",
       "stream": "stdout",
       "text": [
        "\n",
        "After 700 iterations, the current value of ConvCrit is 1.00794e-06."
       ]
      },
      {
       "output_type": "stream",
       "stream": "stdout",
       "text": [
        "\n",
        "The individual and aggregate problem has converged. Simulation will proceed until s=10000"
       ]
      },
      {
       "output_type": "stream",
       "stream": "stdout",
       "text": [
        "\n",
        "Number of iterations:"
       ]
      },
      {
       "output_type": "stream",
       "stream": "stdout",
       "text": [
        " 100\n",
        "Number of iterations:"
       ]
      },
      {
       "output_type": "stream",
       "stream": "stdout",
       "text": [
        " 200\n",
        "Number of iterations:"
       ]
      },
      {
       "output_type": "stream",
       "stream": "stdout",
       "text": [
        " 300\n",
        "Number of iterations:"
       ]
      },
      {
       "output_type": "stream",
       "stream": "stdout",
       "text": [
        " 400\n",
        "Number of iterations:"
       ]
      },
      {
       "output_type": "stream",
       "stream": "stdout",
       "text": [
        " 500\n",
        "Number of iterations:"
       ]
      },
      {
       "output_type": "stream",
       "stream": "stdout",
       "text": [
        " 600\n",
        "Number of iterations:"
       ]
      },
      {
       "output_type": "stream",
       "stream": "stdout",
       "text": [
        " 700\n",
        "Number of iterations:"
       ]
      },
      {
       "output_type": "stream",
       "stream": "stdout",
       "text": [
        " 800\n",
        "Number of iterations:"
       ]
      },
      {
       "output_type": "stream",
       "stream": "stdout",
       "text": [
        " 900\n",
        "Number of iterations:"
       ]
      },
      {
       "output_type": "stream",
       "stream": "stdout",
       "text": [
        " 1000\n",
        "Number of iterations:"
       ]
      },
      {
       "output_type": "stream",
       "stream": "stdout",
       "text": [
        " 1100\n",
        "Number of iterations:"
       ]
      },
      {
       "output_type": "stream",
       "stream": "stdout",
       "text": [
        " 1200\n",
        "Number of iterations:"
       ]
      },
      {
       "output_type": "stream",
       "stream": "stdout",
       "text": [
        " 1300\n",
        "Number of iterations:"
       ]
      },
      {
       "output_type": "stream",
       "stream": "stdout",
       "text": [
        " 1400\n",
        "Number of iterations:"
       ]
      },
      {
       "output_type": "stream",
       "stream": "stdout",
       "text": [
        " 1500\n",
        "Number of iterations:"
       ]
      },
      {
       "output_type": "stream",
       "stream": "stdout",
       "text": [
        " 1600\n",
        "Number of iterations:"
       ]
      },
      {
       "output_type": "stream",
       "stream": "stdout",
       "text": [
        " 1700\n",
        "Number of iterations:"
       ]
      },
      {
       "output_type": "stream",
       "stream": "stdout",
       "text": [
        " 1800\n",
        "Number of iterations:"
       ]
      },
      {
       "output_type": "stream",
       "stream": "stdout",
       "text": [
        " 1900\n",
        "Number of iterations:"
       ]
      },
      {
       "output_type": "stream",
       "stream": "stdout",
       "text": [
        " 2000\n",
        "Number of iterations:"
       ]
      },
      {
       "output_type": "stream",
       "stream": "stdout",
       "text": [
        " 2100\n",
        "Number of iterations:"
       ]
      },
      {
       "output_type": "stream",
       "stream": "stdout",
       "text": [
        " 2200\n",
        "Number of iterations:"
       ]
      },
      {
       "output_type": "stream",
       "stream": "stdout",
       "text": [
        " 2300\n",
        "Number of iterations:"
       ]
      },
      {
       "output_type": "stream",
       "stream": "stdout",
       "text": [
        " 2400\n",
        "Number of iterations:"
       ]
      },
      {
       "output_type": "stream",
       "stream": "stdout",
       "text": [
        " 2500\n",
        "Number of iterations:"
       ]
      },
      {
       "output_type": "stream",
       "stream": "stdout",
       "text": [
        " 2600\n",
        "Number of iterations:"
       ]
      },
      {
       "output_type": "stream",
       "stream": "stdout",
       "text": [
        " 2700\n",
        "Number of iterations:"
       ]
      },
      {
       "output_type": "stream",
       "stream": "stdout",
       "text": [
        " 2800\n",
        "Number of iterations:"
       ]
      },
      {
       "output_type": "stream",
       "stream": "stdout",
       "text": [
        " 2900\n",
        "Number of iterations:"
       ]
      },
      {
       "output_type": "stream",
       "stream": "stdout",
       "text": [
        " 3000\n",
        "Number of iterations:"
       ]
      },
      {
       "output_type": "stream",
       "stream": "stdout",
       "text": [
        " 3100\n",
        "Number of iterations:"
       ]
      },
      {
       "output_type": "stream",
       "stream": "stdout",
       "text": [
        " 3200\n",
        "Number of iterations:"
       ]
      },
      {
       "output_type": "stream",
       "stream": "stdout",
       "text": [
        " 3300\n",
        "Number of iterations:"
       ]
      },
      {
       "output_type": "stream",
       "stream": "stdout",
       "text": [
        " 3400\n",
        "Number of iterations:"
       ]
      },
      {
       "output_type": "stream",
       "stream": "stdout",
       "text": [
        " 3500\n",
        "Number of iterations:"
       ]
      },
      {
       "output_type": "stream",
       "stream": "stdout",
       "text": [
        " 3600\n",
        "Number of iterations:"
       ]
      },
      {
       "output_type": "stream",
       "stream": "stdout",
       "text": [
        " 3700\n",
        "Number of iterations:"
       ]
      },
      {
       "output_type": "stream",
       "stream": "stdout",
       "text": [
        " 3800\n",
        "Number of iterations:"
       ]
      },
      {
       "output_type": "stream",
       "stream": "stdout",
       "text": [
        " 3900\n",
        "Number of iterations:"
       ]
      },
      {
       "output_type": "stream",
       "stream": "stdout",
       "text": [
        " 4000\n",
        "Number of iterations:"
       ]
      },
      {
       "output_type": "stream",
       "stream": "stdout",
       "text": [
        " 4100\n",
        "Number of iterations:"
       ]
      },
      {
       "output_type": "stream",
       "stream": "stdout",
       "text": [
        " 4200\n",
        "Number of iterations:"
       ]
      },
      {
       "output_type": "stream",
       "stream": "stdout",
       "text": [
        " 4300\n",
        "Number of iterations:"
       ]
      },
      {
       "output_type": "stream",
       "stream": "stdout",
       "text": [
        " 4400\n",
        "Number of iterations:"
       ]
      },
      {
       "output_type": "stream",
       "stream": "stdout",
       "text": [
        " 4500\n",
        "Number of iterations:"
       ]
      },
      {
       "output_type": "stream",
       "stream": "stdout",
       "text": [
        " 4600\n",
        "Number of iterations:"
       ]
      },
      {
       "output_type": "stream",
       "stream": "stdout",
       "text": [
        " 4700\n",
        "Number of iterations:"
       ]
      },
      {
       "output_type": "stream",
       "stream": "stdout",
       "text": [
        " 4800\n",
        "Number of iterations:"
       ]
      },
      {
       "output_type": "stream",
       "stream": "stdout",
       "text": [
        " 4900\n",
        "Number of iterations:"
       ]
      },
      {
       "output_type": "stream",
       "stream": "stdout",
       "text": [
        " 5000\n",
        "Number of iterations:"
       ]
      },
      {
       "output_type": "stream",
       "stream": "stdout",
       "text": [
        " 5100\n",
        "Number of iterations:"
       ]
      },
      {
       "output_type": "stream",
       "stream": "stdout",
       "text": [
        " 5200\n",
        "Number of iterations:"
       ]
      },
      {
       "output_type": "stream",
       "stream": "stdout",
       "text": [
        " 5300\n",
        "Number of iterations:"
       ]
      },
      {
       "output_type": "stream",
       "stream": "stdout",
       "text": [
        " 5400\n",
        "Number of iterations:"
       ]
      },
      {
       "output_type": "stream",
       "stream": "stdout",
       "text": [
        " 5500\n",
        "Number of iterations:"
       ]
      },
      {
       "output_type": "stream",
       "stream": "stdout",
       "text": [
        " 5600\n",
        "Number of iterations:"
       ]
      },
      {
       "output_type": "stream",
       "stream": "stdout",
       "text": [
        " 5700\n",
        "Number of iterations:"
       ]
      },
      {
       "output_type": "stream",
       "stream": "stdout",
       "text": [
        " 5800\n",
        "Number of iterations:"
       ]
      },
      {
       "output_type": "stream",
       "stream": "stdout",
       "text": [
        " 5900\n",
        "Number of iterations:"
       ]
      },
      {
       "output_type": "stream",
       "stream": "stdout",
       "text": [
        " 6000\n",
        "Number of iterations:"
       ]
      },
      {
       "output_type": "stream",
       "stream": "stdout",
       "text": [
        " 6100\n",
        "Number of iterations:"
       ]
      },
      {
       "output_type": "stream",
       "stream": "stdout",
       "text": [
        " 6200\n",
        "Number of iterations:"
       ]
      },
      {
       "output_type": "stream",
       "stream": "stdout",
       "text": [
        " 6300\n",
        "Number of iterations:"
       ]
      },
      {
       "output_type": "stream",
       "stream": "stdout",
       "text": [
        " 6400\n",
        "Number of iterations:"
       ]
      },
      {
       "output_type": "stream",
       "stream": "stdout",
       "text": [
        " 6500\n",
        "Number of iterations:"
       ]
      },
      {
       "output_type": "stream",
       "stream": "stdout",
       "text": [
        " 6600\n",
        "Number of iterations:"
       ]
      },
      {
       "output_type": "stream",
       "stream": "stdout",
       "text": [
        " 6700\n",
        "Number of iterations:"
       ]
      },
      {
       "output_type": "stream",
       "stream": "stdout",
       "text": [
        " 6800\n",
        "Number of iterations:"
       ]
      },
      {
       "output_type": "stream",
       "stream": "stdout",
       "text": [
        " 6900\n",
        "Number of iterations:"
       ]
      },
      {
       "output_type": "stream",
       "stream": "stdout",
       "text": [
        " 7000\n",
        "Number of iterations:"
       ]
      },
      {
       "output_type": "stream",
       "stream": "stdout",
       "text": [
        " 7100\n",
        "Number of iterations:"
       ]
      },
      {
       "output_type": "stream",
       "stream": "stdout",
       "text": [
        " 7200\n",
        "Number of iterations:"
       ]
      },
      {
       "output_type": "stream",
       "stream": "stdout",
       "text": [
        " 7300\n",
        "Number of iterations:"
       ]
      },
      {
       "output_type": "stream",
       "stream": "stdout",
       "text": [
        " 7400\n",
        "Number of iterations:"
       ]
      },
      {
       "output_type": "stream",
       "stream": "stdout",
       "text": [
        " 7500\n",
        "Number of iterations:"
       ]
      },
      {
       "output_type": "stream",
       "stream": "stdout",
       "text": [
        " 7600\n",
        "Number of iterations:"
       ]
      },
      {
       "output_type": "stream",
       "stream": "stdout",
       "text": [
        " 7700\n",
        "Number of iterations:"
       ]
      },
      {
       "output_type": "stream",
       "stream": "stdout",
       "text": [
        " 7800\n",
        "Number of iterations:"
       ]
      },
      {
       "output_type": "stream",
       "stream": "stdout",
       "text": [
        " 7900\n",
        "Number of iterations:"
       ]
      },
      {
       "output_type": "stream",
       "stream": "stdout",
       "text": [
        " 8000\n",
        "Number of iterations:"
       ]
      },
      {
       "output_type": "stream",
       "stream": "stdout",
       "text": [
        " 8100\n",
        "Number of iterations:"
       ]
      },
      {
       "output_type": "stream",
       "stream": "stdout",
       "text": [
        " 8200\n",
        "Number of iterations:"
       ]
      },
      {
       "output_type": "stream",
       "stream": "stdout",
       "text": [
        " 8300\n",
        "Number of iterations:"
       ]
      },
      {
       "output_type": "stream",
       "stream": "stdout",
       "text": [
        " 8400\n",
        "Number of iterations:"
       ]
      },
      {
       "output_type": "stream",
       "stream": "stdout",
       "text": [
        " 8500\n",
        "Number of iterations:"
       ]
      },
      {
       "output_type": "stream",
       "stream": "stdout",
       "text": [
        " 8600\n",
        "Number of iterations:"
       ]
      },
      {
       "output_type": "stream",
       "stream": "stdout",
       "text": [
        " 8700\n",
        "Number of iterations:"
       ]
      },
      {
       "output_type": "stream",
       "stream": "stdout",
       "text": [
        " 8800\n",
        "Number of iterations:"
       ]
      },
      {
       "output_type": "stream",
       "stream": "stdout",
       "text": [
        " 8900\n",
        "Number of iterations:"
       ]
      },
      {
       "output_type": "stream",
       "stream": "stdout",
       "text": [
        " 9000\n",
        "Number of iterations:"
       ]
      },
      {
       "output_type": "stream",
       "stream": "stdout",
       "text": [
        " 9100\n",
        "Number of iterations:"
       ]
      },
      {
       "output_type": "stream",
       "stream": "stdout",
       "text": [
        " 9200\n",
        "Number of iterations:"
       ]
      },
      {
       "output_type": "stream",
       "stream": "stdout",
       "text": [
        " 9300\n",
        "Number of iterations:"
       ]
      },
      {
       "output_type": "stream",
       "stream": "stdout",
       "text": [
        " 9400\n",
        "Number of iterations:"
       ]
      },
      {
       "output_type": "stream",
       "stream": "stdout",
       "text": [
        " 9500\n",
        "Number of iterations:"
       ]
      },
      {
       "output_type": "stream",
       "stream": "stdout",
       "text": [
        " 9600\n",
        "Number of iterations:"
       ]
      },
      {
       "output_type": "stream",
       "stream": "stdout",
       "text": [
        " 9700\n",
        "Number of iterations:"
       ]
      },
      {
       "output_type": "stream",
       "stream": "stdout",
       "text": [
        " 9800\n",
        "Number of iterations:"
       ]
      },
      {
       "output_type": "stream",
       "stream": "stdout",
       "text": [
        " 9900\n",
        "Correlation of individual and aggregate consumption:"
       ]
      },
      {
       "output_type": "stream",
       "stream": "stdout",
       "text": [
        "\n",
        "[[ 1.          0.44507081]\n",
        " [ 0.44507081  1.        ]]"
       ]
      },
      {
       "output_type": "stream",
       "stream": "stdout",
       "text": [
        "\n",
        "Correlation of individual consumption and aggregate income:\n",
        "[[ 1.          0.30195477]\n",
        " [ 0.30195477  1.        ]]\n",
        "Correlation of individual consumption and aggregate capital:\n",
        "[[ 1.          0.42798197]\n",
        " [ 0.42798197  1.        ]]\n",
        "Correlation of individual consumption and individual income:\n",
        "[[ 1.          0.61813033]\n",
        " [ 0.61813033  1.        ]]\n",
        "Correlation of individual consumption and individual capital:\n",
        "[[ 1.          0.85432773]\n",
        " [ 0.85432773  1.        ]]\n",
        "\n",
        "Standard deviation of individual consumption: 0.162894768395\n",
        "Standard deviation of individual capital: 10.9360049277\n",
        "\n",
        "Autocorrelation of individual consumption:\n",
        "[[ 1.          0.97458338  0.9424841   0.90943648]\n",
        " [ 0.97458338  1.          0.97458375  0.94248475]\n",
        " [ 0.9424841   0.97458375  1.          0.97458405]\n",
        " [ 0.90943648  0.94248475  0.97458405  1.        ]]"
       ]
      },
      {
       "output_type": "stream",
       "stream": "stdout",
       "text": [
        "\n",
        "Autocorrelation of individual capital:\n",
        "[[ 1.          0.99860483  0.99584466  0.99237902]\n",
        " [ 0.99860483  1.          0.99860516  0.99584567]\n",
        " [ 0.99584466  0.99860516  1.          0.99860548]\n",
        " [ 0.99237902  0.99584567  0.99860548  1.        ]]\n",
        "Autocorrelation of individual consumption growth:\n",
        "[[ 1.          0.03825246 -0.0183877  -0.05232041]\n",
        " [ 0.03825246  1.          0.03825884 -0.01837871]\n",
        " [-0.0183877   0.03825884  1.          0.03825193]\n",
        " [-0.05232041 -0.01837871  0.03825193  1.        ]]\n",
        "\n",
        "Max error Ke (%) 8.91399915671\n",
        "Max error Ku (%) 8.44078355009\n",
        "Mean error Ke (%) 7.29209503072\n",
        "Mean error Ku (%) 3.05055408225\n",
        "\n",
        "R-Square K 0.93767283427\n",
        "R-Square Ke 0.94377019043\n",
        "R-Square Ku 0.828226039726\n"
       ]
      }
     ],
     "prompt_number": 1
    },
    {
     "cell_type": "code",
     "collapsed": false,
     "input": [
      "%run ExplicitAggr.py"
     ],
     "language": "python",
     "metadata": {},
     "outputs": [
      {
       "output_type": "stream",
       "stream": "stdout",
       "text": [
        "Solving the individual and aggregate problem until ConvCrit < 1e-06\n",
        "After 10 iterations, the current value of ConvCrit is 0.00312536."
       ]
      },
      {
       "output_type": "stream",
       "stream": "stdout",
       "text": [
        "\n",
        "After 20 iterations, the current value of ConvCrit is 0.00123322."
       ]
      },
      {
       "ename": "KeyboardInterrupt",
       "evalue": "",
       "output_type": "pyerr",
       "traceback": [
        "\u001b[0;31m---------------------------------------------------------------------------\u001b[0m\n\u001b[0;31mKeyboardInterrupt\u001b[0m                         Traceback (most recent call last)",
        "\u001b[0;32m/Applications/Canopy.app/appdata/canopy-1.0.3.1262.macosx-x86/Canopy.app/Contents/lib/python2.7/site-packages/IPython/utils/py3compat.pyc\u001b[0m in \u001b[0;36mexecfile\u001b[0;34m(fname, *where)\u001b[0m\n\u001b[1;32m    181\u001b[0m             \u001b[0;32melse\u001b[0m\u001b[0;34m:\u001b[0m\u001b[0;34m\u001b[0m\u001b[0m\n\u001b[1;32m    182\u001b[0m                 \u001b[0mfilename\u001b[0m \u001b[0;34m=\u001b[0m \u001b[0mfname\u001b[0m\u001b[0;34m\u001b[0m\u001b[0m\n\u001b[0;32m--> 183\u001b[0;31m             \u001b[0m__builtin__\u001b[0m\u001b[0;34m.\u001b[0m\u001b[0mexecfile\u001b[0m\u001b[0;34m(\u001b[0m\u001b[0mfilename\u001b[0m\u001b[0;34m,\u001b[0m \u001b[0;34m*\u001b[0m\u001b[0mwhere\u001b[0m\u001b[0;34m)\u001b[0m\u001b[0;34m\u001b[0m\u001b[0m\n\u001b[0m",
        "\u001b[0;32m/Users/clarissasweet/Projects/pyeconomics/krusell-smith/expa/ExplicitAggr.py\u001b[0m in \u001b[0;36m<module>\u001b[0;34m()\u001b[0m\n\u001b[1;32m    364\u001b[0m                 \u001b[0;32mfor\u001b[0m \u001b[0ml\u001b[0m \u001b[0;32min\u001b[0m \u001b[0mrange\u001b[0m\u001b[0;34m(\u001b[0m\u001b[0mNK\u001b[0m\u001b[0;34m)\u001b[0m\u001b[0;34m:\u001b[0m\u001b[0;34m\u001b[0m\u001b[0m\n\u001b[1;32m    365\u001b[0m                     kpp1[ii, i, l, :, j] = pwl_interp.pwl_interp_3d(Ke, kp, Ku, kpmat[i, 0, :, :, :], \n\u001b[0;32m--> 366\u001b[0;31m                                                                     np.repeat(KpeN[ii, i, j, l], Nk), kp, np.repeat(KpuN[ii, i, j, l], Nk))\n\u001b[0m\u001b[1;32m    367\u001b[0m                     kpp2New[ii, i, l, :, j] = pwl_interp.pwl_interp_3d(Ke, kp, Ku, kpmat[i, 1, :, :, :], \n\u001b[1;32m    368\u001b[0m                                                                        np.repeat(KpeN[ii, i, j, l], Nk), kp, np.repeat(KpuN[ii, i, j, l], Nk))\n",
        "\u001b[0;31mKeyboardInterrupt\u001b[0m: "
       ]
      },
      {
       "output_type": "stream",
       "stream": "stdout",
       "text": [
        "\n"
       ]
      }
     ],
     "prompt_number": 16
    },
    {
     "cell_type": "code",
     "collapsed": false,
     "input": [],
     "language": "python",
     "metadata": {},
     "outputs": []
    }
   ],
   "metadata": {}
  }
 ]
}