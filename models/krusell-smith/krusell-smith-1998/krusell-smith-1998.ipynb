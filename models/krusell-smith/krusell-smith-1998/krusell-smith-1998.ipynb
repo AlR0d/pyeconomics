{
 "metadata": {
  "name": "krusell-smith-1998"
 },
 "nbformat": 3,
 "nbformat_minor": 0,
 "worksheets": [
  {
   "cells": [
    {
     "cell_type": "code",
     "collapsed": false,
     "input": [
      "# import pylab and activate inline plotting\n",
      "%pylab inline"
     ],
     "language": "python",
     "metadata": {},
     "outputs": [
      {
       "output_type": "stream",
       "stream": "stdout",
       "text": [
        "\n",
        "Welcome to pylab, a matplotlib-based Python environment [backend: module://IPython.zmq.pylab.backend_inline].\n",
        "For more information, type 'help(pylab)'.\n"
       ]
      }
     ],
     "prompt_number": 1
    },
    {
     "cell_type": "code",
     "collapsed": false,
     "input": [
      "import pandas as pd"
     ],
     "language": "python",
     "metadata": {},
     "outputs": [],
     "prompt_number": 2
    },
    {
     "cell_type": "code",
     "collapsed": false,
     "input": [
      "# load the initial cross sectional distribution of wealth/capital into a pandas dataframe\n",
      "cross_in = pd.read_table('cross.in', header=None, sep=r'\\s*', names=['agent_id', 'beta_index', 'employed', 'wealth'])\n",
      "\n",
      "# load the equilibrium cross sectional distribution of wealth/capital into a pandas dataframe\n",
      "cross_out = pd.read_table('cross.out', header=None, sep=r'\\s*', names=['agent_id', 'beta_index', 'employed', 'wealth'])"
     ],
     "language": "python",
     "metadata": {},
     "outputs": [],
     "prompt_number": 17
    },
    {
     "cell_type": "code",
     "collapsed": false,
     "input": [
      "print \"Descriptive statistics for initial distribution of wealth:\"\n",
      "print cross_in['wealth'].describe()\n",
      "print \"\"\n",
      "print \"Descriptive statistics for equilibrium distribution of wealth:\"\n",
      "print cross_out['wealth'].describe()"
     ],
     "language": "python",
     "metadata": {},
     "outputs": [
      {
       "output_type": "stream",
       "stream": "stdout",
       "text": [
        "Descriptive statistics for initial distribution of wealth:\n",
        "count    30000.000000\n",
        "mean        11.724722\n",
        "std         42.602848\n",
        "min         -2.400000\n",
        "25%          0.835919\n",
        "50%          2.234808\n",
        "75%          4.427163\n",
        "max       3359.841151\n",
        "\n",
        "Descriptive statistics for equilibrium distribution of wealth:\n",
        "count    30000.000000\n",
        "mean        11.718953\n",
        "std         41.642649\n",
        "min         -2.400000\n",
        "25%          0.843116\n",
        "50%          2.256479\n",
        "75%          4.405612\n",
        "max       2781.580034\n"
       ]
      }
     ],
     "prompt_number": 37
    },
    {
     "cell_type": "code",
     "collapsed": false,
     "input": [],
     "language": "python",
     "metadata": {},
     "outputs": [
      {
       "output_type": "pyout",
       "prompt_number": 24,
       "text": [
        "count    30000.000000\n",
        "mean        11.718953\n",
        "std         41.642649\n",
        "min         -2.400000\n",
        "25%          0.843116\n",
        "50%          2.256479\n",
        "75%          4.405612\n",
        "max       2781.580034"
       ]
      }
     ],
     "prompt_number": 24
    },
    {
     "cell_type": "code",
     "collapsed": false,
     "input": [
      "cross_in['wealth'].hist(bins=50)"
     ],
     "language": "python",
     "metadata": {},
     "outputs": [
      {
       "output_type": "pyout",
       "prompt_number": 28,
       "text": [
        "<matplotlib.axes.AxesSubplot at 0x5f3b5d0>"
       ]
      },
      {
       "output_type": "display_data",
       "png": "[encoded data removed]"
      }
     ],
     "prompt_number": 28
    },
    {
     "cell_type": "code",
     "collapsed": false,
     "input": [],
     "language": "python",
     "metadata": {},
     "outputs": []
    }
   ],
   "metadata": {}
  }
 ]
}