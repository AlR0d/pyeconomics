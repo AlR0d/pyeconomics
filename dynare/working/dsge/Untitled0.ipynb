{
 "metadata": {
  "name": "Untitled0"
 },
 "nbformat": 3,
 "nbformat_minor": 0,
 "worksheets": [
  {
   "cells": [
    {
     "cell_type": "code",
     "collapsed": false,
     "input": [
      "import scipy.io as sio"
     ],
     "language": "python",
     "metadata": {},
     "outputs": [],
     "prompt_number": 1
    },
    {
     "cell_type": "code",
     "collapsed": false,
     "input": [
      "ramsey_logs_results = sio.loadmat('ramsey_logs_results.mat')"
     ],
     "language": "python",
     "metadata": {},
     "outputs": [],
     "prompt_number": 2
    },
    {
     "cell_type": "code",
     "collapsed": false,
     "input": [
      "ramsey_logs_results"
     ],
     "language": "python",
     "metadata": {},
     "outputs": [
      {
       "output_type": "pyout",
       "prompt_number": 16,
       "text": [
        "{'M_': array([[ ([u'ramsey_logs'], [], [[0.9896], [2.0], [0.4], [0.0196], [0.003187545936232102], [0.003772235764414875], [0.95], [0.01]], [], [], [u'eps'], [u'eps'], [u'lk', u'lc', u'lz'], [u'lk', u'lc', u'lz'], [u'beta ', u'theta', u'alpha', u'delta', u'g    ', u'n    ', u'rho  ', u'sigma'], [u'beta ', u'theta', u'alpha', u'delta', u'g    ', u'n    ', u'rho  ', u'sigma'], [[0]], [[1]], [[3]], [[8]], [[3]], [], [[0.0001]], [[0]], [[1, 0, 2], [3, 4, 5], [0, 6, 7]], [[0]], [[1]], [[1]], [[1]], [], [[1]], [[1]], [[1]], [[1]], [[1]], [[0]], [[0]], [[13], [-1], [-1]], [[0]], [[0]], [[1]])]], \n",
        "      dtype=[('fname', 'O'), ('bvar', 'O'), ('params', 'O'), ('endo_histval', 'O'), ('Correlation_matrix', 'O'), ('exo_names', 'O'), ('exo_names_tex', 'O'), ('endo_names', 'O'), ('endo_names_tex', 'O'), ('param_names', 'O'), ('param_names_tex', 'O'), ('exo_det_nbr', 'O'), ('exo_nbr', 'O'), ('endo_nbr', 'O'), ('param_nbr', 'O'), ('orig_endo_nbr', 'O'), ('aux_vars', 'O'), ('Sigma_e', 'O'), ('H', 'O'), ('lead_lag_incidence', 'O'), ('nstatic', 'O'), ('nfwrd', 'O'), ('npred', 'O'), ('nboth', 'O'), ('equations_tags', 'O'), ('exo_names_orig_ord', 'O'), ('maximum_lag', 'O'), ('maximum_lead', 'O'), ('maximum_endo_lag', 'O'), ('maximum_endo_lead', 'O'), ('maximum_exo_lag', 'O'), ('maximum_exo_lead', 'O'), ('NNZDerivatives', 'O'), ('unit_root', 'O'), ('exo_det_length', 'O'), ('sigma_e_is_diagonal', 'O')]),\n",
        " '__globals__': ['M_', 'oo_', 'options_'],\n",
        " '__header__': 'MATLAB 5.0 MAT-file, Platform: MACI64, Created on: Mon Apr  1 13:25:18 2013',\n",
        " '__version__': '1.0',\n",
        " 'oo_': array([[ ([[0], [0], [0]], [], [[(array([[  9.78426638e-01+0.j],\n",
        "       [  9.50000000e-01+0.j],\n",
        "       [  1.03218849e+00+0.j],\n",
        "       [  2.48474656e+16+0.j]]), array([[1],\n",
        "       [3],\n",
        "       [2]], dtype=uint8), array([[1],\n",
        "       [3],\n",
        "       [2]], dtype=uint8), array([[0]], dtype=uint8), array([[2]], dtype=uint8), array([[2, 3, 4, 0],\n",
        "       [3, 3, 3, 0],\n",
        "       [1, 2, 0, 1],\n",
        "       [2, 2, 0, 2]], dtype=uint8), array([[4]], dtype=uint8), array([[1]], dtype=uint8), array([[1]], dtype=uint8), array([[1]], dtype=uint8), array([[2]], dtype=uint8), array([[2]], dtype=uint8), array([], shape=(0, 0), dtype=uint8), array([[ 3.99438698],\n",
        "       [ 1.25149139],\n",
        "       [ 0.        ]]), array([[ 0.97842664,  0.06752819],\n",
        "       [-0.        ,  0.95      ],\n",
        "       [ 0.48916271, -0.26454165]]), array([[-0.95884047],\n",
        "       [ 1.        ],\n",
        "       [-0.79337301]]), array([[-0.        ,  0.95      ],\n",
        "       [ 0.48916271, -0.26454165]]), array([[ 0.97842664,  0.06752819],\n",
        "       [-0.        ,  0.95      ]]))]], [[0]], [], [], [[3.9943869791676545], [1.2514913881621488], [0.0]], [[array([[ 0.00094223,  0.00060508, -0.0004268 ],\n",
        "       [ 0.00060508,  0.00047064, -0.00053543],\n",
        "       [-0.0004268 , -0.00053543,  0.00102564]])], [array([[ 0.94783827,  0.83474464, -0.35434163],\n",
        "       [ 0.86168193,  0.92986305, -0.69102159],\n",
        "       [-0.41245371, -0.7321296 ,  0.95      ]])], [array([[ 0.89833127,  0.76515505, -0.27976614],\n",
        "       [ 0.81710163,  0.86366737, -0.61624934],\n",
        "       [-0.39183102, -0.69552312,  0.9025    ]])], [array([[ 0.85134524,  0.69964581, -0.21014606],\n",
        "       [ 0.77478263,  0.80120652, -0.5460834 ],\n",
        "       [-0.37223947, -0.66074696,  0.857375  ]])], [array([[ 0.80675316,  0.63799994, -0.14520714],\n",
        "       [ 0.73461116,  0.74228459, -0.48027476],\n",
        "       [-0.3536275 , -0.62770961,  0.81450625]])], [array([[ 0.76443437,  0.58001158, -0.08468944],\n",
        "       [ 0.69647916,  0.68671567, -0.41858721],\n",
        "       [-0.33594612, -0.59632413,  0.77378094]])]], [[3.9943869791676545], [1.2514913881621488], [0.0]], [[0.000942228669221802, 0.0006050827474674197, -0.00042680299449213746], [0.0006050827474674197, 0.0004706373489012673, -0.0005354331355918328], [-0.00042680299449213746, -0.0005354331355918327, 0.0010256410256410287]], [[array([[ 0.94783827,  0.83474464, -0.35434163],\n",
        "       [ 0.86168193,  0.92986305, -0.69102159],\n",
        "       [-0.41245371, -0.7321296 ,  0.95      ]]), array([[ 0.89833127,  0.76515505, -0.27976614],\n",
        "       [ 0.81710163,  0.86366737, -0.61624934],\n",
        "       [-0.39183102, -0.69552312,  0.9025    ]]), array([[ 0.85134524,  0.69964581, -0.21014606],\n",
        "       [ 0.77478263,  0.80120652, -0.5460834 ],\n",
        "       [-0.37223947, -0.66074696,  0.857375  ]]), array([[ 0.80675316,  0.63799994, -0.14520714],\n",
        "       [ 0.73461116,  0.74228459, -0.48027476],\n",
        "       [-0.3536275 , -0.62770961,  0.81450625]]), array([[ 0.76443437,  0.58001158, -0.08468944],\n",
        "       [ 0.69647916,  0.68671567, -0.41858721],\n",
        "       [-0.33594612, -0.59632413,  0.77378094]])]], [[(array([[-0.0095884 , -0.00870627, -0.00787693, -0.00709755, -0.00636547,\n",
        "        -0.00567812, -0.0050331 , -0.00442813, -0.00386102, -0.00332973,\n",
        "        -0.0028323 , -0.00236688, -0.00193172, -0.00152515, -0.0011456 ,\n",
        "        -0.00079157, -0.00046164, -0.00015447,  0.00013121,  0.00039661,\n",
        "         0.00064288,  0.00087109,  0.00108227,  0.0012774 ,  0.00145739,\n",
        "         0.00162313,  0.00177543,  0.00191507,  0.00204281,  0.00215934,\n",
        "         0.00226533,  0.0023614 ,  0.00244815,  0.00252615,  0.00259592,\n",
        "         0.00265797,  0.00271278,  0.0027608 ,  0.00280246,  0.00283816]]), array([[ -7.93373008e-03,  -7.33570650e-03,  -6.77192762e-03,\n",
        "         -6.24058749e-03,  -5.73997250e-03,  -5.26845669e-03,\n",
        "         -4.82449732e-03,  -4.40663070e-03,  -4.01346817e-03,\n",
        "         -3.64369231e-03,  -3.29605335e-03,  -2.96936575e-03,\n",
        "         -2.66250493e-03,  -2.37440421e-03,  -2.10405186e-03,\n",
        "         -1.85048835e-03,  -1.61280366e-03,  -1.39013480e-03,\n",
        "         -1.18166342e-03,  -9.86613541e-04,  -8.04249415e-04,\n",
        "         -6.33873475e-04,  -4.74824395e-04,  -3.26475253e-04,\n",
        "         -1.88231781e-04,  -5.95307000e-05,   6.01618514e-05,\n",
        "          1.71351818e-04,   2.74518651e-04,   3.70116655e-04,\n",
        "          4.58576273e-04,   5.40305306e-04,   6.15690066e-04,\n",
        "          6.85096476e-04,   7.48871109e-04,   8.07342187e-04,\n",
        "          8.60820509e-04,   9.09600353e-04,   9.53960321e-04,\n",
        "          9.94164139e-04]]), array([[ 0.01      ,  0.0095    ,  0.009025  ,  0.00857375,  0.00814506,\n",
        "         0.00773781,  0.00735092,  0.00698337,  0.0066342 ,  0.00630249,\n",
        "         0.00598737,  0.005688  ,  0.0054036 ,  0.00513342,  0.00487675,\n",
        "         0.00463291,  0.00440127,  0.0041812 ,  0.00397214,  0.00377354,\n",
        "         0.00358486,  0.00340562,  0.00323534,  0.00307357,  0.00291989,\n",
        "         0.0027739 ,  0.0026352 ,  0.00250344,  0.00237827,  0.00225936,\n",
        "         0.00214639,  0.00203907,  0.00193711,  0.00184026,  0.00174825,\n",
        "         0.00166083,  0.00157779,  0.0014989 ,  0.00142396,  0.00135276]]))]])]], \n",
        "      dtype=[('exo_simul', 'O'), ('endo_simul', 'O'), ('dr', 'O'), ('exo_steady_state', 'O'), ('exo_det_steady_state', 'O'), ('exo_det_simul', 'O'), ('steady_state', 'O'), ('gamma_y', 'O'), ('mean', 'O'), ('var', 'O'), ('autocorr', 'O'), ('irfs', 'O')]),\n",
        " 'options_': array([[ ([[0]], [[1]], [[0]], [[0]], [[0]], [[(array([[  1.00000000e-05]]), array([[  1.00000000e-05]]))]], [[10]], [[1]], [[0]], [[0.01], [1.0]], [[1]], [[0]], [[0]], [[1e-11]], [], [[1e-15]], [[6.055454452393343e-06]], [[3.666852862501036e-11]], [[500]], [[0.5]], [[(array([[([[1]], [[1]])]], \n",
        "      dtype=[('A_times_B_kronecker_C', 'O'), ('sparse_hessian_times_B_kronecker_C', 'O')]), array([[1]], dtype=uint8))]], [[1]], [[0]], [], [[(array([[0]], dtype=uint8),)]], [u'None'], [[0]], [[4]], [[2000]], [[3]], [[0.5]], [[5]], [[2]], [[1]], [[0]], [[0]], [[2]], [[5000]], [[(array([[3]], dtype=uint8), array([[3]], dtype=uint8), array([[array([u'b-'], \n",
        "      dtype='<U2')]], dtype=object), array([[1]], dtype=uint8))]], [u'eps'], [[0]], [[0]], [], [], [[40]], [[0]], [[5]], [[0]], [[512]], [[0]], [[0]], [[0]], [[0]], [[(array([[0]], dtype=uint8), array([[1]], dtype=uint8), array([[150]], dtype=uint8), array([[ 0.01]]))]], [[(array([[0]], dtype=uint8), array([[0]], dtype=uint8), array([[0]], dtype=uint8), array([[0]], dtype=uint8), array([[0]], dtype=uint8), array([[500]], dtype=uint16), array([[200]], dtype=uint8), array([[50]], dtype=uint8), array([[0]], dtype=uint8), array([[5]], dtype=uint8), array([[2]], dtype=uint8), array([u'gaussian'], \n",
        "      dtype='<U8'), array([[1]], dtype=uint8), array([[4]], dtype=uint8), array([[ ([u'tensor'], [u'hermite'], [[0]], [[5]], [[(array([[0]], dtype=uint8), array([[  1.00000000e-05]]), array([[  1.00000000e-05]]))]])]], \n",
        "      dtype=[('method', 'O'), ('ortpol', 'O'), ('order', 'O'), ('nodes', 'O'), ('pruned', 'O')]))]], [[(array([[0]], dtype=uint8), array([[1]], dtype=uint8), array([[ 0.0001]]), array([[2]], dtype=uint8), array([[500]], dtype=uint16), array([[3]], dtype=uint8), array([[0]], dtype=uint8), array([u'sequential_importance_particle_filter'], \n",
        "      dtype='<U37'), array([u'unscented'], \n",
        "      dtype='<U9'), array([[([[1]], [[2]], [[1]])]], \n",
        "      dtype=[('alpha', 'O'), ('beta', 'O'), ('kappa', 'O')]), array([[([u'systematic'], [[0.5]], [u'traditional'], [u'kitagawa'])]], \n",
        "      dtype=[('status', 'O'), ('neff_threshold', 'O'), ('method1', 'O'), ('method2', 'O')]), array([u'particles'], \n",
        "      dtype='<U9'), array([[5]], dtype=uint8), array([[1]], dtype=uint8), array([[1]], dtype=uint8))]], [[(array([u'gaussian'], \n",
        "      dtype='<U8'), array([[1]], dtype=uint8))]], [[0]], [[1]], [], [[0]], [[0]], [[0]], [[0.5]], [[1]], [[1]], [[0]], [[2]], [[50]], [[1]], [[100]], [[0]], [[0]], [[0]], [[0]], [[0]], [], [[0]], [[0]], [[(array([[1]], dtype=uint8), array([[1, 1]], dtype=uint8))]], [[(MatlabObject([[([[1]], [[1, 1]])]], \n",
        "      dtype=[('freq', 'O'), ('time', 'O')]), array([[ nan]]), array([[ nan]]), array([[ nan]]), array([[ nan]]))]], [[10]], [[1000000]], [[111]], [[1000]], [[0]], [[0]], [[0]], [[0]], [[0]], [], [[0]], [[1]], [[0]], [[1e-10]], [[1e-06]], [[1]], [[1]], [[0]], [[0]], [[0]], [[0.9]], [[0.9]], [[0.5]], [[0.2]], [[0.4]], [[1]], [[2]], [[0]], [[20000]], [[0]], [[0]], [[4]], [], [[0]], [[1]], [[0]], [[0]], [[0]], [[0]], [[0]], [[1e-10]], [[0]], [[3]], [], [[0]], [[2]], [[1e-06]], [u'random_walk_metropolis_hastings'], [u'rand_multivariate_normal'], [[200]], [[30]], [[1]], [[1]], [[0]], [[(array([[0]], dtype=uint8), array([], \n",
        "      dtype='<U1'))]], [[512]], [[1, 5, 9, 13, 17, 37, 77, 117, 157, 197]], [[0]], [[0]], [[0]], [[0]], [[0]], [[0.6]], [[0]], [[1]], [[0]], [], [[(array([u'off'], \n",
        "      dtype='<U3'), array([u'on'], \n",
        "      dtype='<U2'), array([u'no'], \n",
        "      dtype='<U2'), array([u'10'], \n",
        "      dtype='<U2'), array([u'0'], \n",
        "      dtype='<U1'), array([u'0'], \n",
        "      dtype='<U1'))]], [[20000]], [], [[0]], [[0]], [[0]], [[0]], [[1e-12]], [[0]], [[0]], [[0]], [[1e-10]], [[1e-16]], [[(array([[1]], dtype=uint8), array([[1]], dtype=uint8), array([[0]], dtype=uint8))]], [[0]], [[1e-07]], [], [], [[(array([], shape=(0, 0), dtype=uint8), array([[0]], dtype=uint8), array([[0]], dtype=uint8), array([[0]], dtype=uint8), array([[0]], dtype=uint8), array([[0]], dtype=uint8), array([[0]], dtype=uint8), array([[1]], dtype=uint8), array([[1]], dtype=uint8), array([[1]], dtype=uint8), array([[1]], dtype=uint8), array([[0]], dtype=uint8), array([[0]], dtype=uint8), array([[1]], dtype=uint8), array([[1]], dtype=uint8), array([], shape=(0, 0), dtype=uint8), array([], shape=(0, 0), dtype=uint8), array([], shape=(0, 0), dtype=uint8), array([[0]], dtype=uint8), array([[0]], dtype=uint8), array([[0]], dtype=uint8), array([u'ramsey_logs'], \n",
        "      dtype='<U11'), array([[1]], dtype=uint8), array([[ 1. ,  1. ,  0.1,  1.2,  1. ,  1. ]]), array([[4]], dtype=uint8), array([[1]], dtype=uint8), array([[4]], dtype=uint8), array([[1]], dtype=uint8), array([[1]], dtype=uint8), array([[1]], dtype=uint8), array([[1]], dtype=uint8), array([[2500]], dtype=uint16), array([[2]], dtype=uint8), array([[ 0.001]]), array([[  1.00000000e-06]]), array([[ 0.1]]), array([[50]], dtype=uint8), array([[2]], dtype=uint8), array([[100]], dtype=uint8), array([[10]], dtype=uint8), array([[ 0.1]]), array([[ 0.1]]), array([[5]], dtype=uint8), array([[5]], dtype=uint8), array([[1]], dtype=uint8), array([[20]], dtype=uint8), array([[ 0.1]]), array([[ 0.1]]), array([[10000]], dtype=uint16), array([[1]], dtype=uint8), array([[1000]], dtype=uint16), array([[30000]], dtype=uint16), array([[100000]]), array([[0]], dtype=uint8), array([[3]], dtype=uint8), array([[ 0.1]]), array([[ 0.9]]), array([[0]], dtype=uint8), array([[0]], dtype=uint8), array([[12]], dtype=uint8), array([[ 0.16,  0.5 ,  0.84]]), array([[0]], dtype=uint8), array([[10000]], dtype=uint16), array([[10]], dtype=uint8), array([[0]], dtype=uint8), array([[0]], dtype=uint8), array([[0]], dtype=uint8), array([[0]], dtype=uint8), array([[1]], dtype=uint8))]], [[(array([[1]], dtype=uint8), array([[0]], dtype=uint8), array([[0]], dtype=uint8))]], [[0]], [[(array([u'mt19937ar'], \n",
        "      dtype='<U9'), array([[0]], dtype=uint8))]])]], \n",
        "      dtype=[('console_mode', 'O'), ('verbosity', 'O'), ('terminal_condition', 'O'), ('rplottype', 'O'), ('smpl', 'O'), ('dynatol', 'O'), ('maxit_', 'O'), ('slowc', 'O'), ('timing', 'O'), ('gstep', 'O'), ('scalv', 'O'), ('debug', 'O'), ('initval_file', 'O'), ('Schur_vec_tol', 'O'), ('qz_criterium', 'O'), ('lyapunov_complex_threshold', 'O'), ('solve_tolf', 'O'), ('solve_tolx', 'O'), ('solve_maxit', 'O'), ('mode_check_neighbourhood_size', 'O'), ('threads', 'O'), ('jacobian_flag', 'O'), ('steadystate_flag', 'O'), ('steadystate_partial', 'O'), ('steadystate', 'O'), ('ParamSubSet', 'O'), ('dsge_var', 'O'), ('dsge_varlag', 'O'), ('bvar_replic', 'O'), ('bvar_prior_tau', 'O'), ('bvar_prior_decay', 'O'), ('bvar_prior_lambda', 'O'), ('bvar_prior_mu', 'O'), ('bvar_prior_omega', 'O'), ('bvar_prior_flat', 'O'), ('bvar_prior_train', 'O'), ('Opt6Iter', 'O'), ('Opt6Numb', 'O'), ('graphics', 'O'), ('graph_format', 'O'), ('nodisplay', 'O'), ('nograph', 'O'), ('XTick', 'O'), ('XTickLabel', 'O'), ('irf', 'O'), ('relative_irf', 'O'), ('ar', 'O'), ('hp_filter', 'O'), ('hp_ngrid', 'O'), ('nomoments', 'O'), ('nocorr', 'O'), ('periods', 'O'), ('noprint', 'O'), ('SpectralDensity', 'O'), ('ep', 'O'), ('particle', 'O'), ('bnlms', 'O'), ('TeX', 'O'), ('xls_sheet', 'O'), ('xls_range', 'O'), ('forecast', 'O'), ('linear', 'O'), ('stack_solve_algo', 'O'), ('markowitz', 'O'), ('minimal_solving_periods', 'O'), ('order', 'O'), ('pruning', 'O'), ('solve_algo', 'O'), ('replic', 'O'), ('simul_replic', 'O'), ('drop', 'O'), ('use_qzdiv', 'O'), ('aim_solver', 'O'), ('k_order_solver', 'O'), ('partial_information', 'O'), ('ACES_solver', 'O'), ('conditional_variance_decomposition', 'O'), ('ramsey_policy', 'O'), ('timeless', 'O'), ('initial_period', 'O'), ('dataset', 'O'), ('Harvey_scale_factor', 'O'), ('MaxNumberOfBytes', 'O'), ('MaximumNumberOfMegaBytes', 'O'), ('PosteriorSampleSize', 'O'), ('analytic_derivation', 'O'), ('analytic_derivation_mode', 'O'), ('bayesian_irf', 'O'), ('bayesian_th_moments', 'O'), ('diffuse_filter', 'O'), ('filter_step_ahead', 'O'), ('filtered_vars', 'O'), ('first_obs', 'O'), ('kalman_algo', 'O'), ('kalman_tol', 'O'), ('riccati_tol', 'O'), ('lik_algo', 'O'), ('lik_init', 'O'), ('load_mh_file', 'O'), ('logdata', 'O'), ('loglinear', 'O'), ('mh_conf_sig', 'O'), ('prior_interval', 'O'), ('mh_drop', 'O'), ('mh_jscale', 'O'), ('mh_init_scale', 'O'), ('mh_mode', 'O'), ('mh_nblck', 'O'), ('mh_recover', 'O'), ('mh_replic', 'O'), ('mode_check', 'O'), ('mode_check_nolik', 'O'), ('mode_compute', 'O'), ('mode_file', 'O'), ('moments_varendo', 'O'), ('nk', 'O'), ('noconstant', 'O'), ('nodiagnostic', 'O'), ('mh_posterior_mode_estimation', 'O'), ('prefilter', 'O'), ('presample', 'O'), ('prior_trunc', 'O'), ('smoother', 'O'), ('student_degrees_of_freedom', 'O'), ('sub_draws', 'O'), ('use_mh_covariance_matrix', 'O'), ('gradient_method', 'O'), ('gradient_epsilon', 'O'), ('posterior_sampling_method', 'O'), ('proposal_distribution', 'O'), ('trace_plot_ma', 'O'), ('mh_autocorrelation_function_size', 'O'), ('plot_priors', 'O'), ('cova_compute', 'O'), ('parallel', 'O'), ('parallel_info', 'O'), ('number_of_grid_points_for_kde', 'O'), ('conditional_variance_decomposition_dates', 'O'), ('filter_covariance', 'O'), ('filter_decomposition', 'O'), ('selected_variables_only', 'O'), ('initialize_estimated_parameters_with_the_prior_mode', 'O'), ('estimation_dll', 'O'), ('conf_sig', 'O'), ('homotopy_mode', 'O'), ('homotopy_steps', 'O'), ('homotopy_force_continue', 'O'), ('simplex', 'O'), ('cmaes', 'O'), ('prior_mc', 'O'), ('prior_analysis_endo_var_list', 'O'), ('block', 'O'), ('use_dll', 'O'), ('bytecode', 'O'), ('sylvester_fp', 'O'), ('sylvester_fixed_point_tol', 'O'), ('lyapunov_fp', 'O'), ('lyapunov_db', 'O'), ('lyapunov_srs', 'O'), ('lyapunov_fixed_point_tol', 'O'), ('lyapunov_doubling_tol', 'O'), ('initial_date', 'O'), ('discretionary_policy', 'O'), ('discretionary_tol', 'O'), ('parameter_set', 'O'), ('nonlinear_filter', 'O'), ('ms', 'O'), ('graph_save_formats', 'O'), ('risky_steadystate', 'O'), ('DynareRandomStreams', 'O')])}"
       ]
      }
     ],
     "prompt_number": 16
    },
    {
     "cell_type": "code",
     "collapsed": false,
     "input": [],
     "language": "python",
     "metadata": {},
     "outputs": []
    }
   ],
   "metadata": {}
  }
 ]
}