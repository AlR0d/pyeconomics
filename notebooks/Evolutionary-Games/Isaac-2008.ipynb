{
 "metadata": {
  "name": "Isaac-2008"
 },
 "nbformat": 3,
 "nbformat_minor": 0,
 "worksheets": [
  {
   "cells": [
    {
     "cell_type": "markdown",
     "metadata": {},
     "source": [
      "#<div align='center'>[Simulating Evolutionary Games: A Python-Based Introduction](http://jasss.soc.surrey.ac.uk/11/3/8.html)</div>\n",
      "\n",
      "*<div align='center'>Journal of Artificial Societies and Social Simulation vol. 11, no. 3 8</div>*\n",
      "\n",
      "##Abstract\n",
      "\n",
      "This paper is an introduction to agent-based simulation using the Python programming language. The core objective of the paper is to enable students, teachers, and researchers immediately to begin social-science simulation projects in a general purpose programming language. This objective is facilitated by design features of the Python programming language, which we very briefly discuss. The paper has a tutorial component, in that it is enablement-focused and therefore strongly application-oriented. As our illustrative application, we choose a classic agent-based simulation model: the evolutionary iterated prisoner's dilemma. We show how to simulate the iterated prisoner's dilemma with code that is simple and readable yet flexible and easily extensible. Despite the simplicity of the code, it constitutes a useful and easily extended simulation toolkit. We offer three examples of this extensibility: we explore the classic result that topology matters for evolutionary outcomes, we show how player type evolution is affected by payoff cardinality, and we show that strategy evaluation procedures can affect strategy persistence. Social science students and instructors should find that this paper provides adequate background to immediately begin their own simulation projects. Social science researchers will additionally be able to compare the simplicity, readability, and extensibility of the Python code with comparable simulations in other languages.\n",
      "\n",
      "###Keywords:\n",
      "Agent-Based Simulation, Python, Prisoner's Dilemma"
     ]
    },
    {
     "cell_type": "markdown",
     "metadata": {},
     "source": [
      "## Introduction\n",
      "\n",
      "Computer simulation of social and economic interactions has been gaining adherents for more than two decades. Contemporary researchers often promote simulation methods as a \u201cthird way\u201d of doing social science, distinct from both pure theory and from statistical exploration [Axelrod (1997)](http://www.amazon.com/Complexity-Cooperation-Agent-Based-Competition-Collaboration/dp/0691015678). While many methodological questions remain areas of active inquiry, especially in the realms of model robustness and model/data confrontations, researchers have been attracted by the ease with which computational methods can shed light on intractable theoretical puzzles. Some researchers have gone so far as to argue that pure theory has little left to offer\u2014that for social science to progress, we need simulations rather than theorems [Hahn (1991)](http://www.jstor.org/stable/2233836)."
     ]
    },
    {
     "cell_type": "markdown",
     "metadata": {},
     "source": [
      "One specific hope is that simulations will advance social science by enabling the creation of more realistic models. For example, economists can build models that incorporate important historical, institutional, and psychological properties that \u201cpure theory\u201d often has trouble accommodating, including learning, adaptation, and other interesting limits on the computational resources of real-world actors. Another specific hope is that unexpected but useful (for prediction or understanding) aggregate outcomes will emerge from the interactions of autonomous actors in agent-based simulations. These hopes are already being met in many surprising and useful ways [Bonabeau (2002)](http://www.pnas.org/content/99/suppl.3/7280.full)."
     ]
    },
    {
     "cell_type": "markdown",
     "metadata": {},
     "source": [
      "Simulations are considered to be agent-based when the outcomes of interest result from the repeated interaction of autonomous actors, called \u2018agents\u2019. These agents are autonomous in the sense that each agent selects actions from its own feasible set based on its own state. An agent is often a stylized representation of a real-world actor: either an individual, such as a consumer or entrepreneur, or an aggregate of individuals, such as a corporation or a monetary authority (which may in turn be explicitly constituted of agents)."
     ]
    },
    {
     "cell_type": "markdown",
     "metadata": {},
     "source": [
      "Substantial research in agent-based simulation (ABS) has been conducted in a variety of general purpose programming languages, including procedural languages such as Fortran, C, or Pascal; object oriented languages such as Objective-C, Smalltalk, C++, or Java; very-high level matrix languages such as MATLAB or GAUSS; and even symbolic algebra languages such as Maple or Mathematica. There are also a variety of special purpose toolkits for ABS, including [SWARM](http://www.swarm.org/index.php/Main_Page) and [MAML](http://www.maml.hu/) (built in Objective-C); [Ascape](http://ascape.sourceforge.net/), [NetLogo](http://ccl.northwestern.edu/netlogo/), and [Repast](http://repast.sourceforge.net/) (built in Java); and many others [Gilbert and Bankes (2002)](http://www.pnas.org/content/99/suppl.3/7197.full). In addition, there are a few efforts at general environments in which a variety of ABS experiments can be run. (Bremer's GLOBUS model, [Hughes's IFs model](http://www.ifs.du.edu/), and [Tesfatsion's Trade Network Game](http://www2.econ.iastate.edu/tesfatsi/tnghome.htm) model are salient examples.) Researchers occasionally express the hope that one of these might emerge as a lingua franca for ABS research [Luna and Stefansson (2000)](http://jasss.soc.surrey.ac.uk/4/2/reviews/johnson.html). Working against this, as others note, are the interfaces of capable toolkits and environments, which are often as difficult to master as a full-blown programming language [Gilbert and Bankes (2002)](http://www.pnas.org/content/99/suppl.3/7197.full). A variety of languages and toolkits remain in use, and this seems likely to persist, along with efforts to assess their relative utility [Railsback et al. (2006)](http://www.humboldt.edu/ecomodel/documents/ABMPlatformReview.pdf)."
     ]
    },
    {
     "cell_type": "markdown",
     "metadata": {},
     "source": [
      "This paper explores the use of [Python](httP://www.python.org) as a language for ABS experiments. Python is a very-high-level general-purpose programming language that is suitable for a range of simulation projects, from class projects by students to substantial research projects. In the face of the plethora of alternatives, an additional ABS research language may seem otiose. However this paper shows that the Python programming language offers a natural environment for agent-based simulation that is appropriate for both research and teaching."
     ]
    },
    {
     "cell_type": "markdown",
     "metadata": {},
     "source": [
      "This paper illustrates that suitability by quickly and simply developing a toolkit that can be applied to a classic ABS model: the evolutionary iterated prisoner's dilemma. This application, which is familiar to social scientists and illustrative of key needs in ABS research, serves to illustrate some virtues of Python for such simulation projects.$^{2}$ The core goals of the paper naturally imply a substantial tutorial component: an introduction to agent-based simulation for those new to the area, an introduction to simulation of the evolutionary iterated prisoner's dilemma, and a very narrowly focused introduction to the Python programming language. Since code reuse and extensibility are crucial components of simulation projects, we also show how to extend a basic simulation toolkit to explore the importance of topology, payoff cardinality, and strategy evaluation for evolutionary outcomes."
     ]
    },
    {
     "cell_type": "markdown",
     "metadata": {},
     "source": [
      "The iterated prisoner's dilemma (IPD) is familiar to many social scientists, and many ABS researchers have implemented some version of the IPD as an exercise or illustration. Readers with ABS backgrounds will be able to appreciate how simple, readable, and intuitive our Python implementation proves when compared to similar projects implemented in other languages.$^{3}$ This is a key reason to use Python for ABS research and teaching: with a little care from the programmer and an extremely modest understanding of Python by the reader, Python code can often be as readable as pseudocode. This is no accident: [readability](http://www.python.org/dev/peps/pep-0020/) is an explicit design goal of the Python language."
     ]
    },
    {
     "cell_type": "markdown",
     "metadata": {},
     "source": [
      "The core objective of the paper is to enable students, teachers, and researchers immediately to begin social-science simulation projects in a general purpose programming language. We achieve this by pursuing three related goals. First, we offer an introduction to the object-oriented modeling of agents, which is a crucial component of agent-based simulation. Second, we elaborate a simple yet usable toolkit that we apply to a classic ABS model: an evolutionary iterated prisoner's dilemma. The speed and ease with which this prototype is developed supports our claim that ABS research and teaching find a natural ally in the Python programming language. Finally, we illustrate code reuse and extensibility by extending our basic toolkit in two directions, exploring the importance of topology and of payoff cardinality for evolutionary outcomes."
     ]
    },
    {
     "cell_type": "markdown",
     "metadata": {},
     "source": [
      "## Object Oriented Programming\n",
      "\n",
      "This section provides a very brief introduction to object-oriented programming and its relationship to agent-based simulation. It also provides a similarly brief introduction to aspects of the Python programming language that facilitate ABS research."
     ]
    },
    {
     "cell_type": "markdown",
     "metadata": {},
     "source": [
      "Agent-based simulation is most naturally approached with object-oriented programming languages. In order to illustrate this natural relationship, we need a little vocabulary. An object is a collection of characteristics (data) and behavior (methods). In a game simulation, for example, a *player* object may have a move history as data and a method for producing new moves. We will call a computer program \u2018object-based\u2019 to the extent that data and methods tend to be bundled together into useful objects."
     ]
    },
    {
     "cell_type": "markdown",
     "metadata": {},
     "source": [
      "Many researchers consider models of interacting agents to be naturally object-based. For example, a player in a game is naturally conceived in terms of that individual player's characteristics and behavior. We may therefore bundle these together as the data and methods of a player object. (The next section presents an example.)"
     ]
    },
    {
     "cell_type": "markdown",
     "metadata": {},
     "source": [
      "In the present paper, we will consider object-based code to be \u201cobject-oriented\u201d when it relies on encapsulation.$^{4}$ Code relies on encapsulation when objects interact via interfaces that conceal implementation details: users of an object rely on its interface, without detailed knowledge of how the object produces its behavior. For example, we will design a player object such that we can ask for its next move simply by communicating with its move method, without worrying about how that method is implemented. Specifically, we need not worry about whether the player owns the data used to produce the move, or even whether the player delegates the selection of the move to some other agent."
     ]
    },
    {
     "cell_type": "markdown",
     "metadata": {},
     "source": [
      "Given this highly simplified taxonomy, we can say object-oriented programming (OOP) is possible in most computer languages. It is a matter of approach and practices: OOP focuses on defining encapsulating objects and determining how such objects will interact. Yet it is also the case that some languages facilitate OOP. We say a programming language is object-oriented to the extent that it facilitates object-oriented programming."
     ]
    },
    {
     "cell_type": "markdown",
     "metadata": {},
     "source": [
      "Key facilities of any OOP language are inheritance and polymorphism. Inheritance is essentially a useful way to implement the old practice of code reuse: one class of objects can inherit characteristics (data) and behavior (methods) from another class. This allows common data and methods to be coded at a single location, reducing coding errors and facilitating program maintenance and debugging. In practice, we often create specialized classes that inherit from more general classes, making it easy to compare the implications of various behavioral specializations. Inheritance proves to be an extremely powerful way to reuse existing code, and it often facilitates writing simpler, more robust, and easier to understand code. Part of the resulting simplicity arises through \u2018polymorphism', as when a common method call is made to distinct classes that provide divergent responses.$^{5}$ For example, all player classes implement a move method, but some players base their move selection on their past playing experience and others do not. For an object to participate as a player in a particular game, it must respond appropriately to certain messages. For example, it must have a move method that accepts certain arguments and returns appropriate values. However, we need not know anything about the inner workings of the player's move method; how a player moves can vary by player type. (Subsequent sections provide examples.)"
     ]
    },
    {
     "cell_type": "markdown",
     "metadata": {},
     "source": [
      "The phenomenologically salient actors of social science will often be natural objects in our simulation models. This adds intuitive appeal to our simulation models: the actors in our artificial world are these objects. The interactions of these autonomous units produce the model outcomes, suggesting analogies to the ways in which real-world actors produce real-world outcomes. This aspect of OOP can facilitate production of sensible models and almost certainly helps with communication\u2014two big advantages in a relatively new area of research.$^{6}$"
     ]
    },
    {
     "cell_type": "markdown",
     "metadata": {},
     "source": [
      "## Considering Python\n",
      "\n",
      "Researchers naturally attend to productivity when choosing a programming environment. Students and teachers are particularly interested in ease of use, cost, and the availability of good documentation and support groups. The choice of programming language will therefore be very personal, responding to cost, to individual modes of thinking, and to existing human capital. That said, Python's combination of ease of use, power, and readability constitute an attractive environment. This section provides an overview of some of these features. (Appendix B includes guidance for installing and running Python.)"
     ]
    },
    {
     "cell_type": "markdown",
     "metadata": {},
     "source": [
      "Python is a young language: version 1 was released in 1994, and the very popular version 2.2 had its final release in 2003. Despite its youth, Python is considered stable and robust, with around a million users [Lutz (2007)](http://rmi.net/~lutz/). Python is open-sourced under the liberal [Python License](http://docs.python.org/2/license.html), which ensures that it can be freely used (even in commercial projects). The [Python Software Foundation](http://www.python.org/psf/) protects the Python trademark, funds Python related development, and provide extensive [documentation](http://python.org/doc/) for both beginners and advanced users. Python's unusally clear syntax and ease of use has made it increasingly popular in introductory computer science classes. At the same time, Python's power, flexibility, true object orientation, and ready integration with other languages have given Python a growing presence in business and scientific computing. These are the same features that will underpin the simplicity and readability of the game simulations presented below."
     ]
    },
    {
     "cell_type": "markdown",
     "metadata": {},
     "source": [
      "Many researchers claim that OOP languages facilitate ABS modeling. Among the OOP languages, Python is notable for its readability, ease of use, and natural syntax\u2014all of which facilitate rapid learning and easy prototyping. This does not constitute an argument that Python is the \u201cbest\u201d language for agent-based simulation, whatever that might mean; it simply highlights a few features that make Python an attractive language for students, teachers, and researchers who have not already made a language commitment. No single feature makes Python unique, but together they add up to an attractive combination of power and ease of use. Here are a few salient considerations.\n",
      "\n",
      "* **Readability:** We list this first, since it is a crucial consideration in teaching, code sharing, and code reuse. Code that is easy to read is more easily shared with a research community and more easily reused by the author after the passage of time. Lightly commented Python code is often as readable as pseudocode, as we show below. Readability is promoted by Python's syntax, especially the use of whitespace to delimit code blocks.$^{7}$ It is also promoted by the Python programming culture, which emphasizes code readability and disparages clever but obscure programming tricks.\n",
      "* **Documentation:** Online documentation is excellent and free. Built-in functions generally provide excellent self-documentation (via the help function). Python encourages the creation of self-documenting objects, and a substantial amount of self-documentation is provided by Python's extensive introspection facilities.\n",
      "* **Interpreted Language:** In principle, any language may be compiled or interpreted, and even so-called \u201cinterpreted\u201d languages are generally compiled (e.g., to byte code) before execution. However interactive Python interpreters exist for every major platform, and Python programming is very largely platform independent. This facilitates code-sharing and collaboration with other ABS researchers. Working in an interactive interpreter can facilitate prototyping and rapid development. From an instructional perspective, this is an important pedagogical aid (due to the immediate feedback from the interpreter). These advantages are not costless: lower-level languages such as C or Fortran will be much faster at loop-intensitve operations, and this speed difference can be critical for very large-scale simulations. (But see the discussion of extensibility below.)\n",
      "* **Dynamic Typing:** Python is dynamically typed: variables (names) do not have types; rather the values that are assigned to them do. Dynamic typing has two widely acknowledged advantages: code becomes simpler to write and simpler to read, and prototyping and refactoring are facilitated.$^{8}$\n",
      "* **Duck Typing:** Python encourages programming to objects\u2019 methods rather than to their types. This in turn encourages a strong polymorphism known as duck typing: objects interact based on their attributes (rather than their class). This facilitates quick prototyping and refactoring.\n",
      "* **Flexible Built-In Data Structures:** A few powerful, flexible, and extremely easy to use data structures are [built-in](http://docs.python.org/2/library/functions.html), in the sense that Python always makes them available. Here we mention the two sequence data types (list and tuple) and one mapping type (dict).$^{9}$ Sequence data types are indexed collections of items, which may be heterogeneous. Lists and tuples are sequence types that are ubiquitous in Python programming. An empty list can be created as *[ ]* or as *list( )*; an empty tuple can be created as *( )* or as *tuple( )*. A populated list or tuple can be created with a comma separated listing of its elements: *[1,'a']* is a two element list (with heterogeneous elements); *(1,'a')* is a two element tuple (with the same elements); and *[(3,3), (0,5)]* is a list containing two tuples, which each contain two elements. Tuples are immutable: they cannot be changed after they are created. Lists are mutable: they can grow as needed, and elements can be replaced or deleted. (See Appendix B for more details.) Sequences can be used for very convenient loop control: Python's *for* statement iterates over the items of a sequence. For example, if *seq* is a list or tuple, the following code snippet prints a representation of each item in *seq*:\n",
      "\n",
      "> *for item in seq:*\n",
      ">> *print item*\n",
      "\n",
      "> The dictionary is the basic Python mapping data type (resembling hash tables or associative arrays in other languages). A dictionary is a collection of key-value pairs, where the value can be retrieved by using the key as an index. If \n",
      "\n",
      ">>*x=dict(a=0,b=1)* \n",
      "\n",
      ">then *x['a']* returns the value *0* and *x['b']* returns the value *1*. The same dictionary can be created from a sequence of 2-tuples: \n",
      "\n",
      ">>*x=dict( [('a',0), ('b',1)] )*\n",
      "\n",
      "* **Useful Built-In Functions:** A few dozen very useful functions are [built-in](http://docs.python.org/2/library/functions.html), in the sense that Python always makes them available. Examples include *list*, *tuple*, and *dict*, which are discussed above. The user does not need to import any standard library modules to access built-in functions. We will mention one more at this point: *range*. If *i* is a nonnegative integer, then *range(i)* creates a list of the first *i* nonnegative integers.$^{10}$ It is idiomatic in Python to use range for loop control. For example,\n",
      "\n",
      ">*for i in range(10):*\n",
      ">> *print i*\n",
      "\n",
      "* **Generator Expressions:** Python uses very powerful and easy to read syntax for the creation of data structures. Rather than traditional looping constructs, \u201cgenerator expressions\u201d are often preferred for producing lists and tuples. Generator expressions are perhaps best introduced by contrast with traditional practices. Let *players* be a collection of players, each of whom has a *playertype* attribute, and suppose we want to produce a corresponding *tuple* of playertypes. Here is a (fairly) traditional approach to this problem:\n",
      "\n",
      ">*ptypes = list()*\n",
      ">*for player in players:*\n",
      ">> *ptypes.append(player.playertype)*\n",
      ">*ptypes = tuple(ptypes)*\n",
      "\n",
      "> In this traditional approach, we create an empty list, to which we sequentially append the playertype type of each player, and we finally create a tuple corresponding to the list of playertypes.$^{11}$ As an alternative approach, we can accomplish the same thing more elegantly and efficiently with a generator expression:\n",
      "\n",
      "> *ptypes = tuple( player.playertype for player in players )*\n",
      "\n",
      "> This iterates through the generator *(player.playertype for player in playerlist)* to populate a tuple of player types, one playertype for each player.$^{12}$ (In contrast with the first approach, we side-step the creation of a temporary list.) The expression on the right reads very naturally: create a tuple that contains the player's playertype for each player in *players*. This is a remarkably readable and compact way to generate this new tuple's elements."
     ]
    },
    {
     "cell_type": "markdown",
     "metadata": {},
     "source": [
      "### Additional Considerations\n",
      "\n",
      "The following more technical considerations may interest an instructor or a new researcher who is considering the use of Python for agent-based modeling. Other readers can skip this section.\n",
      "\n",
      "* **Garbage Collection:** Many languages require the programmer to explicitly allocate and deallocate memory for any objects created. Memory leaks are a common problem in such languages, even for experienced programmers.$^{13}$ Other languages, Python included, build in automatic memory management: automatic garbage collection ensures that the memory allocated to an object is freed up when the object is no longer needed. This may involve some sacrifice of speed and memory usage, but the gain in convenience is considerable. Most social-science researchers will value this convenience, and most social-science students will find automatic garbage collection to be indispensable.\n",
      "\n",
      "* **Powerful Standard Library:* Python comes with a powerful, and extremely well documented [standard library](http://docs.python.org/2/library/). Two components of special interest to ABS researchers are the utilities for platform independent interaction with the operating system and the extensive random-number services.$^{14}$\n",
      "\n",
      "* **Graphics:** Excellent and powerful graphics libraries are freely available. For example, users needing static or interactive two-dimensional graphs might use the free and open-source [Matplotlib](http://matplotlib.org/) package, which allows both ease of use and, for those who need it, a remarkably fine-grained control of graphical presentations.\n",
      "\n",
      "* **Numerics:** The free and open-source [NumPy](http://www.numpy.org/) package implements powerful multidimensional arrays along with the basic functionality required for scientific computing. The NumPy-based [SciPy](http://www.scipy.org/) package offers substantial additional functionality, resulting in a free and open source scientific computing environment competitive with many commercial offerings.\n",
      "\n",
      "* **Extensibility:** Speed concerns may arise in any interpreted language when a program makes heavy use of looping constructs. The high speed of modern computers mitigates this concern but for models with very large numbers of agents does not eliminate it. One approach is to use a just-in-time compiler for Python code. More generally, Python is considered very extensible, in the sense that performance enhancing Python extensions can be written in relatively low-level programming languages such as C or Fortran.$^{15}$"
     ]
    },
    {
     "cell_type": "markdown",
     "metadata": {},
     "source": [
      "Other important features of Python\u2014exception handling, support for unit testing, support for multiple inheritance, support for metaclasses, support for metaprogramming (via descriptors such as decorators and properties), support for simple but sophisticated operator overloading, and memory conserving features such as slots\u2014prove useful in advanced applications. These issues are beyond the scope of the current paper."
     ]
    },
    {
     "cell_type": "markdown",
     "metadata": {},
     "source": [
      "## A Simple Game\n",
      "\n",
      "When discussing agent-based simulations, nothing substitutes for actual code, so we will now implement a very simple game. We initially eschew game theoretic considerations: our two players will randomly chose their moves and ultimately receive the payoffs determined by the game. (See Appendix B for suggestions on how to run the following code.)"
     ]
    },
    {
     "cell_type": "markdown",
     "metadata": {},
     "source": [
      "This section provides an introduction to Python classes. We therefore begin by defining a fairly trivial class. A class definition provides a general description of the data and methods of a new type of object, and accordingly our definition of the *RandomMover* class provides a general description of our first game players. A *RandomMover* has no data and a single method, named *move*. We will soon create our first game players as \u201cinstances\u201d of this *RandomMover* class, but first we will examine the class definition. (Readers familiar with class and function definitions can skim the next few paragraphs.)"
     ]
    },
    {
     "cell_type": "code",
     "collapsed": false,
     "input": [
      "import random\n",
      "from itertools import izip\n",
      "import numpy as np\n",
      "import matplotlib.pyplot as plt"
     ],
     "language": "python",
     "metadata": {},
     "outputs": [],
     "prompt_number": 1
    },
    {
     "cell_type": "code",
     "collapsed": false,
     "input": [
      "class RandomMover(object):\n",
      "    def move(self):\n",
      "        \"\"\"\n",
      "\n",
      "        A RandomMover player chooses either Defect (True or 1) or \n",
      "        Cooperate (False or 0) with probability 0.5 (i.e., our\n",
      "        RandomMover simply flips a fair coin!).\n",
      "\n",
      "        \"\"\"\n",
      "        return random.uniform(0,1) < 0.5"
     ],
     "language": "python",
     "metadata": {},
     "outputs": [],
     "prompt_number": 2
    },
    {
     "cell_type": "markdown",
     "metadata": {},
     "source": [
      "Note that a class definition starts with the keyword *class*, followed by the name *RandomMover* that we are giving the class, followed by a colon.$^{16}$ So the line *class RandomMover(object):* is our class-definition header: it begins our definition of the *RandomMover* class, which is completed by the indented statements that follow. Blocks are always defined in Python by level of indentation and never by the use of braces."
     ]
    },
    {
     "cell_type": "markdown",
     "metadata": {},
     "source": [
      "The body of this class definition is a function definition, which defines the only behavior of a *RandomMover* instance. When asked to move, a *RandomMover* instance will return a random move, based on a draw from a standard uniform distribution."
     ]
    },
    {
     "cell_type": "markdown",
     "metadata": {},
     "source": [
      "A function definition starts with the keyword *def*, followed by the name *move* that we are giving the function, followed by parentheses that enclose any function parameters, followed by a colon. So the line *def move(self):* is our function definition header; it begins our definition of the *move* function, which is completed by the indented statement that follows. This function has one argument, which is called *self* for reasons that we now discuss."
     ]
    },
    {
     "cell_type": "markdown",
     "metadata": {},
     "source": [
      "Functions defined in the body of a class definition are called \u2018methods\u2019. Methods define the behavior of instances of that class. When an instance receives a method call, Python always provides as an implicit first argument the instance itself. This is likely to sound obscure to a reader with no OOP background, but it should be clear by the end of this section. Therefore it is conventional to name this first argument *self*. Note that even when the body of a method does not make use of the *self* argument, as illustrated by this introductory example, we still must include the *self* argument in the method definition.$^{17}$"
     ]
    },
    {
     "cell_type": "markdown",
     "metadata": {},
     "source": [
      "Since Python uses indentation to delimit code blocks, we must indent our function-definition header to make it part of the class definition. Similarly, the body of the function definition is given an additional level of indentation. In this case, the body of the function is a single statement: *return random.uniform(0,1) < 0.5*. When this return-statement is executed, the expression *random.uniform(0,1) < 0.5* is evaluated, and the resulting value is returned by our move method. This value is computed as follows. The expression *random.uniform(0,1)* evaluates to a draw from a standard uniform distribution, so it is a \u201crandom\u201d number between zero and one.$^{18}$ It is compared to the number 0.5. The inequality comparison value is either True or False. In what follows, a player must choose between two behaviors, which we call \u201cdefection\u201d (represented by True or 1) or \u201ccooperation\u201d (represented by False or 0). These behaviors are discussed in more detail in the Prisoner's Dilemma section."
     ]
    },
    {
     "cell_type": "markdown",
     "metadata": {},
     "source": [
      "We will now play a simple game. We begin by creating a payoff matrix for the game. Note that we include in the code a comment to that effect: the hash mark (#) is a comment marker, signalling that the rest of the line is commentary rather than code. We will use the payoff matrix used in [Scodel et al. (1959)](http://www.jstor.org/stable/172653) and in many subsequent studies. In subsequent sections, we will consider the role of the payoff matrix in much more detail. The payoff matrix is constructed from lists and tuples (as discussed above). The assignment \n",
      "\n",
      "> *PAYOFFMAT = [ [(3,3),(0,5)] , [(5,0),(1,1)] ]* \n",
      "\n",
      "creates a list containing two lists, each of which contains two tuples. These tuples hold the move-based payoffs for two players. For example, the tuple (3,3) gives the payoffs to the players if both cooperate: each player gets a payoff of 3."
     ]
    },
    {
     "cell_type": "code",
     "collapsed": false,
     "input": [
      "##### GAME: RandomMover #####\n",
      "\n",
      "# create a payoff matrix and two players\n",
      "PAYOFFMAT = [ [(3,3),(0,5)] , [(5,0),(1,1)] ]\n",
      "player1 = RandomMover()\n",
      "player2 = RandomMover()\n",
      "\n",
      "# get a move from each player\n",
      "move1 = player1.move()\n",
      "move2 = player2.move()\n",
      "\n",
      "# retrieve and print the payoffs\n",
      "pay1, pay2 = PAYOFFMAT[move1][move2]\n",
      "print \"Player1 payoff:\", pay1\n",
      "print \"Player2 payoff:\", pay2"
     ],
     "language": "python",
     "metadata": {},
     "outputs": [
      {
       "output_type": "stream",
       "stream": "stdout",
       "text": [
        "Player1 payoff: 0\n",
        "Player2 payoff: 5\n"
       ]
      }
     ],
     "prompt_number": 3
    },
    {
     "cell_type": "markdown",
     "metadata": {},
     "source": [
      "We next create two *RandomMover* instances, which we name *player1* and *player2*.$^{19}$ Recall that a class definition provides a general description of a new kind of object, and we use this definition to create instances of this new kind of object. We can assign a *RandomMover* instance to the name *player1* like this: *player1 = RandomMover()*. We say that each player \u201cinstantiates\u201d the *RandomMover* class."
     ]
    },
    {
     "cell_type": "markdown",
     "metadata": {},
     "source": [
      "Next we get moves from *player1* and *player2* by calling the *move* method of each player.$^{20}$ Using these moves and the payoff matrix, we calculate the payoff for each player. True is equivalent to the integer 1, and False is equivalent to the integer 0. Finally we print the results of playing this game. A comma separates items to be printed, so the first print statement prints two items: the descriptive string delimited by quotes, and the value of the *player1* payoff."
     ]
    },
    {
     "cell_type": "markdown",
     "metadata": {},
     "source": [
      "### Playing Together Nicely\n",
      "\n",
      "In the previous section, we defined the *RandomMover* class to have a built in probability of defection of 0.5. If we repeatedly play the game of that section, we will discover the average payoff implied by this strategy. Much more informative would be the average payoff for each of a variety of strategies. It would be senseless to create a new class for each strategy. Instead, we will create a class that can produce instances that have different strategies. We will call this class *RandomPlayer*. This section illustrates what happens when *RandomPlayer* instances with various defection probabilities play against each other."
     ]
    },
    {
     "cell_type": "markdown",
     "metadata": {},
     "source": [
      "In the previous section we coded a simple two-player game: we ran the game and computed player payoffs based on a payoff matrix. Our desire to run such games repeatedly for a variety of player strategies suggests that a game is a natural object in our project. In this section, the games played will be instances of a *SimpleGame* class."
     ]
    },
    {
     "cell_type": "markdown",
     "metadata": {},
     "source": [
      "Consider the following initial design, which allows for a game object and player objects to interact. A *SimpleGame* instance will have as data a list of players and a payoff matrix, and it will also have a *history* attribute to hold the game history. A game will have a *run* method (to run the game) and a *payoff* method to compute player payoffs based on player moves and the payoff matrix."
     ]
    },
    {
     "cell_type": "markdown",
     "metadata": {},
     "source": [
      "The design stage is the time to plan for interactions between a game and its players. We must decide on our interfaces, which are set the basic rules for how games and players can interact. To make the *SimpleGame* class useful for later simulations, it will not only ask each player for a move but it will offer each player a chance to record the game (itself). Although we do not plan on doing any recording in our initial games, we will define our *RandomPlayer* class to match this behavior: it not only must have a *move* method but also must have a *record* method. In addition, a *SimpleGame* will always pass itself when calling a player method, so each of these methods must accept a game as an argument. A summary of the proposed data and methods for these two classes follows.\n",
      "\n",
      "1. *SimpleGame*\n",
      "* Data: *players, payoffmat, history*\n",
      "* Methods: *run*, *payoff*\n",
      "\n",
      "2. *RandomPlayer*\n",
      "* Data: *p\\_defect*\n",
      "* Methods: *move*, *record*"
     ]
    },
    {
     "cell_type": "markdown",
     "metadata": {},
     "source": [
      "Each *RandomPlayer* has a single data attribute: its probability of defection, *p\\_defect*, which can differ by player. We will now use *RandomPlayer* instances to play our *SimpleGame*. Players of a *SimpleGame* must respond to certain messages (i.e., method calls). This implies a general interface requirement for any player of a *SimpleGame*: the player must respond to *move* and *record* method calls.$^{21}$ The *RandomPlayer* class therefore includes *move* and *record* methods."
     ]
    },
    {
     "cell_type": "markdown",
     "metadata": {},
     "source": [
      "The *RandomPlayer* class has much in common with the *RandomMover* class: by default it moves just like a *RandomMover*, and its *record* method does nothing. Let us focus on the changes. First the big change: notice that the *RandomPlayer* class defines a method named \\__init__. This is a special name, reserved for the method that does the \u2018initialization\u2019 of a new instance.$^{22}$ Typically, initial values of instance attributes are set during initialization. The \\__init__ method of a *RandomPlayer* has a single responsibility: to set the initial value of the player's *p\\_defect* attribute. Since each *RandomPlayer* instance will have its own probability of defection, we say that *p\\_defect* is an \u201cinstance attribute\u201d. We provide a default value of 0.5, but an instance can always be created with a different value.$^{23}$"
     ]
    },
    {
     "cell_type": "code",
     "collapsed": false,
     "input": [
      "class RandomPlayer(object):\n",
      "    def __init__(self, p=0.5):\n",
      "        \"\"\"\n",
      "        \n",
      "        Initiates a RandomPlayer.\n",
      "\n",
      "        \"\"\"\n",
      "        self.p_defect = p\n",
      "        \n",
      "    def move(self, game):\n",
      "        \"\"\"\n",
      "\n",
      "        A RandomPlayer chooses either Defect (True or 1) or \n",
      "        Cooperate (False or 0) with probability p_defect (i.e., \n",
      "        our RandomMover simply flips a biased coin where the \n",
      "        probability of success is p_defect!).\n",
      "\n",
      "        \"\"\"\n",
      "        return random.uniform(0,1) < self.p_defect\n",
      "        \n",
      "    def record(self, game):\n",
      "        pass"
     ],
     "language": "python",
     "metadata": {},
     "outputs": [],
     "prompt_number": 4
    },
    {
     "cell_type": "markdown",
     "metadata": {},
     "source": [
      "The function-definition headers for the *move* and *record* methods reflect our design decisions, discussed above. Whenever a *SimpleGame* calls the *move* or *record* method of a player, it will *pass* itself. In later sections, this will prove a useful feature of the *SimpleGame* class. This later utility determines the signature of these methods in our *RandomPlayer* class. That is, we design this illustrative *RandomPlayer* class for interactions with a more generally useful game class."
     ]
    },
    {
     "cell_type": "markdown",
     "metadata": {},
     "source": [
      "The move method of a *RandomPlayer* is largely unchanged. However since we want our *RandomPlayer* instances to play a *SimpleGame*, we must add a new argument, which we name *game*. The new argument simply provides a consistent interface, anticipating that a *game* will always pass itself when it calls a player's method. The *record* method also reflects this interface decision, although the *record* method literally does nothing. Python uses the keyword *pass* to indicate \u201cdo nothing\u201d. This method exists solely to accommodate our interface design\u2014that is, to allow a *RandomPlayer* to play a *SimpleGame*."
     ]
    },
    {
     "cell_type": "markdown",
     "metadata": {},
     "source": [
      "It is time for some slightly heavier lifting. *SimpleGame* is the most complex class we introduce in this paper, but it includes many now familiar components. Specifically, the design of its methods parallels the code we used to run our previous game simulation. One benefit of the care with which we will approach the design of our *SimpleGame class* is that we can continue to use it throughout this paper."
     ]
    },
    {
     "cell_type": "markdown",
     "metadata": {},
     "source": [
      "The class definition begins in a familiar way. After the class-definition header, *class SimpleGame(object):*, we define an \\__init__ method to initialize newly created instances. We initialize each *SimpleGame* instance with two player instances and a payoff matrix. The \\__init__ function of *SimpleGame* therefore has four parameters: *self, player1, player2*, and *payoffmat*. As discussed earlier, *self* will be the local name of the instance that is being initialized. Similarly, the player instances we pass in will have the local names *player1* and *player2*. So the statement *self.players = [player1,player2]* creates an instance attribute named players and assigns as its value a list of two players. The statement *self.history = list()* assigns an empty list to the *history* attribute. Later on, we will append to this list in order to record history of game moves. Each *SimpleGame* instance will therefore have these data attributes: *players, payoffmat*, and *history*."
     ]
    },
    {
     "cell_type": "code",
     "collapsed": false,
     "input": [
      "# simplest computation of mean\n",
      "def mean(seq):  \n",
      "    \"\"\"\n",
      "\n",
      "    Return mean of values in `seq`.\n",
      "\n",
      "    \"\"\"\n",
      "    n = len(seq)\n",
      "    return sum(seq) / float(n)\n",
      "\n",
      "# simple 2-dimensional transpose\n",
      "def transpose(seqseq): \n",
      "    \"\"\"\n",
      "\n",
      "    Return transpose of `seqseq`.\n",
      "\n",
      "    \"\"\"\n",
      "    return zip(*seqseq)"
     ],
     "language": "python",
     "metadata": {},
     "outputs": [],
     "prompt_number": 5
    },
    {
     "cell_type": "code",
     "collapsed": false,
     "input": [
      "class SimpleGame(object):\n",
      "    def __init__(self, player1, player2, payoffmat):\n",
      "        \"\"\"\n",
      "\n",
      "        Initializes a SimpleGame.\n",
      "        \n",
      "        \"\"\"\n",
      "        self.players = [ player1, player2 ]\n",
      "        self.payoffmat = payoffmat\n",
      "        self.history = list()\n",
      "        \n",
      "    def run(self, game_iter=4):\n",
      "        \"\"\"\n",
      "\n",
      "        Play the game!\n",
      "\n",
      "        \"\"\"\n",
      "        # unpack the two players\n",
      "        player1, player2 = self.players\n",
      "        \n",
      "        # each iteration, get new moves and append these to history\n",
      "        for iteration in range(game_iter):\n",
      "            newmoves = player1.move(self), player2.move(self)\n",
      "            self.history.append(newmoves)\n",
      "            \n",
      "        # prompt players to record the game played (i.e., 'self')\n",
      "        player1.record(self); player2.record(self)\n",
      "        \n",
      "    def payoff(self):\n",
      "        \"\"\"\n",
      "\n",
      "        Computes the average payoff for each player from playing the game.\n",
      "\n",
      "        \"\"\"\n",
      "        # unpack the two players\n",
      "        player1, player2 = self.players\n",
      "        \n",
      "        # generate a payoff pair for each game iteration\n",
      "        payoffs = (self.payoffmat[m1][m2] for (m1,m2) in self.history)\n",
      "\n",
      "        # transpose to get a payoff sequence for each player\n",
      "        pay1, pay2 = transpose(payoffs)\n",
      "        \n",
      "        # return a mapping of each player to its mean payoff\n",
      "        return { player1:mean(pay1), player2:mean(pay2) }"
     ],
     "language": "python",
     "metadata": {},
     "outputs": [],
     "prompt_number": 6
    },
    {
     "cell_type": "markdown",
     "metadata": {},
     "source": [
      "Once we have an initialized *SimpleGame* instance, we can do two things with it. First, we can run the game by calling the instance's *run* method. This elicits a number of moves from each player. The number is is determined by the *game\\_iter* argument, which has a default value of 4. Then we can get the game payoff for each player by calling the payoff method. The implementation details are very heavily commented and thereby largely self explanatory. When we run a game, we get a sequence of pairs of moves, one pair of moves for each iteration in the game. Note that for each iteration in the game, the game appends to its history the pair of moves made by the two players."
     ]
    },
    {
     "cell_type": "markdown",
     "metadata": {},
     "source": [
      "Naturally, the history of moves determines the game's payoff to each player. In a *SimpleGame* each player receives as a payoff the average of its single-move payoffs. Recalling our earlier discussion of generator expressions, we see that the definition of the payoff method includes a generator expression. The expression \n",
      "\n",
      ">*(self.payoffmat[m1][m2] for (m1,m2) in self.history)* \n",
      "\n",
      "will generate the player-payoff pairs for each pair of moves. We then transpose that grouping so as to group payoffs by player.$^{24}$ The payoff method returns a dictionary that maps each player to its payoff."
     ]
    },
    {
     "cell_type": "markdown",
     "metadata": {},
     "source": [
      "We now use our two new classes for a game simulation. The code for this is very similar to the code for our first game simulation. We begin by creating a payoff matrix and two players. We then create a game instance, initialized with these two players and our payoff matrix, and we run the game. Note that we call the SimpleGame class with three arguments: the two player instances and the payoff matrix required by its initialization function. When a *SimpleGame* instance is created, its \\__init__ method is called with these arguments to initialize the instance. Note again that it is an instance, not the class, which owns this data. We call the *run* method of *game* to run the game: this causes *game* to request moves from its players and to record their moves as the game history. We then call the *payoff* method of *game* to compute the game payoffs as the average of the single-move payoffs. Finally, we retrieve the computed payoffs and print the game payoff for each player."
     ]
    },
    {
     "cell_type": "code",
     "collapsed": false,
     "input": [
      "##### GAME: SimpleGame with RandomPlayer #####\n",
      "\n",
      "# create a payoff matrix and two players\n",
      "PAYOFFMAT = [ [(3,3),(0,5)] , [(5,0),(1,1)] ]\n",
      "player1 = RandomPlayer()\n",
      "player2 = RandomPlayer()\n",
      "\n",
      "# create and run the game\n",
      "game = SimpleGame(player1, player2, PAYOFFMAT)\n",
      "game.run()\n",
      "\n",
      "# retrieve and print the payoffs\n",
      "payoffs = game.payoff()\n",
      "\n",
      "print \"Player1 payoff:\", payoffs[player1]\n",
      "print \"Player2 payoff:\", payoffs[player2]"
     ],
     "language": "python",
     "metadata": {},
     "outputs": [
      {
       "output_type": "stream",
       "stream": "stdout",
       "text": [
        "Player1 payoff: 1.75\n",
        "Player2 payoff: 3.0\n"
       ]
      }
     ],
     "prompt_number": 7
    },
    {
     "cell_type": "markdown",
     "metadata": {},
     "source": [
      "It is worth pausing to consider what we have accomplished at this point. This bare-bones SimpleGame class has enough features that it will remain useful throughout this paper. Indeed, it can be used for for complex game simulations. Yet with a little work this useful object can be understood, and often even used, by readers without prior programming experience. This illustrates the readability and simplicity that is a strength of Python."
     ]
    },
    {
     "cell_type": "markdown",
     "metadata": {},
     "source": [
      "Since we called our game's *run* method without an argument, the game involves 4 moves per player (the default value of *game_iter*). Since our payoff matrix represents a Prisoner's Dilemma, we have run our first iterated prisoner's dilemma simulation. This simple structure remains at the core of the simulations run later in this paper."
     ]
    },
    {
     "cell_type": "markdown",
     "metadata": {},
     "source": [
      "Our *RandomPlayer* embodies a very simple concept of a strategy: it is nothing more than a constant probability of defection. It is nevertheless natural to be curious about the performance of various strategies against each other. Table 1 displays the average player1 payoff for various probabilities of default for player1 (**p1**, as listed in the first column) and for player2 (**p2**, as listed in the first row). We see that, for any given player2 probability of defection, player1 experiences an increase in its payoff if it increases its probability of defection. Similarly, for any given player1 probability of defection, player1 experiences a decrease in its payoff if player2 increases its probability of defection. (The situation is of course symmetric for player 2.) Perhaps most interesting are the results down the diagonal, where the payoffs for player1 and player2 are equal. As player1 and player2 increase a common probability of defection, their expected payoffs fall monotonically. These aspects of the prisoner's dilemma have drawn substantial research attention and will occupy us at several points in the present paper.\n",
      "\n",
      "**<div align='center'> Table 1: Player1 Payoffs at Various Defection Probabilities**</div>\n",
      "<div align='center'>\n",
      "<table border=\"1\" class=\"center \">\n",
      "<colgroup>\n",
      "<col width=\"14%\" >\n",
      "<col width=\"14%\" >\n",
      "<col width=\"14%\" >\n",
      "<col width=\"14%\" >\n",
      "<col width=\"14%\" >\n",
      "<col width=\"14%\" >\n",
      "<col width=\"14%\" >\n",
      "</colgroup>\n",
      "<thead valign=\"bottom\">\n",
      "<tr><th class=\"head stub\">p1\\p2</th>\n",
      "<th class=\"head\">0.0</th>\n",
      "<th class=\"head\">0.2</th>\n",
      "<th class=\"head\">0.4</th>\n",
      "<th class=\"head\">0.6</th>\n",
      "<th class=\"head\">0.8</th>\n",
      "<th class=\"head\">1.0</th>\n",
      "</tr>\n",
      "</thead>\n",
      "<tbody valign=\"top\">\n",
      "<tr><th class=\"stub\">0.0</th>\n",
      "<td>3.00</td>\n",
      "<td>2.44</td>\n",
      "<td>1.75</td>\n",
      "<td>1.23</td>\n",
      "<td>0.62</td>\n",
      "<td>0.00</td>\n",
      "</tr>\n",
      "<tr><th class=\"stub\">0.2</th>\n",
      "<td>3.39</td>\n",
      "<td>2.81</td>\n",
      "<td>2.03</td>\n",
      "<td>1.46</td>\n",
      "<td>0.85</td>\n",
      "<td>0.24</td>\n",
      "</tr>\n",
      "<tr><th class=\"stub\">0.4</th>\n",
      "<td>3.86</td>\n",
      "<td>3.19</td>\n",
      "<td>2.54</td>\n",
      "<td>1.87</td>\n",
      "<td>1.10</td>\n",
      "<td>0.41</td>\n",
      "</tr>\n",
      "<tr><th class=\"stub\">0.6</th>\n",
      "<td>4.19</td>\n",
      "<td>3.50</td>\n",
      "<td>2.76</td>\n",
      "<td>1.95</td>\n",
      "<td>1.41</td>\n",
      "<td>0.63</td>\n",
      "</tr>\n",
      "<tr><th class=\"stub\">0.8</th>\n",
      "<td>4.60</td>\n",
      "<td>3.86</td>\n",
      "<td>3.05</td>\n",
      "<td>2.29</td>\n",
      "<td>1.63</td>\n",
      "<td>0.80</td>\n",
      "</tr>\n",
      "<tr><th class=\"stub\">1.0</th>\n",
      "<td>5.00</td>\n",
      "<td>4.21</td>\n",
      "<td>3.55</td>\n",
      "<td>2.49</td>\n",
      "<td>1.88</td>\n",
      "<td>1.00</td>\n",
      "</tr>\n",
      "</tbody>\n",
      "</table>\n",
      "</div>\n",
      "</div>"
     ]
    },
    {
     "cell_type": "markdown",
     "metadata": {},
     "source": [
      "### Prisoner's Dilemma\n",
      "\n",
      "Our next project will be to explore further consequences of strategy choice in an iterated prisoner's dilemma. The present section offers a very brief overview and definition of the prisoner's dilemma, as context for the subsequent discussions. In a simple prisoner's dilemma there are two players each of whom chooses one of two actions, traditionally called \u2018cooperate\u2019 (C) and \u2018defect\u2019 (D). The payoffs are such that\u2014regardless of how the other player behaves\u2014a player always achieves a higher individual payoff by defecting. However the payoffs are also such that when both players defect they each get a smaller individual payoff than if both had cooperated."
     ]
    },
    {
     "cell_type": "markdown",
     "metadata": {},
     "source": [
      "Real world applications of the prisoner's dilemma are legion [Poundstone (1992)](http://www.amazon.co.uk/Prisoners-Dilemma-Neumann-Theory-Puzzle/dp/038541580X). The most famous application is to arms races: the story is that both sides race since each prefers to be armed regardless of the other's behavior, but an arms control agreement would make both better off. There are also many related results. [Schelling (1973)](www.jstor.org/stable/173406) famously argued that mandated helmets in hockey would be preferred by all players even though each individual player will forego a helmet when permitted. As a related but less considered illustration from the world of sports, consider a practice of competitive wrestlers: food deprivation and even radical restriction of liquids in an effort to lose weight in the days before a weigh-in. This is followed by rehydrating and binge eating after the weigh-in but before the match. Whether or not other wrestlers also follow this regime, individual wrestlers perceive it to provide a competitive advantage. But it is plausible that all players would be better off if the practice were ended (perhaps by mandating the skinfold testing advocated by the Wisconsin Minimum Weight Project)."
     ]
    },
    {
     "cell_type": "markdown",
     "metadata": {},
     "source": [
      "In its game theoretic formulation, stripped of the social ramifications of betrayal, the \u201cprisoner's dilemma\u201d is a misnomer: there is a dominant strategy so there is no dilemma. An informed and instrumentally rational player may pick without difficulty the individually rational strategy. An economist might be inclined to call this game \u201cthe prisoners paradox\u201d, to highlight the failure of individually rational action to produce an efficient outcome. In the present paper we nevertheless stick with the conventional name."
     ]
    },
    {
     "cell_type": "markdown",
     "metadata": {},
     "source": [
      "The payoff matrix presented earlier in our *SimpleGame* is often encountered, tracing to key early studies of the prisoner's dilemma.$^{25}$ We can use these canonical payoffs to highlight the paradoxical nature of the prisoner's dilemma. Imagine that the game models a public policy choice faced in three countries filled with different kinds of players. The population of the Country A comprises random players, as in our game simulations above, that choose either of the two strategies with equal probability. The average payoff to individuals in Country A is 2.25. People in Country B are informed and instrumentally rational individuals: they act individually so as to produce the best individual outcome, without knowledge of the other player's strategy. (That is, each player always chooses to defect.) The average payoff to individuals in Country B is 1. People in Country C have somehow been socialized to cooperate: each individual always chooses the cooperative strategy. The average payoff to individuals in Country C is 3."
     ]
    },
    {
     "cell_type": "markdown",
     "metadata": {},
     "source": [
      "Researchers have extensively investigated this apparent conflict between rationality and efficiency in a variety of contexts. In the next section, we will show how a standard generalization of player strategies can help us usefully taxonomize this conflict. See [Luna and Stefansson (2000)](http://jasss.soc.surrey.ac.uk/4/2/reviews/johnson.html) for a more detailed discussion."
     ]
    },
    {
     "cell_type": "markdown",
     "metadata": {},
     "source": [
      "### Defining the Prisoner's Dilemma\n",
      "\n",
      "Some authors define the prisoner's dilemma to include two additional constraints on the payoff matrix: the matrix must be symmetric, and the payoff sum when both cooperate must be at least the payoff sum when one cooperates and the other defects. Rapoport and Chammah (1965) introduce the latter restriction, which is sometimes justified as capping the payoff to defection or reducing the attractiveness of a purely random strategy. [Scodel et al. (1959)](http://www.jstor.org/stable/172653), [Oskamp (1971)](http://www.jstor.org/stable/173471), and others impose the further restriction that the payoff sum when one cooperates and the other defects must exceed the payoff sum when both defect. Many authors simply use without discussion the canonical payoff matrix above, which satisfies all these constraints. As we shall see near the end of this paper, even within these constraints, payoffs can matter."
     ]
    },
    {
     "cell_type": "markdown",
     "metadata": {},
     "source": [
      "## Contingent Strategies in an Iterated Prisoner's Dilemma\n",
      "\n",
      "When we suspect that game payoffs resemble a prisoner's dilemma, the appearance of cooperative behavior is provocative: it might indicate deviations from the individual rationality, or it might indicate that the payoffs have been incorrectly understood (Rapoport and Chammah 1965). [Trivers (1971)](http://www.cdnresearch.net/pubs/others/trivers_1971_recip.pdf) proposed reciprocity as a basis of cooperation. A decade later, political science and evolutionary biology joined hands to show that reciprocity could serve a basis for cooperation even in the face of a prisoner's dilemma [(Axelrod and Hamilton 1981)](http://www.cdnresearch.net/pubs/others/axelrod_ham_1981.pdf). This led to an intense exploration of the iterated prisoner's dilemma, wherein players play a prisoner's dilemma repeatedly. Unlike the static version, an iterated prisoner's dilemma (IPD) actually can involve a dilemma: choosing defection over cooperation will raise the one period payoff but may lower the ultimate payoff.$^{26}$"
     ]
    },
    {
     "cell_type": "markdown",
     "metadata": {},
     "source": [
      "We now consider players that use \u201creactive\u201d strategies [(Nowak and Sigmund 1992)](homepage.univie.ac.at/karl.sigmund/Nature92b.pdf). A reactive strategy determines current behavior as a response to past events. In this section, we adopt particularly simple and widely explored reactive strategies. Our reactive players respond to whether the other player previously cooperated (C) or defected (D), except of course when players are making their initial move. Players using such strategies have a **cd-i** playertype. A strategy for a **cd-i** playertype will be parameterized by a 3-tuple of probabilities: the probability of defecting when the other cooperated on the previous move, the probability of defecting when the other defected, and the probability of defecting on the initial move. The game played will again be iterations of our prisoner's dilemma."
     ]
    },
    {
     "cell_type": "markdown",
     "metadata": {},
     "source": [
      "Discussion of reactive strategies leads to a simple description of the essential nature of the strategies. This suggests that a strategy is a natural object in our model\u2014one whose general description should be embodied in a separate class. We will slightly generalize this suggestion by introducing the notion of a player type. In essence, we decompose our previous understanding of a player into two objects: the player, and its playertype. Our future game simulations will therefore involve three types of objects: a game, the players, and the playertypes (e.g, strategies)."
     ]
    },
    {
     "cell_type": "markdown",
     "metadata": {},
     "source": [
      "Once again our core project will be to create a game with two players. (In addition, we will seize pedagogical opportunities to illustrate delegation and inheritance.) We will call the new type of game a *CDIGame*. As before, a game will have as data a payoff matrix and players, and it will have a *run* method (to run the game) and a *payoff* method (to compute player payoffs based on player moves and the payoff matrix). But a *CDIGame* will additionally have a new method: get_last_move. A *CDIGame* is essentially a *SimpleGame* plus a new method: get_last_move."
     ]
    },
    {
     "cell_type": "markdown",
     "metadata": {},
     "source": [
      "A *CDIGame* will be played by a new type of player: *SimplePlayer*. A player will now have a playertype as data. Additional data will be games_played and players_played, which provide the player with storage for \u201cmemories\u201d. A player can *move*, *record* its history, and *reset* itself."
     ]
    },
    {
     "cell_type": "markdown",
     "metadata": {},
     "source": [
      "Finally, our truly new type of object is the *CDIPlayerType*. A player type will have as data p_cdi, which is the player type's strategy (i.e., a 3-tuple of probabilities). It will also have a *move* method.\n",
      "\n",
      "* **CDIGame:** Inherit data and methods from *SimpleGame*\n",
      "    1. New data: opponents\n",
      "    2. New methods: get_last_move\n",
      "\n",
      "* **SimplePlayer:**\n",
      "    1. Data: *playertype*, games_played, players_played\n",
      "    2. Methods: *move, record, reset*\n",
      "\n",
      "* **CDIPlayerType:**\n",
      "    1. Data: p_cdi\n",
      "    2. Methods: *move*"
     ]
    },
    {
     "cell_type": "markdown",
     "metadata": {},
     "source": [
      "The new *SimplePlayer* class will feel very familiar, so we begin our implementation exposition by examining its details. At initialization, a *SimplePlayer* instance acquires a player type. The line *self.playertype = playertype* assigns the value of the local variable named *playertype* to the instance attribute of the same name, which is accessed as *self.playertype*. Note that part of initialization is done by calling the *reset* method, which assigns empty lists to the player's games_played and players_played attributes.$^{27}$ These attributes can provide a player with \u201cmemory\u201d, which can be augmented each time the player's *record* method is called."
     ]
    },
    {
     "cell_type": "code",
     "collapsed": false,
     "input": [
      "class SimplePlayer(object):\n",
      "    def __init__(self, playertype):\n",
      "        \"\"\"\n",
      "\n",
      "        Initialize a SimplePlayer instance.\n",
      "\n",
      "        \"\"\"\n",
      "        self.playertype = playertype\n",
      "        self.reset()\n",
      "        \n",
      "    def reset(self):\n",
      "        \"\"\"\n",
      "        \n",
      "        Resets a SimplePlayer's attributes\n",
      "\n",
      "        \"\"\"\n",
      "        self.games_played = list()   #empty list\n",
      "        self.players_played = list()  #empty list\n",
      "        \n",
      "    def move(self,game):\n",
      "        \"\"\"\n",
      "\n",
      "        Chooses a move for the SimplePlayer.  Note that the choice is\n",
      "        actually being delegated to playertype.\n",
      "\n",
      "        \"\"\"\n",
      "        return self.playertype.move(self, game)\n",
      "    \n",
      "    def record(self, game):\n",
      "        \"\"\"\n",
      "\n",
      "        Records information about current game played.\n",
      "    \n",
      "        \"\"\"\n",
      "        self.games_played.append(game)\n",
      "        opponent = game.opponents[self]\n",
      "        self.players_played.append(opponent)"
     ],
     "language": "python",
     "metadata": {},
     "outputs": [],
     "prompt_number": 8
    },
    {
     "cell_type": "markdown",
     "metadata": {},
     "source": [
      "A *SimplePlayer* naturally has the *move* and *record* methods required for game players. In contrast with a *RandomPlayer*, the *record* method of a *SimplePlayer* actually does something: it appends the game to the games_played list and the opponent to the players_played list. The *move* method is more interesting. A *SimplePlayer* uses delegation to select a move. Looking at the *move* function, we see that a player delegates its moves to its *playertype*. This is our first use of delegation, a common OOP strategy. Here it is natural to delegate moving to the player type, since a player type is essentially the strategy that determines the moves. Note that when a player calls the *move* method of its playertype instance, it passes itself and its game to the *playertype*. This means that, when determining a move, the *playertype* has access to player specific and game specific information."
     ]
    },
    {
     "cell_type": "markdown",
     "metadata": {},
     "source": [
      "Next we examine the *CDIPlayerType* class. This is our general description of a player's type, which in turn is essentially a reactive strategy. Recall that we assigned the strategy of a *RandomPlayer* to its p_defect attribute. Similarly we assign the strategy of a *CDIPlayerType* to its p_cdi attribute. The default value of p_cdi is (0.5,0.5,0.5), which means the default *CDIPlayerType* determines moves in the same way as the default *RandomPlayer*. This can be seen by working through the move function for this class."
     ]
    },
    {
     "cell_type": "code",
     "collapsed": false,
     "input": [
      "class CDIPlayerType(object):\n",
      "    def __init__(self, p_cdi=(0.5,0.5,0.5)):\n",
      "        \"\"\"\n",
      "\n",
      "        Initializes a CDIPlayerType instance defining a player's strategy \n",
      "        profile in the form of a 3-tuple.  Default strategy profile is \n",
      "        (0.5, 0.5, 0.5): \n",
      "            * Probability that player defects is opponent cooperated in \n",
      "              previous game is 0.5.\n",
      "            * Probability that player defects is opponent defected in \n",
      "              previous game is 0.5. \n",
      "            * Probability that player defects in initial game is 0.5.\n",
      "\n",
      "        \"\"\"\n",
      "        self.p_cdi = p_cdi\n",
      "        \n",
      "    def move(self, player, game):\n",
      "        \"\"\"\n",
      "\n",
      "        Choose a move for the player\n",
      "\n",
      "        \"\"\"\n",
      "        # get opponent and learn her last move\n",
      "        opponent = game.opponents[player]\n",
      "        last_move = game.get_last_move(opponent)\n",
      "        \n",
      "        # respond to opponent's last move\n",
      "        if last_move is None:\n",
      "            p_defect = self.p_cdi[-1]\n",
      "        else:\n",
      "            p_defect = self.p_cdi[last_move]\n",
      "            \n",
      "        return random.uniform(0,1) < p_defect"
     ],
     "language": "python",
     "metadata": {},
     "outputs": [],
     "prompt_number": 9
    },
    {
     "cell_type": "markdown",
     "metadata": {},
     "source": [
      "For the initial move, the probability of defection is given by the last element of the tuple p_cdi (which we index with -1). After the initial moves, the probability of defection is conditional on the previous move of the other player. The *playertype* fetches this move from the history of the player's game; see the *CDIGame* code for the implementation details. If the opponent previously cooperated, the opponent's previous move is False (or equivalently, 0), and the first element (index 0) of p_cdi is the probability of defection. If the opponent previously defected, the opponent's last move is True (or equivalently, 1), and the second element (index 1) of p_cdi is the probability of defection."
     ]
    },
    {
     "cell_type": "markdown",
     "metadata": {},
     "source": [
      "Finally, let us consider the *CDIGame* class, which constructs our game instances. Notice the *CDIGame* definition evinces only part of the data and behavior of this class. The class-definition header, *class CDIGame(SimpleGame):*, states that our new class will \u201cinherit\u201d data and behavior from the *SimpleGame* class."
     ]
    },
    {
     "cell_type": "code",
     "collapsed": false,
     "input": [
      "class CDIGame(SimpleGame):\n",
      "    def __init__(self, player1, player2, payoffmat):\n",
      "        \"\"\"\n",
      "\n",
      "        Initializes a CDIGame instance.  Note that a CDIGame inherits\n",
      "        data and behavior from SimpleGame.\n",
      "\n",
      "        \"\"\"\n",
      "        # begin initialization with `__init__` from `SimpleGame`\n",
      "        SimpleGame.__init__(self, player1, player2, payoffmat)\n",
      "        \n",
      "        # initialize the new data attribute\n",
      "        self.opponents = {player1:player2, player2:player1}\n",
      "        \n",
      "    def get_last_move(self, player):\n",
      "        \"\"\"\n",
      "\n",
      "        Player strategies are conditional on previous move of opponent.\n",
      "\n",
      "        \"\"\"\n",
      "        # if history not empty, return prior move of `player`\n",
      "        if self.history:\n",
      "            player_idx = self.players.index(player)\n",
      "            last_move = self.history[-1][player_idx]\n",
      "        else:\n",
      "            last_move = None\n",
      "        return last_move"
     ],
     "language": "python",
     "metadata": {},
     "outputs": [],
     "prompt_number": 10
    },
    {
     "cell_type": "markdown",
     "metadata": {},
     "source": [
      "This is our first use of inheritance. Since we inherit the *run* and *payoff* method definitions from *SimpleGame*, we do not need to repeat them in our *CDIGame* definition. The use of inheritance is a typical OOP idiom for code reuse. Of course we also want to add new data and behavior. Specifically we want to add an opponents data attribute and a get_last_move method. Adding the new method is simple enough: we just include its definition in the body of the class definition, as usual. However data attributes are set during initialization, and we want to keep the initializations done by *SimpleGame*. Here we adopt the following solution: give *CDIGame* its own \\__init__ function, which calls the \\__init__ method provided by SimpleGame to initialize the old data attributes.$^{28}$ The new \\__init__ method also initializes the new *opponents* data attribute."
     ]
    },
    {
     "cell_type": "markdown",
     "metadata": {},
     "source": [
      "When a player delegates a move to its *playertype*, the *playertype* fetches from the game the opponent's last move (i.e., the move with index -1). Recall that the probability of defection generally is conditional on the other player's last move. The *playertype* accomplishes this by invoking the game's get_last_move method. The only new behavior provided by a *CDIGame* is this get_last_move method, which returns the requested element of the game's move history (if it exists, and otherwise returns None)."
     ]
    },
    {
     "cell_type": "markdown",
     "metadata": {},
     "source": [
      "Table 2 illustrates the resulting interdependencies between objects when a game asks a player for a move. The player delegates moving to its playertype. As part of selecting a move, the playertype first fetches the opponent's last move from the game. Once the playertype has this last move, it computes a move. It returns this move to the player that asked for it, who finally returns it to the game that asked for it.\n",
      "\n",
      "###<div align='center'>Table 2: Game Play</div>\n",
      "<div align='center'>\n",
      "<table border=\"1\" class=\"gameplay center \">\n",
      "<colgroup>\n",
      "<col width=\"31%\" >\n",
      "<col width=\"30%\" >\n",
      "<col width=\"39%\" >\n",
      "</colgroup>\n",
      "<thead valign=\"bottom\">\n",
      "<tr><th class=\"head\">Game</th>\n",
      "<th class=\"head\">Player</th>\n",
      "<th class=\"head\">Playertype</th>\n",
      "</tr>\n",
      "</thead>\n",
      "<tbody valign=\"top\">\n",
      "<tr><td>1. request move from Player</td>\n",
      "<td>&nbsp;</td>\n",
      "<td>&nbsp;</td>\n",
      "</tr>\n",
      "<tr><td>&nbsp;</td>\n",
      "<td>2. request move from Playertype</td>\n",
      "<td>&nbsp;</td>\n",
      "</tr>\n",
      "<tr><td>&nbsp;</td>\n",
      "<td>&nbsp;</td>\n",
      "<td>3. request opponent's last move from Game</td>\n",
      "</tr>\n",
      "<tr><td>4. compute opponent's last move</td>\n",
      "<td>&nbsp;</td>\n",
      "<td>&nbsp;</td>\n",
      "</tr>\n",
      "<tr><td>5. return last move to Playertype</td>\n",
      "<td>&nbsp;</td>\n",
      "<td>&nbsp;</td>\n",
      "</tr>\n",
      "<tr><td>&nbsp;</td>\n",
      "<td>&nbsp;</td>\n",
      "<td>6. compute new move</td>\n",
      "</tr>\n",
      "<tr><td>&nbsp;</td>\n",
      "<td>&nbsp;</td>\n",
      "<td>7. return new move to Player</td>\n",
      "</tr>\n",
      "<tr><td>&nbsp;</td>\n",
      "<td>8. return new move to Game</td>\n",
      "<td>&nbsp;</td>\n",
      "</tr>\n",
      "</tbody>\n",
      "</table>\n",
      "</div>"
     ]
    },
    {
     "cell_type": "markdown",
     "metadata": {},
     "source": [
      "At first exposure, these linkages may feel a bit circuitous. However, if we accept that the player delegates the move to the playertype, and that the game is the natural place to store the move history, these linkages appear natural.$^{29}$ For example, the game cannot simply request a move from the playertype, since multiple players may share a single playertype. (There is no mapping from playertypes to players.)"
     ]
    },
    {
     "cell_type": "markdown",
     "metadata": {},
     "source": [
      "With our new class definitions in hand, we are ready to create playertypes, players, and a game. The code looks almost identical to our previous game simulation. The only difference is that we now need to create *CDIPlayerType* instances with which to initialize our *SimplePlayer* instances."
     ]
    },
    {
     "cell_type": "code",
     "collapsed": false,
     "input": [
      "##### GAME: CDIGame with SimplePlayer #####\n",
      "\n",
      "# Shorthand notation for strategy tuples (there are 2^3 = 8 pure strategies)\n",
      "CCC = (0, 0, 0)\n",
      "DCC = (1, 0, 0)\n",
      "CDC = (0, 1, 0)\n",
      "DDC = (1, 1, 0)\n",
      "CCD = (0, 0, 1)\n",
      "DCD = (1, 0, 1)\n",
      "CDD = (0, 1, 1)\n",
      "DDD = (1, 1, 1)\n",
      "\n",
      "# create a payoff matrix and two players (with playertypes)\n",
      "PAYOFFMAT = [ [(3,3),(0,5)] , [(5,0),(1,1)] ]\n",
      "ptype1 = CDIPlayerType(p_cdi=CDD)\n",
      "ptype2 = CDIPlayerType(p_cdi=DDD)\n",
      "player1 = SimplePlayer(ptype1)\n",
      "player2 = SimplePlayer(ptype2)\n",
      "\n",
      "# create and run the game\n",
      "game = CDIGame(player1, player2, PAYOFFMAT)\n",
      "game.run(game_iter=4)\n",
      "\n",
      "# retrieve and print the payoffs\n",
      "payoffs = game.payoff()\n",
      "print \"Player1 payoff:\", payoffs[player1]\n",
      "print \"Player2 payoff:\", payoffs[player2]"
     ],
     "language": "python",
     "metadata": {},
     "outputs": [
      {
       "output_type": "stream",
       "stream": "stdout",
       "text": [
        "Player1 payoff: 1.0\n",
        "Player2 payoff: 1.0\n"
       ]
      }
     ],
     "prompt_number": 11
    },
    {
     "cell_type": "markdown",
     "metadata": {},
     "source": [
      "It is natural to wonder again how various strategies perform against each other. Of course we can construct an endless variety of cd-i playertypes. In the present paper, we will focus on pure strategies: each element of the strategy 3-tuple is either zero or one. This gives us 8 possible player types and therefore 36 different games. (There are 36 unique pairings, since player order is irrelevant.) We can pit these against each other in a tournament. (This is a \u201cround robin\u201d tournament, in the sense that it produces the outcomes for all these possible pairings.) If we play a CDIGame for each pair of strategies, we get the results in Table 3, which summarizes the payoffs to the first (row) player in each of these 36 games. (E.g., the table tells us that if the first player plays CCC and the second plays DCC then the two player payoffs are (0.75,4.50).)\n",
      "\n",
      "###<div align=\"center\">Table 3: Competing Pure CDI Strategies (Column Player Payoffs)</div>\n",
      "\n",
      "<div align='center'>\n",
      "<table border=\"1\" class=\"center \">\n",
      "<colgroup>\n",
      "<col width=\"11%\" >\n",
      "<col width=\"11%\" >\n",
      "<col width=\"11%\" >\n",
      "<col width=\"11%\" >\n",
      "<col width=\"11%\" >\n",
      "<col width=\"11%\" >\n",
      "<col width=\"11%\" >\n",
      "<col width=\"11%\" >\n",
      "<col width=\"11%\" >\n",
      "</colgroup>\n",
      "<thead valign=\"bottom\">\n",
      "<tr><th class=\"head stub\">&nbsp;</th>\n",
      "<th class=\"head\">CCC</th>\n",
      "<th class=\"head\">DCC</th>\n",
      "<th class=\"head\">CDC</th>\n",
      "<th class=\"head\">DDC</th>\n",
      "<th class=\"head\">CCD</th>\n",
      "<th class=\"head\">DCD</th>\n",
      "<th class=\"head\">CDD</th>\n",
      "<th class=\"head\">DDD</th>\n",
      "</tr>\n",
      "</thead>\n",
      "<tbody valign=\"top\">\n",
      "<tr><th class=\"stub\">CCC</th>\n",
      "<td>3.00</td>\n",
      "<td>0.75</td>\n",
      "<td>3.00</td>\n",
      "<td>0.75</td>\n",
      "<td>2.25</td>\n",
      "<td>0.00</td>\n",
      "<td>2.25</td>\n",
      "<td>0.00</td>\n",
      "</tr>\n",
      "<tr><th class=\"stub\">DCC</th>\n",
      "<td>4.50</td>\n",
      "<td>2.00</td>\n",
      "<td>2.25</td>\n",
      "<td>1.00</td>\n",
      "<td>3.25</td>\n",
      "<td>0.00</td>\n",
      "<td>2.25</td>\n",
      "<td>0.00</td>\n",
      "</tr>\n",
      "<tr><th class=\"stub\">CDC</th>\n",
      "<td>3.00</td>\n",
      "<td>2.25</td>\n",
      "<td>3.00</td>\n",
      "<td>1.25</td>\n",
      "<td>2.75</td>\n",
      "<td>2.25</td>\n",
      "<td>2.50</td>\n",
      "<td>0.75</td>\n",
      "</tr>\n",
      "<tr><th class=\"stub\">DDC</th>\n",
      "<td>4.50</td>\n",
      "<td>3.50</td>\n",
      "<td>2.50</td>\n",
      "<td>1.50</td>\n",
      "<td>3.75</td>\n",
      "<td>2.75</td>\n",
      "<td>1.75</td>\n",
      "<td>0.75</td>\n",
      "</tr>\n",
      "<tr><th class=\"stub\">CCD</th>\n",
      "<td>3.50</td>\n",
      "<td>2.00</td>\n",
      "<td>2.75</td>\n",
      "<td>1.25</td>\n",
      "<td>2.50</td>\n",
      "<td>1.00</td>\n",
      "<td>1.75</td>\n",
      "<td>0.25</td>\n",
      "</tr>\n",
      "<tr><th class=\"stub\">DCD</th>\n",
      "<td>5.00</td>\n",
      "<td>5.00</td>\n",
      "<td>2.25</td>\n",
      "<td>1.50</td>\n",
      "<td>3.50</td>\n",
      "<td>2.00</td>\n",
      "<td>2.25</td>\n",
      "<td>0.25</td>\n",
      "</tr>\n",
      "<tr><th class=\"stub\">CDD</th>\n",
      "<td>3.50</td>\n",
      "<td>2.25</td>\n",
      "<td>2.50</td>\n",
      "<td>1.75</td>\n",
      "<td>3.00</td>\n",
      "<td>2.25</td>\n",
      "<td>1.00</td>\n",
      "<td>1.00</td>\n",
      "</tr>\n",
      "<tr><th class=\"stub\">DDD</th>\n",
      "<td>5.00</td>\n",
      "<td>5.00</td>\n",
      "<td>2.00</td>\n",
      "<td>2.00</td>\n",
      "<td>4.00</td>\n",
      "<td>4.00</td>\n",
      "<td>1.00</td>\n",
      "<td>1.00</td>\n",
      "</tr>\n",
      "</tbody>\n",
      "</table>\n",
      "</div>"
     ]
    },
    {
     "cell_type": "markdown",
     "metadata": {},
     "source": [
      "Perhaps the most striking thing about Table 3 is that playing DD-D is best (i.e., produces a maximal payoff) against all but two strategies: CD-C and CD-D. Put in simple terms, DD-D would be dominant among the pure strategies if the imitative/reciprocal strategies where removed from the strategy space. These strategies are imitative in that they always adopt the opponent's previous move. They are reciprocal in that they always respond in kind. The first of these, CD-C, is the famous Tit-For-Tat strategy. This strategy has also been called \u201creciprocal altruism\u201d [(Trivers 1971)](http://www.cdnresearch.net/pubs/others/trivers_1971_recip.pdf). The potential robustness of this strategy in an IPD context has been long recognized [(Axelrod and Hamilton 1981)](http://www.cdnresearch.net/pubs/others/axelrod_ham_1981.pdf). Neither of these two strategies dominates the other. It is noteworthy that CD-D holds its own against DD-D, whereas CD-C does not. Also noteworthy is that two CD-C players will do much better than two CD-D players.$^{30}$ Additionally, as [Axelrod (1984)](http://www.amazon.com/Evolution-Cooperation-Revised-Robert-Axelrod/dp/0465005640) emphasized, a CD-C player never has a higher outcome than its partner. We will explore some corollaries of these observations."
     ]
    },
    {
     "cell_type": "markdown",
     "metadata": {},
     "source": [
      "## Evolutionary Soup\n",
      "\n",
      "In this section, we characterize how an initially diverse group of players evolves over time. So far, we have developed a useful collection of objects and used them to simulate the outcomes of an iterated prisoner's dilemma with reactive strategies. The code required to do this is remarkably readable and strikingly short: our four core class definitions comprise about 50 short lines of code. We now show how this core toolkit can be easily extended to accommodate simple evolutionary considerations."
     ]
    },
    {
     "cell_type": "markdown",
     "metadata": {},
     "source": [
      "We will adopt a simple but widely used evolutionary mechanism: players imitate \u201cwinning\u201d strategies. Our first implementation of these evolutionary considerations will be in the context of random encounters within a population of players.$^{31}$ In order to simulate a simple evolutionary iterated prisoner's dilemma, we introduce the concepts of a round and a tournament. A tournament consists of several rounds. On each round, players are randomly sorted into pairs, and each pair plays a *CDIGame* (i.e., an iterated prisoner's dilemma with reactive strategies). As before, a player's moves are determined by its playertype. After each round, each player adopts a winning strategy from the game just played. This means that a player might change playertype once per round during a tournament."
     ]
    },
    {
     "cell_type": "markdown",
     "metadata": {},
     "source": [
      "We introduce two new classes to implement this evolutionary tournament: *SoupPlayer* and *SoupRound*. Our earlier design work means that we can retain our game and playertype classes: *CDIGame* and *CDIPlayerType* continue to be useful in this new application.\n",
      "\n",
      "* **SoupPlayer:** \n",
      "    1. Inherit data and methods from *SimplePlayer*\n",
      "    2. New data: next_player_type\n",
      "    3. New methods: get_payoff, choose_next_type, *evolve*\n",
      "\n",
      "* **SoupRound:**\n",
      "    1. Data: *players*, *payoffmat*\n",
      "    2. Methods: *run*"
     ]
    },
    {
     "cell_type": "markdown",
     "metadata": {},
     "source": [
      "The *SoupPlayer* class inherits much of its behavior from *SimplePlayer*, but it has new attributes deriving from our desire that each player be able to evolve its playertype. When we call the choose_next_type method of a *SoupPlayer* instance, this sets the next_player_type data attribute.$^{32}$ The next_player_type is always set to the best playertype (its own, or its opponent's). Here \u201cbest\u201d means the highest total payoff achieved in a round of games, and ties are resolved randomly. The best playertypes are found by the topscore_playertypes function, defined in Appendix A. The get_payoff method computes this total payoff as the sum of the single game payoffs in the current round of games played by the player. This is just a single game in a *SoupRound*, but allowing for multiple games per round adds flexibility that we use later. A player will adapt its playertype when we call its *evolve* method.$^{33}$"
     ]
    },
    {
     "cell_type": "code",
     "collapsed": false,
     "input": [
      "def topscore_playertypes(player):\n",
      "    \"\"\"\n",
      "\n",
      "    Return list of best (maximum payoff) player types.\n",
      "\n",
      "    \"\"\"\n",
      "    # initialize best_types to be current playertype\n",
      "    best_types = [player.playertype]\n",
      "    # initialize best_payoff to be current payoff\n",
      "    best_payoff = player.get_payoff()\n",
      "    \n",
      "    # loop over opponents\n",
      "    for opponent in player.players_played:\n",
      "        payoff = opponent.get_payoff()\n",
      "        # if opponent had higher payoff adopt its strategy\n",
      "        if payoff > best_payoff:\n",
      "            best_payoff = payoff\n",
      "            best_types = [opponent.playertype]\n",
      "        # ties will be resolved randomly\n",
      "        elif payoff == best_payoff:\n",
      "            best_types.append(opponent.playertype)\n",
      "        # else, do nothing!\n",
      "        else:\n",
      "            pass\n",
      "        \n",
      "    return best_types"
     ],
     "language": "python",
     "metadata": {},
     "outputs": [],
     "prompt_number": 12
    },
    {
     "cell_type": "code",
     "collapsed": false,
     "input": [
      "class SoupPlayer(SimplePlayer):\n",
      "    \"\"\"\n",
      "\n",
      "    Note that SoupPlayer inherits data and methods from SimplePlayer.\n",
      "\n",
      "    \"\"\"\n",
      "    def evolve(self):\n",
      "        \"\"\"\n",
      "\n",
      "        Adopt new playertype!\n",
      "\n",
      "        \"\"\"\n",
      "        self.playertype = self.next_playertype\n",
      "        \n",
      "    def get_payoff(self):\n",
      "        \"\"\"\n",
      "\n",
      "        Compute total payoffs from games played.\n",
      "\n",
      "        \"\"\"\n",
      "        return sum( game.payoff()[self] for game in self.games_played )\n",
      "    \n",
      "    def choose_next_type(self):\n",
      "        \"\"\"\n",
      "\n",
      "        Choose strategy for next round. SoupPlayer adopts any strategy that\n",
      "        has a higher total payoff than his current strategy.  Ties are resolved\n",
      "        randomly.\n",
      "\n",
      "        \"\"\"\n",
      "        # find the playertype(s) producing the highest score(s)\n",
      "        best_playertypes = topscore_playertypes(self)\n",
      "        \n",
      "        # choose randomly from these best playertypes\n",
      "        self.next_playertype = random.choice(best_playertypes)"
     ],
     "language": "python",
     "metadata": {},
     "outputs": [],
     "prompt_number": 13
    },
    {
     "cell_type": "markdown",
     "metadata": {},
     "source": [
      "A *SoupRound* instance is initialized with a list of players and the payoff matrix for the games to be played. When we call the *run* method of a *SoupRound* instance, it randomly shuffles all the players, pairs them up, and plays a *CDIGame* for each of these pairs.$^{34}$"
     ]
    },
    {
     "cell_type": "code",
     "collapsed": false,
     "input": [
      "def random_pairs_of(players):\n",
      "    \"\"\"\n",
      "    \n",
      "    Return all of players as random pairs.\n",
      "\n",
      "    \"\"\"\n",
      "    # copy player list\n",
      "    players = list( players )\n",
      "    \n",
      "    # shuffle the new player list in place\n",
      "    random.shuffle(players)\n",
      "    \n",
      "    # yield the shuffled players, 2 at a time\n",
      "    player_iter = iter(players)\n",
      "    \n",
      "    return izip(player_iter, player_iter)\n",
      "\n",
      "class SoupRound(object):\n",
      "    def __init__(self, players, payoffmat):\n",
      "        \"\"\"\n",
      "\n",
      "        Initialize an instance of SoupRound.\n",
      "\n",
      "        \"\"\"\n",
      "        self.players = players\n",
      "        self.payoffmat = payoffmat\n",
      "        \n",
      "    def run(self):\n",
      "        \"\"\"\n",
      "\n",
      "        A SoupRound consists of randomly shuffling all the players, \n",
      "        pairing them up, and playing a CDIGame for each of pair.\n",
      "        \n",
      "        \"\"\"\n",
      "        payoff_matrix = self.payoffmat\n",
      "        for player1, player2 in random_pairs_of(self.players):\n",
      "            game = CDIGame(player1, player2, payoff_matrix)\n",
      "            game.run()"
     ],
     "language": "python",
     "metadata": {},
     "outputs": [],
     "prompt_number": 14
    },
    {
     "cell_type": "code",
     "collapsed": false,
     "input": [
      "##### Create initial population of players #####\n",
      "\n",
      "# list of all 8 CD-I pure strategies\n",
      "strategies = [CCC, DCC, CDC, DDC, CCD, DCD, CDD, DDD]\n",
      "\n",
      "# empty list in which to store players\n",
      "players = []\n",
      "\n",
      "# for each strategy...\n",
      "for strategy in strategies:\n",
      "    # ...create 50 players with that playertype \n",
      "    for i in range(50):\n",
      "        players.append(SoupPlayer(strategy))"
     ],
     "language": "python",
     "metadata": {},
     "outputs": [],
     "prompt_number": 15
    },
    {
     "cell_type": "code",
     "collapsed": false,
     "input": [
      "##### create a payoff matrix ####\n",
      "PAYOFFMAT = [ [(3,3),(0,5)] , [(5,0),(1,1)] ]"
     ],
     "language": "python",
     "metadata": {},
     "outputs": [],
     "prompt_number": 16
    },
    {
     "cell_type": "code",
     "collapsed": false,
     "input": [
      "##### create and run a SoupRound ####\n",
      "soup_round = SoupRound(players, PAYOFFMAT)\n",
      "soup_round.run()"
     ],
     "language": "python",
     "metadata": {},
     "outputs": [
      {
       "ename": "AttributeError",
       "evalue": "'tuple' object has no attribute 'move'",
       "output_type": "pyerr",
       "traceback": [
        "\u001b[0;31m---------------------------------------------------------------------------\u001b[0m\n\u001b[0;31mAttributeError\u001b[0m                            Traceback (most recent call last)",
        "\u001b[0;32m<ipython-input-17-44def217ba6b>\u001b[0m in \u001b[0;36m<module>\u001b[0;34m()\u001b[0m\n\u001b[1;32m      1\u001b[0m \u001b[0;31m##### create and run a SoupRound ####\u001b[0m\u001b[0;34m\u001b[0m\u001b[0;34m\u001b[0m\u001b[0m\n\u001b[1;32m      2\u001b[0m \u001b[0msoup_round\u001b[0m \u001b[0;34m=\u001b[0m \u001b[0mSoupRound\u001b[0m\u001b[0;34m(\u001b[0m\u001b[0mplayers\u001b[0m\u001b[0;34m,\u001b[0m \u001b[0mPAYOFFMAT\u001b[0m\u001b[0;34m)\u001b[0m\u001b[0;34m\u001b[0m\u001b[0m\n\u001b[0;32m----> 3\u001b[0;31m \u001b[0msoup_round\u001b[0m\u001b[0;34m.\u001b[0m\u001b[0mrun\u001b[0m\u001b[0;34m(\u001b[0m\u001b[0;34m)\u001b[0m\u001b[0;34m\u001b[0m\u001b[0m\n\u001b[0m",
        "\u001b[0;32m<ipython-input-14-ee7e082b3722>\u001b[0m in \u001b[0;36mrun\u001b[0;34m(self)\u001b[0m\n\u001b[1;32m     36\u001b[0m         \u001b[0;32mfor\u001b[0m \u001b[0mplayer1\u001b[0m\u001b[0;34m,\u001b[0m \u001b[0mplayer2\u001b[0m \u001b[0;32min\u001b[0m \u001b[0mrandom_pairs_of\u001b[0m\u001b[0;34m(\u001b[0m\u001b[0mself\u001b[0m\u001b[0;34m.\u001b[0m\u001b[0mplayers\u001b[0m\u001b[0;34m)\u001b[0m\u001b[0;34m:\u001b[0m\u001b[0;34m\u001b[0m\u001b[0m\n\u001b[1;32m     37\u001b[0m             \u001b[0mgame\u001b[0m \u001b[0;34m=\u001b[0m \u001b[0mCDIGame\u001b[0m\u001b[0;34m(\u001b[0m\u001b[0mplayer1\u001b[0m\u001b[0;34m,\u001b[0m \u001b[0mplayer2\u001b[0m\u001b[0;34m,\u001b[0m \u001b[0mpayoff_matrix\u001b[0m\u001b[0;34m)\u001b[0m\u001b[0;34m\u001b[0m\u001b[0m\n\u001b[0;32m---> 38\u001b[0;31m             \u001b[0mgame\u001b[0m\u001b[0;34m.\u001b[0m\u001b[0mrun\u001b[0m\u001b[0;34m(\u001b[0m\u001b[0;34m)\u001b[0m\u001b[0;34m\u001b[0m\u001b[0m\n\u001b[0m",
        "\u001b[0;32m<ipython-input-6-1f92fa9c0732>\u001b[0m in \u001b[0;36mrun\u001b[0;34m(self, game_iter)\u001b[0m\n\u001b[1;32m     21\u001b[0m         \u001b[0;31m# each iteration, get new moves and append these to history\u001b[0m\u001b[0;34m\u001b[0m\u001b[0;34m\u001b[0m\u001b[0m\n\u001b[1;32m     22\u001b[0m         \u001b[0;32mfor\u001b[0m \u001b[0miteration\u001b[0m \u001b[0;32min\u001b[0m \u001b[0mrange\u001b[0m\u001b[0;34m(\u001b[0m\u001b[0mgame_iter\u001b[0m\u001b[0;34m)\u001b[0m\u001b[0;34m:\u001b[0m\u001b[0;34m\u001b[0m\u001b[0m\n\u001b[0;32m---> 23\u001b[0;31m             \u001b[0mnewmoves\u001b[0m \u001b[0;34m=\u001b[0m \u001b[0mplayer1\u001b[0m\u001b[0;34m.\u001b[0m\u001b[0mmove\u001b[0m\u001b[0;34m(\u001b[0m\u001b[0mself\u001b[0m\u001b[0;34m)\u001b[0m\u001b[0;34m,\u001b[0m \u001b[0mplayer2\u001b[0m\u001b[0;34m.\u001b[0m\u001b[0mmove\u001b[0m\u001b[0;34m(\u001b[0m\u001b[0mself\u001b[0m\u001b[0;34m)\u001b[0m\u001b[0;34m\u001b[0m\u001b[0m\n\u001b[0m\u001b[1;32m     24\u001b[0m             \u001b[0mself\u001b[0m\u001b[0;34m.\u001b[0m\u001b[0mhistory\u001b[0m\u001b[0;34m.\u001b[0m\u001b[0mappend\u001b[0m\u001b[0;34m(\u001b[0m\u001b[0mnewmoves\u001b[0m\u001b[0;34m)\u001b[0m\u001b[0;34m\u001b[0m\u001b[0m\n\u001b[1;32m     25\u001b[0m \u001b[0;34m\u001b[0m\u001b[0m\n",
        "\u001b[0;32m<ipython-input-8-6ac9dabd805e>\u001b[0m in \u001b[0;36mmove\u001b[0;34m(self, game)\u001b[0m\n\u001b[1;32m     25\u001b[0m \u001b[0;34m\u001b[0m\u001b[0m\n\u001b[1;32m     26\u001b[0m         \"\"\"\n\u001b[0;32m---> 27\u001b[0;31m         \u001b[0;32mreturn\u001b[0m \u001b[0mself\u001b[0m\u001b[0;34m.\u001b[0m\u001b[0mplayertype\u001b[0m\u001b[0;34m.\u001b[0m\u001b[0mmove\u001b[0m\u001b[0;34m(\u001b[0m\u001b[0mself\u001b[0m\u001b[0;34m,\u001b[0m \u001b[0mgame\u001b[0m\u001b[0;34m)\u001b[0m\u001b[0;34m\u001b[0m\u001b[0m\n\u001b[0m\u001b[1;32m     28\u001b[0m \u001b[0;34m\u001b[0m\u001b[0m\n\u001b[1;32m     29\u001b[0m     \u001b[0;32mdef\u001b[0m \u001b[0mrecord\u001b[0m\u001b[0;34m(\u001b[0m\u001b[0mself\u001b[0m\u001b[0;34m,\u001b[0m \u001b[0mgame\u001b[0m\u001b[0;34m)\u001b[0m\u001b[0;34m:\u001b[0m\u001b[0;34m\u001b[0m\u001b[0m\n",
        "\u001b[0;31mAttributeError\u001b[0m: 'tuple' object has no attribute 'move'"
       ]
      }
     ],
     "prompt_number": 17
    },
    {
     "cell_type": "code",
     "collapsed": false,
     "input": [],
     "language": "python",
     "metadata": {},
     "outputs": []
    },
    {
     "cell_type": "markdown",
     "metadata": {},
     "source": [
      "## Notes\n",
      "$^{1}$ Key citations for these toolkits include [Minar et al. (1996)](http://swarm.org/images/b/bb/MinarEtAl96.pdf) for SWARM, [Gulyas et al. (1999)](http://jasss.soc.surrey.ac.uk/2/3/8.html) for MAML, Parker (2001) for Ascape, Wilensky (1999) for Netlogo, North et al. (2005) for Repast, Bremer (1987) for GLOBUS, Hughes (1999) for IFs, and McFadzean et al. (2001) for the Trade Network Game.\n",
      "\n",
      "$^{2}$ This paper emphasizes game simulation\u2014specifically, the prisoner's dilemma\u2014because of some useful pedagogical advantages. More fundamentally, it allows for extremely simple initial model and the graduated introduction of natural extensions. The resulting model matches key characteristics of many ABS models: agents are heterogeneous, behavioral differences are fundamental to the model dynamics, and each agent's behavioral decisions (choices of strategies) respond to the behavior of other agents. This implies a coevolution of behavioral environment and behavior that is typical of ABS models. However, the game-theoretic orientation of the example implies an emphasis on behavioral strategies at the expense of more detailed modeling of other environmental characteristics. This sets this example apart from ABS models where location has a more physical interpretation and movement is an important behavior.\n",
      "\n",
      "$^{3}$ As a specific example, the interested reader may wish to compare the code in the excellent prisoner's dilemma tutorial using Objective-C and Swarm offered by [Luna and Stefansson (2000)](http://jasss.soc.surrey.ac.uk/4/2/reviews/johnson.html) with the code below. The code below differs in the following ways: it is the complete code for the simulations (not just the object interfaces), it is more compact, it is much easier to read and understand for someone new to the language, and it is more easily extended. While there are still no formal standards for readabiilty comparisons, discussions of readability generally place Python in the first rank.\n",
      "\n",
      "$^{4}$ Note that we have not mentioned inheritance, which is often considered a defining characteristic of object-oriented programming. (However, this paper will illustrate the use of inheritance.) A detailed discussion of object-oriented programming is beyond the scope of this paper; see [Kak (2003)](https://engineering.purdue.edu/kak/programmingwithobjects/ObjectsBook.pdf) for an accessible treatment.\n",
      "\n",
      "$^{5}$ This is essentially a strong form of signature-based polymorphism often known a \u201cduck typing\"; it is not simply function overloading or subtype polymorphism. There are different kinds of polymorphism and no completely standard vocabulary to discuss them. See [Kak (2003)](https://engineering.purdue.edu/kak/programmingwithobjects/ObjectsBook.pdf) for an accessible discussion.\n",
      "\n",
      "$^{6}$ Object orientation cuts much deeper than this, and many important objects in our models will not have obvious real world counterparts. For example, we may have objects representing bundles of player characteristics, or objects representing aggregates of actors, or objects storing a summary \u201chistory\u201d of a dynamic model.\n",
      "\n",
      "$^{7}$ Programmers accustomed to braces-delimited blocks are sometimes initially put off by whitespace-delimited blocks, but for newcomers to programming it proves intuitive and natural.\n",
      "\n",
      "$^{8}$ Many statically typed languages lack type inference, which leads to programs that appear cluttered with type declarations and explicit casts. Some researchers justify this cost with a claim that static typing provides a crucial check for programming errors. Attempts to resolve this cost-benefit tradeoff have been at the center of many contentious arguments, which we do not address here.\n",
      "\n",
      "$^{9}$ Note that, as a result of Python's strong object orientation, these types are easily subclassed and extended when needed. For a detailed and generally excellent introduction, see the [Python Tutorial](http://docs.python.org/2/tutorial/).\n",
      "\n",
      "$^{10}$ Like many programming languages, Python uses zero-based indexing: if *seq* is a sequence, then *seq[0]* returns the first element of *seq*. To illustrate zero-based indexing in more detail, consider the statement *payoffmat = [ [(3,3),(0,5)] , [(5,0),(1,1)] ]* (which occurs in our code examples below). This is a list of two lists of two tuples each. Since we index sequence elements by postfixing an integer in brackets, *payoffmat[0]* is *[(3,3),(0,5)]*. Similarly, *payoffmat[0][1]* is *(0,5)*. (This tuple will represent two player payoffs given moves 0 and 1.) Zero-based indexing can initially feel odd to those with no programming experience (even though we often use it, e.g., when referring to someone's age or buidling floors). In practice, it proves extremely convenient.\n",
      "\n",
      "$^{11}$ Here we access the playertype attribute of each player by using the \u201cdot notation\u201d common in object oriented languages. Python offers mechanisms to control the getting and setting of attributes, such as properties, which we do not introduce the in this paper.\n",
      "\n",
      "$^{12}$ An attentive reader might wonder why the generator example has only a single pair of parentheses. When a generator expression is the only argument of a function, Python allows us to omit its parentheses.\n",
      "\n",
      "$^{13}$ The advantages of garbage collection in reducing development time are considered very large, which explains the growing popularity of the Boehm-Demers-Weiser conservative garbage collector among C and C++ programmers, as these languages do not have built-in garbage collection.\n",
      "\n",
      "$^{14}$ Random number generation uses the Mersenne Twister by default. Details can be found in Matsumoto and Kurita (1998), which contains a much cited algorithm for the Mersenne Twister.\n",
      "\n",
      "$^{15}$ See for example the ctypes module, [f2py](http://cens.ioc.ee/projects/f2py2e/), [NumExpr](http://www.scipy.org/SciPyPackages/NumExpr), [SWIG](http://www.swig.org/Doc1.3/Python.html), [weave](http://wiki.python.org/moin/weave), and especially [Pyrex](http://www.cosc.canterbury.ac.nz/greg.ewing/python/Pyrex/) and [Cython](http://www.cython.org/).\n",
      "\n",
      "$^{16}$ In this paper we use only [classic classes](http://docs.python.org/2/reference/datamodel.html). For more detail, see the [Python tutorial](http://docs.python.org/2/tutorial/).\n",
      "\n",
      "$^{17}$ It is of course also possible to use a static method in this case. (We will not introduce static methods in this paper.) Our purpose here is pedagogical: RandomMover is constructed to illustrate this behavior of bound methods. Note that, like any other argument name, self is a name that is local to the function definition. We could freely choose another name for this argument of our function, but other Python programmers reading our code will expect us to follow the established convention.\n",
      "\n",
      "$^{18}$ The function *uniform* is provided by the *random* module of the Python standard library. Each call to *random.uniform* returns one draw from a uniform distribution over the specified interval. Alternatively, the function *random.random* takes no arguments and returns one draw from a standard uniform distribution. Here we choose the more explicit name for pedagogical reasons.\n",
      "\n",
      "$^{19}$ The expression *RandomMover()* evaluates to a *RandomMover* instance. A class in Python is a callable object; when called it returns an instance of the class.\n",
      "\n",
      "$^{20}$ Since our players are *RandomMover* instances, moves and therefore payoffs will change each time we play a game. If we need enforce replicability across runs, we could force the game to always produce an identical result by appropriately seeding the random number generator.\n",
      "\n",
      "$^{21}$ Unlike Java, Python does not explicitly use abstract classes and interfaces to enforce protocol availability. While it is easy enough to create roughly equivalent classes, there would be no compiler enforcement. Future versions of Python will facilitate enforcement of protocols.\n",
      "\n",
      "$^{22}$ Readers with programming experience can think of \\__init__ as roughly playing the role of a constructor in C++ or Java. While \\__init__ is not technically a constructor, this is often an adequate parallel.\n",
      "\n",
      "$^{23}$ Note the particularly simple syntax for providing a default value: a default assignment, p=0.5, takes place in the function-definition header.\n",
      "\n",
      "$^{24}$ Recall that no list or tuple is created by the generator expression. The transpose function, defined in Appendix A, does explicitly create two tuples of player payoffs (*pay1* and *pay2*). These are not really needed (we use only their means), but here we nevertheless create them explicitly for presentational clarity.\n",
      "\n",
      "$^{25}$ [Scodel et al. (1959)](http://www.jstor.org/stable/172653), [Axelrod (1984)](http://www.amazon.com/Evolution-Cooperation-Revised-Robert-Axelrod/dp/0465005640), and [Nowak and Sigmund (1992)](homepage.univie.ac.at/karl.sigmund/Nature92b.pdf) are prominent examples. Following [O'Riordan (2000)](http://jasss.soc.surrey.ac.uk/3/4/3.html), we will call this matrix the \u201ccanonical\u201d payoff.\n",
      "\n",
      "$^{26}$ Additionally, an evolutionary aspect arises when strategy success influences strategy persistence. We will address this in subsequent sections. In this paper we use \u2018evolve\u2019 only to denote structured change over time. See [Hodgson and Knudsen (2006)](http://www.geoffrey-hodgson.info/user/image/whyneedgendarwinism.pdf) for an extended discussion.\n",
      "\n",
      "$^{27}$ Since games know their players, the players_played attribute is somewhat redundant, but it proves convenient. Availability of a *reset* method will also prove useful later, when we introduce evolutionary considerations.\n",
      "\n",
      "$^{28}$ Using the super class's initialization is a very useful technique, although here it is primarily illustrative.\n",
      "\n",
      "$^{29}$ We could also endow players with memory of the move history, which might even deviate unreliably from the game history or be limited in capacity. We do not explore these possibilities in the present paper.\n",
      "\n",
      "$^{30}$ While most (29/36) pairs of players will quickly reach an \u201cequilibrium\u201d, in the sense that each player finds a single move to repeat, a CD-C/CD-D pair will switch moves every iteration for as long as they play.\n",
      "\n",
      "$^{31}$ Although we emphasize the simplicity of this setup, note that it can be mapped to the [Hodgson and Knudsen (2006)](http://www.geoffrey-hodgson.info/user/image/whyneedgendarwinism.pdf) definition of a complex system.\n",
      "\n",
      "$^{32}$ Readers with programming experience will notice that a *SoupPlayer* is not initialized with this attribute. Instead, the attribute is created dynamically the first time we call choose_next_type. In the present paper, we do not take up the controversies over dynamic attribute creation, other than to note here that if you do not like it you do not have to use it. (It is also possible in Python to block this feature in any user-created class.) In this paper we also directly access data attributes, which simplifies the presentation considerably. Those concerned that this violates OOP encapsulation practices will wish to look at how Python allows the use of properties to trap attribute references.\n",
      "\n",
      "$^{33}$ It is common (and simple) to add randomness to the evolutionary game we are illustrating by introducing a concept of \u201cselection pressure\u201d. Typically, a player will have a selection_pressure attribute which determines the probability of adopting the next_player_type. Selection pressure in this context is typically the probability of switching to a best strategy. In the present paper, we simplify the presentation by (effectively) adopting a selection pressure of 1.\n",
      "\n",
      "$^{34}$ This can raise the question: how randomly can we sort players into pairs? One common strategy is concatenating lists of each type of player and then permuting them [(Luna and Stefansson 2000)](http://jasss.soc.surrey.ac.uk/4/2/reviews/johnson.html). We will adopt this approach as appropriate for the \u201cevolutionary soup\u201d model in this paper, but it is worth noting that some interesting computational problems are posed by shuffling. These have been heavily studied because of the role of shuffling in card games. With only 52 cards in a deck, there are 52! (or almost 2226) different possible shuffles. Suppose we were working with a simple RNG algorithm based on a 32-bit random number generator: this yields 232 possible shuffles (one for each seed). This is radically less than the number of permutations. Only a small fraction of the possible shuffles are achievable. (Even modern generators with long periods can face this problem. The Mersenne Twister MT19937 for example, claims a period of 219937-1, but might be implemented with a 32 bit seed. Naturally the Python implementation allows a much larger seed size.)"
     ]
    },
    {
     "cell_type": "code",
     "collapsed": false,
     "input": [],
     "language": "python",
     "metadata": {},
     "outputs": []
    }
   ],
   "metadata": {}
  }
 ]
}